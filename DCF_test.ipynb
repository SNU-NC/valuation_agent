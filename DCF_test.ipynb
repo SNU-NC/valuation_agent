{
 "cells": [
  {
   "cell_type": "code",
   "execution_count": 1,
   "metadata": {},
   "outputs": [
    {
     "name": "stdout",
     "output_type": "stream",
     "text": [
      "\n",
      "Cost of Equity: 8.51%\n",
      "\n",
      "Growth Rate: 2.76%\n",
      "\n",
      "1년 평균 주당 가치 계산 결과: -31029.955344081958\n",
      "\n",
      "Cost of Equity: 8.51%\n",
      "\n",
      "Growth Rate: 6.74%\n",
      "\n",
      "2년 평균 주당 가치 계산 결과: -25674.23657955254\n",
      "\n",
      "Cost of Equity: 8.51%\n",
      "\n",
      "Growth Rate: 7.47%\n",
      "\n",
      "3년 평균 주당 가치 계산 결과: -4558.471605555522\n",
      "\n",
      "Cost of Equity: 8.51%\n",
      "\n",
      "Growth Rate: 7.24%\n",
      "\n",
      "4년 평균 주당 가치 계산 결과: 19663.543591339665\n",
      "actual_price: 53700.0\n",
      "Best Result: 19663.543591339665\n",
      "per_share: 19663.543591339665\n",
      "cost_of_equity: 0.08512\n",
      "growth_rate: 0.0724181338675813\n",
      "ratio_capex_ocf: 0.902019502461375\n",
      "ratio_repayment_issuance: 24.335344091944386\n"
     ]
    }
   ],
   "source": [
    "from DCF.calculators.valuation import ValuationCalculator\n",
    "\n",
    "valuation = ValuationCalculator(\"005930.KS\") # 삼성전자\n",
    "valuation_results = valuation.calculate_per_share()"
   ]
  },
  {
   "cell_type": "code",
   "execution_count": 2,
   "metadata": {},
   "outputs": [
    {
     "name": "stdout",
     "output_type": "stream",
     "text": [
      "\n",
      "Cost of Equity: 9.27%\n",
      "\n",
      "성장률 계산 중 오류 발생: ROE가 0보다 작거나 같습니다. DCF 계산이 불가능합니다.\n",
      "1년 평균 계산 중 오류 발생: 'NoneType' object is not subscriptable\n",
      "\n",
      "Cost of Equity: 9.27%\n",
      "\n",
      "성장률 계산 중 오류 발생: ROE가 0보다 작거나 같습니다. DCF 계산이 불가능합니다.\n",
      "2년 평균 계산 중 오류 발생: 'NoneType' object is not subscriptable\n",
      "\n",
      "Cost of Equity: 9.27%\n",
      "\n",
      "Growth Rate: 3.09%\n",
      "\n",
      "3년 평균 주당 가치 계산 결과: 109812.65824026191\n",
      "\n",
      "Cost of Equity: 9.27%\n",
      "\n",
      "Growth Rate: 4.42%\n",
      "\n",
      "4년 평균 주당 가치 계산 결과: 112668.72627984859\n",
      "actual_price: 173000.0\n",
      "Best Result: 112668.72627984859\n",
      "per_share: 112668.72627984859\n",
      "cost_of_equity: 0.09268\n",
      "growth_rate: 0.0442229494660025\n",
      "ratio_capex_ocf: 1.221828715611264\n",
      "ratio_repayment_issuance: 0.5639822241131897\n"
     ]
    }
   ],
   "source": [
    "from DCF.calculators.valuation import ValuationCalculator\n",
    "\n",
    "valuation = ValuationCalculator(\"000660.KS\") # sk하이닉스\n",
    "valuation_results = valuation.calculate_per_share()"
   ]
  },
  {
   "cell_type": "code",
   "execution_count": 3,
   "metadata": {},
   "outputs": [
    {
     "name": "stdout",
     "output_type": "stream",
     "text": [
      "\n",
      "Cost of Equity: 10.01%\n",
      "\n",
      "Growth Rate: 3.88%\n",
      "\n",
      "1년 평균 주당 가치 계산 결과: 126840.11959534891\n",
      "\n",
      "Cost of Equity: 10.01%\n",
      "\n",
      "Growth Rate: 3.44%\n",
      "\n",
      "2년 평균 주당 가치 계산 결과: 82102.42487245137\n",
      "\n",
      "Cost of Equity: 10.01%\n",
      "\n",
      "Growth Rate: 23.52%\n",
      "\n",
      "3년 평균 주당 가치 계산 결과: 4410605.857124514\n",
      "\n",
      "Cost of Equity: 10.01%\n",
      "\n",
      "Growth Rate: 20.46%\n",
      "\n",
      "4년 평균 주당 가치 계산 결과: 2637853.7359926165\n",
      "actual_price: 204000.0\n",
      "Best Result: 126840.11959534891\n",
      "per_share: 126840.11959534891\n",
      "cost_of_equity: 0.10011999999999999\n",
      "growth_rate: 0.03875874344166819\n",
      "ratio_capex_ocf: 0.3457444981005819\n",
      "ratio_repayment_issuance: 0.9875515590848111\n"
     ]
    }
   ],
   "source": [
    "from DCF.calculators.valuation import ValuationCalculator\n",
    "\n",
    "valuation = ValuationCalculator(\"035420.KS\") # 네이버\n",
    "valuation_results = valuation.calculate_per_share()"
   ]
  },
  {
   "cell_type": "code",
   "execution_count": 4,
   "metadata": {},
   "outputs": [
    {
     "name": "stdout",
     "output_type": "stream",
     "text": [
      "\n",
      "Cost of Equity: 7.49%\n",
      "\n",
      "Growth Rate: 2.55%\n",
      "\n",
      "1년 평균 주당 가치 계산 결과: 45901.03840104481\n",
      "\n",
      "Cost of Equity: 7.49%\n",
      "\n",
      "Growth Rate: 2.35%\n",
      "\n",
      "2년 평균 주당 가치 계산 결과: 62135.21064350715\n",
      "\n",
      "Cost of Equity: 7.49%\n",
      "\n",
      "Growth Rate: 3.42%\n",
      "\n",
      "3년 평균 주당 가치 계산 결과: 64800.36047959283\n",
      "\n",
      "Cost of Equity: 7.49%\n",
      "\n",
      "Growth Rate: 3.00%\n",
      "\n",
      "4년 평균 주당 가치 계산 결과: 69734.36383035195\n",
      "actual_price: 58200.0\n",
      "Best Result: 62135.21064350715\n",
      "per_share: 62135.21064350715\n",
      "cost_of_equity: 0.07486\n",
      "growth_rate: 0.023456927376760563\n",
      "ratio_capex_ocf: 0.6065869700675371\n",
      "ratio_repayment_issuance: 1.2096084214846115\n"
     ]
    }
   ],
   "source": [
    "from DCF.calculators.valuation import ValuationCalculator\n",
    "\n",
    "valuation = ValuationCalculator(\"017670.KS\") # SK텔레콤\n",
    "valuation_results = valuation.calculate_per_share()"
   ]
  },
  {
   "cell_type": "code",
   "execution_count": null,
   "metadata": {},
   "outputs": [],
   "source": []
  }
 ],
 "metadata": {
  "kernelspec": {
   "display_name": "valuation-kO8nQuny-py3.11",
   "language": "python",
   "name": "python3"
  },
  "language_info": {
   "codemirror_mode": {
    "name": "ipython",
    "version": 3
   },
   "file_extension": ".py",
   "mimetype": "text/x-python",
   "name": "python",
   "nbconvert_exporter": "python",
   "pygments_lexer": "ipython3",
   "version": "3.11.9"
  }
 },
 "nbformat": 4,
 "nbformat_minor": 2
}
