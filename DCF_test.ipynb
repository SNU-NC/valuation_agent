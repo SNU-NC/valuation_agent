{
 "cells": [
  {
   "cell_type": "code",
   "execution_count": null,
   "metadata": {},
   "outputs": [],
   "source": [
    "import os\n",
    "import sys\n",
    "\n",
    "# 현재 작업 디렉토리를 가져와서 상위 디렉토리를 path에 추가\n",
    "current_dir = os.getcwd()\n",
    "parent_dir = os.path.dirname(current_dir)\n",
    "sys.path.append(parent_dir)\n",
    "\n",
    "import pandas as pd\n",
    "import numpy as np\n",
    "import yfinance as yf\n",
    "from dotenv import load_dotenv\n",
    "from DCF.collectors.financial_data_collector import FinancialDataCollector\n",
    "from DCF.calculators.wacc_calculator import WACCCalculator\n",
    "from DCF.calculators.fcff_calculator import FCFFCalculator\n",
    "from DCF.calculators.growth_calculator_shareholder import GrowthCalculatorShareholder\n",
    "\n",
    "load_dotenv()"
   ]
  },
  {
   "cell_type": "code",
   "execution_count": null,
   "metadata": {},
   "outputs": [],
   "source": [
    "yf.Ticker(\"005930.KS\").cashflow"
   ]
  },
  {
   "cell_type": "code",
   "execution_count": null,
   "metadata": {},
   "outputs": [],
   "source": [
    "import importlib\n",
    "from DCF.calculators import fcfe_calculator as fcfe_module  # 모듈을 임포트\n",
    "from DCF.collectors import financial_data_collector as collector_module\n",
    "\n",
    "# 모듈 리로드\n",
    "importlib.reload(fcfe_module)   \n",
    "importlib.reload(collector_module)\n",
    "\n",
    "# FCFECalculator 클래스 다시 가져오기\n",
    "from DCF.calculators.fcfe_calculator import FCFECalculator\n",
    "from DCF.collectors.financial_data_collector import FinancialDataCollector\n",
    "\n",
    "fcfe_calculator = FCFECalculator(\"005930.KS\")\n",
    "fcfe_results = fcfe_calculator.calculate_fcfe()"
   ]
  },
  {
   "cell_type": "code",
   "execution_count": null,
   "metadata": {},
   "outputs": [],
   "source": [
    "from DCF.calculators import growth_calculator_shareholder as growth_module\n",
    "from DCF.collectors import info_data_collector as info_module\n",
    "\n",
    "importlib.reload(growth_module)\n",
    "importlib.reload(info_module)\n",
    "\n",
    "from DCF.calculators.growth_calculator_shareholder import GrowthCalculatorShareholder\n",
    "from DCF.collectors.info_data_collector import InfoDataCollector\n",
    "\n",
    "growth_calculator = GrowthCalculatorShareholder(\"005930.KS\")\n",
    "growth_results = growth_calculator.calculate_growth_rate()"
   ]
  },
  {
   "cell_type": "code",
   "execution_count": 1,
   "metadata": {},
   "outputs": [
    {
     "name": "stdout",
     "output_type": "stream",
     "text": [
      "\n",
      "FCFE:\n",
      "FCFE: -15,116,207,000,000\n",
      "Operating Cash Flow: 44,137,427,000,000\n",
      "Capital Expenditure: 60,534,167,000,000\n",
      "Repayment of Debt: -1,219,579,000,000\n",
      "Issuance of Debt: 2,500,112,000,000\n"
     ]
    },
    {
     "name": "stderr",
     "output_type": "stream",
     "text": [
      "[*********************100%***********************]  1 of 1 completed\n",
      "[*********************100%***********************]  1 of 1 completed\n"
     ]
    },
    {
     "name": "stdout",
     "output_type": "stream",
     "text": [
      "WACC: 8.61%\n",
      "Cost of Equity: 9.90%\n",
      "Cost of Debt: 4.50%\n",
      "Equity Weight: 79.77%\n",
      "Debt Weight: 20.23%\n",
      "Risk-free Rate: 4.23%\n",
      "Market Risk Premium: 7.70%\n",
      "Beta: 0.74\n",
      "Effective Tax Rate: 22.00%\n",
      "retention_ratio: 0.6940999999999999\n",
      "net_income: 14473401000000.0\n",
      "total_equity: 363677865000000.0\n",
      "\n",
      "성장률 계산 결과:\n",
      "성장률: 2.76%\n",
      "\n",
      "구성 요소:\n",
      "Retention Ratio: 0.69\n",
      "ROE: 0.04\n",
      "_1year_fcfe: -15116207000000.0\n",
      "_2year_fcfe: -14698647276928.88\n",
      "_3year_fcfe: -14292621936942.832\n",
      "_4year_fcfe: -13897812362163.256\n",
      "_5year_fcfe: -13513908735993.062\n",
      "\n",
      "FCFE:\n",
      "FCFE: -15,116,207,000,000\n",
      "Operating Cash Flow: 44,137,427,000,000\n",
      "Capital Expenditure: 60,534,167,000,000\n",
      "Repayment of Debt: -1,219,579,000,000\n",
      "Issuance of Debt: 2,500,112,000,000\n"
     ]
    },
    {
     "name": "stderr",
     "output_type": "stream",
     "text": [
      "[*********************100%***********************]  1 of 1 completed\n",
      "[*********************100%***********************]  1 of 1 completed\n"
     ]
    },
    {
     "name": "stdout",
     "output_type": "stream",
     "text": [
      "WACC: 8.61%\n",
      "Cost of Equity: 9.90%\n",
      "Cost of Debt: 4.50%\n",
      "Equity Weight: 79.77%\n",
      "Debt Weight: 20.23%\n",
      "Risk-free Rate: 4.23%\n",
      "Market Risk Premium: 7.70%\n",
      "Beta: 0.74\n",
      "Effective Tax Rate: 22.00%\n",
      "retention_ratio: 0.6940999999999999\n",
      "net_income: 14473401000000.0\n",
      "total_equity: 363677865000000.0\n",
      "\n",
      "성장률 계산 결과:\n",
      "성장률: 2.76%\n",
      "\n",
      "구성 요소:\n",
      "Retention Ratio: 0.69\n",
      "ROE: 0.04\n",
      "_6year_fcfe: -13140609799996.113\n",
      "terminal_value: 224686883470095.8\n",
      "Total Value: 163362110380525.8\n",
      "Per Share: 27364.84497767096\n"
     ]
    }
   ],
   "source": [
    "from DCF.calculators.valuation import ValuationCalculator\n",
    "\n",
    "valuation = ValuationCalculator(\"005930.KS\")\n",
    "valuation_results = valuation.calculate_per_share()"
   ]
  },
  {
   "cell_type": "code",
   "execution_count": null,
   "metadata": {},
   "outputs": [],
   "source": [
    "import importlib\n",
    "from DCF.calculators import wacc_calculator as wacc_module  # 모듈을 임포트\n",
    "\n",
    "# 모듈 리로드\n",
    "importlib.reload(wacc_module)\n",
    "\n",
    "# FCFFCalculator 클래스 다시 가져오기\n",
    "from DCF.calculators.wacc_calculator import WACCCalculator\n",
    "\n",
    "wacc_calculator = WACCCalculator(\"005930.KS\")\n",
    "wacc_results = wacc_calculator.calculate_wacc()"
   ]
  },
  {
   "cell_type": "code",
   "execution_count": null,
   "metadata": {},
   "outputs": [],
   "source": [
    "collector = FinancialDataCollector(\"005930.KS\")\n",
    "metrics = collector.extract_financial_metrics()\n",
    "print(metrics)"
   ]
  },
  {
   "cell_type": "code",
   "execution_count": null,
   "metadata": {},
   "outputs": [],
   "source": [
    "import DCF.calculators.growth_calculator as growth_module\n",
    "import DCF.collectors.financial_data_collector as collector_module\n",
    "import DCF.utils.financial_utils as financial_utils_module\n",
    "\n",
    "importlib.reload(financial_utils_module)\n",
    "importlib.reload(collector_module)\n",
    "importlib.reload(growth_module)\n",
    "\n",
    "from DCF.collectors.financial_data_collector import FinancialDataCollector\n",
    "from DCF.calculators.growth_calculator import GrowthCalculator\n",
    "from DCF.utils.financial_utils import calculate_effective_tax_rate\n",
    "\n",
    "growth_calculator = GrowthCalculator(\"005930.KS\") # 1년만 보고 성장률 계산하지말고 여러 해의 성장률 계산\n",
    "growth_results = growth_calculator.calculate_growth_rate()"
   ]
  },
  {
   "cell_type": "code",
   "execution_count": null,
   "metadata": {},
   "outputs": [],
   "source": [
    "import DCF.calculators.growth_calculator as growth_module\n",
    "import DCF.collectors.financial_data_collector as collector_module\n",
    "importlib.reload(growth_module)\n",
    "importlib.reload(collector_module)\n",
    "from DCF.calculators.growth_calculator import GrowthCalculator\n",
    "from DCF.collectors.financial_data_collector import FinancialDataCollector\n",
    "\n",
    "growth_calculator = GrowthCalculator(\"035420.KS\") # 여러 해의 성장률 계산\n",
    "growth_results = growth_calculator.calculate_average_growth_rate()"
   ]
  },
  {
   "cell_type": "code",
   "execution_count": null,
   "metadata": {},
   "outputs": [],
   "source": [
    "import DCF.calculators.growth_calculator as growth_module\n",
    "import DCF.collectors.financial_data_collector as collector_module\n",
    "importlib.reload(growth_module)\n",
    "importlib.reload(collector_module)\n",
    "from DCF.calculators.growth_calculator import GrowthCalculator\n",
    "from DCF.collectors.financial_data_collector import FinancialDataCollector\n",
    "\n",
    "growth_calculator = GrowthCalculator(\"000660.KS\") # 여러 해의 성장률 계산\n",
    "growth_results = growth_calculator.calculate_average_growth_rate()"
   ]
  },
  {
   "cell_type": "code",
   "execution_count": null,
   "metadata": {},
   "outputs": [],
   "source": [
    "yf.Ticker??"
   ]
  },
  {
   "cell_type": "code",
   "execution_count": null,
   "metadata": {},
   "outputs": [],
   "source": [
    "yf.Ticker(\"005930.KS\").info"
   ]
  },
  {
   "cell_type": "code",
   "execution_count": null,
   "metadata": {},
   "outputs": [],
   "source": [
    "yf.Ticker(\"035420.KS\").dividends"
   ]
  }
 ],
 "metadata": {
  "kernelspec": {
   "display_name": "valuation-kO8nQuny-py3.11",
   "language": "python",
   "name": "python3"
  },
  "language_info": {
   "codemirror_mode": {
    "name": "ipython",
    "version": 3
   },
   "file_extension": ".py",
   "mimetype": "text/x-python",
   "name": "python",
   "nbconvert_exporter": "python",
   "pygments_lexer": "ipython3",
   "version": "3.11.9"
  }
 },
 "nbformat": 4,
 "nbformat_minor": 2
}
