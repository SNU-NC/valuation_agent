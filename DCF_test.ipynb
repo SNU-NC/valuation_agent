{
 "cells": [
  {
   "cell_type": "code",
   "execution_count": 1,
   "metadata": {},
   "outputs": [
    {
     "name": "stdout",
     "output_type": "stream",
     "text": [
      "Capital Expenditure / Operating Cash Flow: 137.15%\n",
      "\n",
      "Cost of Equity: 8.51%\n",
      "\n",
      "Growth Rate: 2.76%\n",
      "\n",
      "Per Share: -7600.225326458836\n"
     ]
    }
   ],
   "source": [
    "from DCF.calculators.valuation import ValuationCalculator\n",
    "\n",
    "valuation = ValuationCalculator(\"005930.KS\") # 삼성전자\n",
    "valuation_results = valuation.calculate_per_share()"
   ]
  },
  {
   "cell_type": "code",
   "execution_count": 2,
   "metadata": {},
   "outputs": [
    {
     "name": "stdout",
     "output_type": "stream",
     "text": [
      "Capital Expenditure / Operating Cash Flow: 198.86%\n",
      "\n",
      "Cost of Equity: 9.27%\n",
      "\n",
      "성장률 계산 중 오류 발생: ROE가 0보다 작거나 같습니다. DCF 계산이 불가능합니다.\n"
     ]
    },
    {
     "ename": "TypeError",
     "evalue": "'NoneType' object is not subscriptable",
     "output_type": "error",
     "traceback": [
      "\u001b[0;31m---------------------------------------------------------------------------\u001b[0m",
      "\u001b[0;31mTypeError\u001b[0m                                 Traceback (most recent call last)",
      "Cell \u001b[0;32mIn[2], line 4\u001b[0m\n\u001b[1;32m      1\u001b[0m \u001b[38;5;28;01mfrom\u001b[39;00m \u001b[38;5;21;01mDCF\u001b[39;00m\u001b[38;5;21;01m.\u001b[39;00m\u001b[38;5;21;01mcalculators\u001b[39;00m\u001b[38;5;21;01m.\u001b[39;00m\u001b[38;5;21;01mvaluation\u001b[39;00m \u001b[38;5;28;01mimport\u001b[39;00m ValuationCalculator\n\u001b[1;32m      3\u001b[0m valuation \u001b[38;5;241m=\u001b[39m ValuationCalculator(\u001b[38;5;124m\"\u001b[39m\u001b[38;5;124m000660.KS\u001b[39m\u001b[38;5;124m\"\u001b[39m) \u001b[38;5;66;03m# sk하이닉스\u001b[39;00m\n\u001b[0;32m----> 4\u001b[0m valuation_results \u001b[38;5;241m=\u001b[39m \u001b[43mvaluation\u001b[49m\u001b[38;5;241;43m.\u001b[39;49m\u001b[43mcalculate_per_share\u001b[49m\u001b[43m(\u001b[49m\u001b[43m)\u001b[49m\n",
      "File \u001b[0;32m/Volumes/JH_64_USB/Valuation/DCF/calculators/valuation.py:122\u001b[0m, in \u001b[0;36mValuationCalculator.calculate_per_share\u001b[0;34m(self, period)\u001b[0m\n\u001b[1;32m    120\u001b[0m \u001b[38;5;28;01mdef\u001b[39;00m \u001b[38;5;21mcalculate_per_share\u001b[39m(\u001b[38;5;28mself\u001b[39m, period: \u001b[38;5;28mstr\u001b[39m \u001b[38;5;241m=\u001b[39m \u001b[38;5;124m\"\u001b[39m\u001b[38;5;124mannual\u001b[39m\u001b[38;5;124m\"\u001b[39m) \u001b[38;5;241m-\u001b[39m\u001b[38;5;241m>\u001b[39m \u001b[38;5;28mfloat\u001b[39m:\n\u001b[1;32m    121\u001b[0m \u001b[38;5;250m    \u001b[39m\u001b[38;5;124;03m\"\"\"주당가치 계산\"\"\"\u001b[39;00m\n\u001b[0;32m--> 122\u001b[0m     total_value, fcfe, wacc, growth_rate_fcfe, growth_rate_tv \u001b[38;5;241m=\u001b[39m \u001b[38;5;28;43mself\u001b[39;49m\u001b[38;5;241;43m.\u001b[39;49m\u001b[43mcalculate_total_value\u001b[49m\u001b[43m(\u001b[49m\u001b[43mperiod\u001b[49m\u001b[43m)\u001b[49m\n\u001b[1;32m    123\u001b[0m     per_share \u001b[38;5;241m=\u001b[39m total_value \u001b[38;5;241m/\u001b[39m \u001b[38;5;28mself\u001b[39m\u001b[38;5;241m.\u001b[39mshares_outstanding\n\u001b[1;32m    124\u001b[0m     \u001b[38;5;28mprint\u001b[39m(\u001b[38;5;124mf\u001b[39m\u001b[38;5;124m\"\u001b[39m\u001b[38;5;124mPer Share: \u001b[39m\u001b[38;5;132;01m{\u001b[39;00mper_share\u001b[38;5;132;01m}\u001b[39;00m\u001b[38;5;124m\"\u001b[39m)\n",
      "File \u001b[0;32m/Volumes/JH_64_USB/Valuation/DCF/calculators/valuation.py:109\u001b[0m, in \u001b[0;36mValuationCalculator.calculate_total_value\u001b[0;34m(self, period)\u001b[0m\n\u001b[1;32m    106\u001b[0m cost_of_equity \u001b[38;5;241m=\u001b[39m calculated_wacc[\u001b[38;5;124m'\u001b[39m\u001b[38;5;124mCost of Equity\u001b[39m\u001b[38;5;124m'\u001b[39m]\n\u001b[1;32m    108\u001b[0m calculated_net_income_growth_rate \u001b[38;5;241m=\u001b[39m \u001b[38;5;28mself\u001b[39m\u001b[38;5;241m.\u001b[39m_calculate_net_income_growth_rate()\n\u001b[0;32m--> 109\u001b[0m net_income_growth_rate \u001b[38;5;241m=\u001b[39m \u001b[43mcalculated_net_income_growth_rate\u001b[49m\u001b[43m[\u001b[49m\u001b[38;5;124;43m'\u001b[39;49m\u001b[38;5;124;43mGrowth Rate\u001b[39;49m\u001b[38;5;124;43m'\u001b[39;49m\u001b[43m]\u001b[49m\n\u001b[1;32m    110\u001b[0m retention_ratio \u001b[38;5;241m=\u001b[39m calculated_net_income_growth_rate[\u001b[38;5;124m'\u001b[39m\u001b[38;5;124mRetention Ratio\u001b[39m\u001b[38;5;124m'\u001b[39m]\n\u001b[1;32m    112\u001b[0m _5year_pv, after_5year_fcfe \u001b[38;5;241m=\u001b[39m \u001b[38;5;28mself\u001b[39m\u001b[38;5;241m.\u001b[39mcalculate_5year_present_value(period, fcfe, cost_of_equity, net_income_growth_rate, retention_ratio)\n",
      "\u001b[0;31mTypeError\u001b[0m: 'NoneType' object is not subscriptable"
     ]
    }
   ],
   "source": [
    "from DCF.calculators.valuation import ValuationCalculator\n",
    "\n",
    "valuation = ValuationCalculator(\"000660.KS\") # sk하이닉스\n",
    "valuation_results = valuation.calculate_per_share()"
   ]
  },
  {
   "cell_type": "code",
   "execution_count": 3,
   "metadata": {},
   "outputs": [
    {
     "name": "stdout",
     "output_type": "stream",
     "text": [
      "Capital Expenditure / Operating Cash Flow: 34.57%\n",
      "\n",
      "Cost of Equity: 10.01%\n",
      "\n",
      "Growth Rate: 3.88%\n",
      "\n",
      "Per Share: 92174.49868688616\n"
     ]
    }
   ],
   "source": [
    "from DCF.calculators.valuation import ValuationCalculator\n",
    "\n",
    "valuation = ValuationCalculator(\"035420.KS\") # 네이버\n",
    "valuation_results = valuation.calculate_per_share()"
   ]
  },
  {
   "cell_type": "code",
   "execution_count": 4,
   "metadata": {},
   "outputs": [
    {
     "name": "stdout",
     "output_type": "stream",
     "text": [
      "Capital Expenditure / Operating Cash Flow: 62.27%\n",
      "\n",
      "Cost of Equity: 7.49%\n",
      "\n",
      "Growth Rate: 2.55%\n",
      "\n",
      "Per Share: 2100.6230984888603\n"
     ]
    }
   ],
   "source": [
    "from DCF.calculators.valuation import ValuationCalculator\n",
    "\n",
    "valuation = ValuationCalculator(\"017670.KS\") # SK텔레콤\n",
    "valuation_results = valuation.calculate_per_share()"
   ]
  },
  {
   "cell_type": "code",
   "execution_count": null,
   "metadata": {},
   "outputs": [],
   "source": []
  }
 ],
 "metadata": {
  "kernelspec": {
   "display_name": "valuation-kO8nQuny-py3.11",
   "language": "python",
   "name": "python3"
  },
  "language_info": {
   "codemirror_mode": {
    "name": "ipython",
    "version": 3
   },
   "file_extension": ".py",
   "mimetype": "text/x-python",
   "name": "python",
   "nbconvert_exporter": "python",
   "pygments_lexer": "ipython3",
   "version": "3.11.9"
  }
 },
 "nbformat": 4,
 "nbformat_minor": 2
}
