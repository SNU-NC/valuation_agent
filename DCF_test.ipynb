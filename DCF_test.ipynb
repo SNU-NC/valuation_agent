{
 "cells": [
  {
   "cell_type": "code",
   "execution_count": 4,
   "metadata": {},
   "outputs": [
    {
     "name": "stdout",
     "output_type": "stream",
     "text": [
      "1년 평균 계산 중 오류 발생: 'result_1year'\n",
      "2년 평균 계산 중 오류 발생: 'result_2year'\n",
      "3년 평균 계산 중 오류 발생: 'result_3year'\n",
      "====================================================================================================\n",
      "4년 평균 주당 가치 계산 결과: 15695.672526051203\n",
      "\n",
      "====================================================================================================\n",
      "actual_price: 53700.0\n",
      "Best Result: 15695.672526051203\n",
      "====================================================================================================\n",
      "per_share: 15695.672526051203\n",
      "cost_of_equity: 0.08512\n",
      "growth_rate: 0.0724181338675813\n",
      "ratio_capex_ocf: 0.902019502461375\n",
      "ratio_repayment_issuance: 24.335344091944386\n"
     ]
    }
   ],
   "source": [
    "from DCF.calculators.valuation import ValuationCalculator\n",
    "\n",
    "valuation = ValuationCalculator(\"005930.KS\") # 삼성전자\n",
    "valuation_results = valuation.calculate_per_share()"
   ]
  },
  {
   "cell_type": "code",
   "execution_count": 5,
   "metadata": {},
   "outputs": [
    {
     "name": "stdout",
     "output_type": "stream",
     "text": [
      "1년 평균 계산 중 오류 발생: 'result_1year'\n",
      "2년 평균 계산 중 오류 발생: 'result_2year'\n",
      "====================================================================================================\n",
      "3년 평균 주당 가치 계산 결과: 101631.98623183098\n",
      "\n",
      "====================================================================================================\n",
      "4년 평균 주당 가치 계산 결과: 97492.85749854174\n",
      "\n",
      "====================================================================================================\n",
      "actual_price: 173000.0\n",
      "Best Result: 101631.98623183098\n",
      "====================================================================================================\n",
      "per_share: 101631.98623183098\n",
      "cost_of_equity: 0.09268\n",
      "growth_rate: 0.03090855640201742\n",
      "ratio_capex_ocf: 1.334890049436419\n",
      "ratio_repayment_issuance: 0.49929907274031654\n"
     ]
    }
   ],
   "source": [
    "from DCF.calculators.valuation import ValuationCalculator\n",
    "\n",
    "valuation = ValuationCalculator(\"000660.KS\") # sk하이닉스\n",
    "valuation_results = valuation.calculate_per_share()"
   ]
  },
  {
   "cell_type": "code",
   "execution_count": 6,
   "metadata": {},
   "outputs": [
    {
     "name": "stdout",
     "output_type": "stream",
     "text": [
      "====================================================================================================\n",
      "1년 평균 주당 가치 계산 결과: 112993.54163506778\n",
      "\n",
      "====================================================================================================\n",
      "2년 평균 주당 가치 계산 결과: 74753.61689723302\n",
      "\n",
      "====================================================================================================\n",
      "3년 평균 주당 가치 계산 결과: 1454352.2038161648\n",
      "\n",
      "====================================================================================================\n",
      "4년 평균 주당 가치 계산 결과: 1008118.4495396825\n",
      "\n",
      "====================================================================================================\n",
      "actual_price: 204000.0\n",
      "Best Result: 112993.54163506778\n",
      "====================================================================================================\n",
      "per_share: 112993.54163506778\n",
      "cost_of_equity: 0.10011999999999999\n",
      "growth_rate: 0.03875874344166819\n",
      "ratio_capex_ocf: 0.3457444981005819\n",
      "ratio_repayment_issuance: 0.9875515590848111\n"
     ]
    }
   ],
   "source": [
    "from DCF.calculators.valuation import ValuationCalculator\n",
    "\n",
    "valuation = ValuationCalculator(\"035420.KS\") # 네이버\n",
    "valuation_results = valuation.calculate_per_share()"
   ]
  },
  {
   "cell_type": "code",
   "execution_count": 7,
   "metadata": {},
   "outputs": [
    {
     "name": "stdout",
     "output_type": "stream",
     "text": [
      "====================================================================================================\n",
      "1년 평균 주당 가치 계산 결과: 55528.612227342775\n",
      "\n",
      "====================================================================================================\n",
      "2년 평균 주당 가치 계산 결과: 75806.1269022434\n",
      "\n",
      "====================================================================================================\n",
      "3년 평균 주당 가치 계산 결과: 75582.13561095219\n",
      "\n",
      "====================================================================================================\n",
      "4년 평균 주당 가치 계산 결과: 82779.2053701283\n",
      "\n",
      "====================================================================================================\n",
      "actual_price: 58200.0\n",
      "Best Result: 55528.612227342775\n",
      "====================================================================================================\n",
      "per_share: 55528.612227342775\n",
      "cost_of_equity: 0.07486\n",
      "growth_rate: 0.02550602017347815\n",
      "ratio_capex_ocf: 0.6227037286710375\n",
      "ratio_repayment_issuance: 1.3839633406682514\n"
     ]
    }
   ],
   "source": [
    "from DCF.calculators.valuation import ValuationCalculator\n",
    "\n",
    "valuation = ValuationCalculator(\"017670.KS\") # SK텔레콤\n",
    "valuation_results = valuation.calculate_per_share()"
   ]
  },
  {
   "cell_type": "code",
   "execution_count": 1,
   "metadata": {},
   "outputs": [
    {
     "name": "stdout",
     "output_type": "stream",
     "text": [
      "====================================================================================================\n",
      "기업의 최근 4년간 ROE, FCFE가 0이거나 음수인 경우, 기업의 영속성을 담보할 수 없기 때문에, DCF 계산이 불가능합니다.\n",
      "====================================================================================================\n"
     ]
    }
   ],
   "source": [
    "from DCF.calculators.valuation import ValuationCalculator\n",
    "\n",
    "valuation = ValuationCalculator(\"373220.KS\") # LG에너지솔루션\n",
    "valuation_results = valuation.calculate_per_share()"
   ]
  },
  {
   "cell_type": "code",
   "execution_count": 2,
   "metadata": {},
   "outputs": [
    {
     "name": "stdout",
     "output_type": "stream",
     "text": [
      "====================================================================================================\n",
      "기업의 최근 4년간 ROE, FCFE가 0이거나 음수인 경우, 기업의 영속성을 담보할 수 없기 때문에, DCF 계산이 불가능합니다.\n",
      "====================================================================================================\n"
     ]
    }
   ],
   "source": [
    "from DCF.calculators.valuation import ValuationCalculator\n",
    "\n",
    "valuation = ValuationCalculator(\"251270.KS\") # Netmarble\n",
    "valuation_results = valuation.calculate_per_share()"
   ]
  },
  {
   "cell_type": "code",
   "execution_count": 3,
   "metadata": {},
   "outputs": [
    {
     "name": "stdout",
     "output_type": "stream",
     "text": [
      "====================================================================================================\n",
      "기업의 최근 4년간 ROE, FCFE가 0이거나 음수인 경우, 기업의 영속성을 담보할 수 없기 때문에, DCF 계산이 불가능합니다.\n",
      "====================================================================================================\n"
     ]
    }
   ],
   "source": [
    "from DCF.calculators.valuation import ValuationCalculator\n",
    "\n",
    "valuation = ValuationCalculator(\"003670.KS\") # 포스코퓨처엠\n",
    "valuation_results = valuation.calculate_per_share()"
   ]
  },
  {
   "cell_type": "code",
   "execution_count": 4,
   "metadata": {},
   "outputs": [
    {
     "data": {
      "text/plain": [
       "2023-12-31               0\n",
       "2022-12-31    7000000000.0\n",
       "2021-12-31               0\n",
       "2020-12-31               0\n",
       "2019-12-31               0\n",
       "Name: Issuance Of Debt, dtype: object"
      ]
     },
     "execution_count": 4,
     "metadata": {},
     "output_type": "execute_result"
    }
   ],
   "source": [
    "import yfinance as yf\n",
    "\n",
    "yf.Ticker(\"259960.KS\").cashflow.loc['Issuance Of Debt'].fillna(0)\n",
    "\n"
   ]
  },
  {
   "cell_type": "code",
   "execution_count": 5,
   "metadata": {},
   "outputs": [
    {
     "name": "stderr",
     "output_type": "stream",
     "text": [
      "/Volumes/JH_64_USB/Valuation/DCF/calculators/fcfe_calculator.py:51: RuntimeWarning: invalid value encountered in scalar divide\n",
      "  ratio_repayment_issuance = -metrics['repayment_of_debt'].iloc[i] / metrics['issuance_of_debt'].iloc[i]\n"
     ]
    },
    {
     "name": "stdout",
     "output_type": "stream",
     "text": [
      "====================================================================================================\n",
      "1년 평균 주당 가치 계산 결과: 231550.3948524039\n",
      "\n"
     ]
    },
    {
     "name": "stderr",
     "output_type": "stream",
     "text": [
      "/Volumes/JH_64_USB/Valuation/DCF/calculators/fcfe_calculator.py:51: RuntimeWarning: invalid value encountered in scalar divide\n",
      "  ratio_repayment_issuance = -metrics['repayment_of_debt'].iloc[i] / metrics['issuance_of_debt'].iloc[i]\n"
     ]
    },
    {
     "name": "stdout",
     "output_type": "stream",
     "text": [
      "====================================================================================================\n",
      "2년 평균 주당 가치 계산 결과: 199927.7591272905\n",
      "\n"
     ]
    },
    {
     "name": "stderr",
     "output_type": "stream",
     "text": [
      "/Volumes/JH_64_USB/Valuation/DCF/calculators/fcfe_calculator.py:51: RuntimeWarning: invalid value encountered in scalar divide\n",
      "  ratio_repayment_issuance = -metrics['repayment_of_debt'].iloc[i] / metrics['issuance_of_debt'].iloc[i]\n",
      "/Volumes/JH_64_USB/Valuation/DCF/calculators/fcfe_calculator.py:51: RuntimeWarning: divide by zero encountered in scalar divide\n",
      "  ratio_repayment_issuance = -metrics['repayment_of_debt'].iloc[i] / metrics['issuance_of_debt'].iloc[i]\n"
     ]
    },
    {
     "name": "stdout",
     "output_type": "stream",
     "text": [
      "====================================================================================================\n",
      "3년 평균 주당 가치 계산 결과: 215506.7492573001\n",
      "\n"
     ]
    },
    {
     "name": "stderr",
     "output_type": "stream",
     "text": [
      "/Volumes/JH_64_USB/Valuation/DCF/calculators/fcfe_calculator.py:51: RuntimeWarning: invalid value encountered in scalar divide\n",
      "  ratio_repayment_issuance = -metrics['repayment_of_debt'].iloc[i] / metrics['issuance_of_debt'].iloc[i]\n",
      "/Volumes/JH_64_USB/Valuation/DCF/calculators/fcfe_calculator.py:51: RuntimeWarning: divide by zero encountered in scalar divide\n",
      "  ratio_repayment_issuance = -metrics['repayment_of_debt'].iloc[i] / metrics['issuance_of_debt'].iloc[i]\n"
     ]
    },
    {
     "name": "stdout",
     "output_type": "stream",
     "text": [
      "====================================================================================================\n",
      "4년 평균 주당 가치 계산 결과: 396114.5425427137\n",
      "\n",
      "====================================================================================================\n",
      "actual_price: 316500.0\n",
      "Best Result: 396114.5425427137\n",
      "====================================================================================================\n",
      "per_share: 396114.5425427137\n",
      "cost_of_equity: 0.12010000000000001\n",
      "growth_rate: 0.1939614725952929\n",
      "ratio_capex_ocf: 0.06130404826616058\n",
      "ratio_repayment_issuance: nan\n"
     ]
    }
   ],
   "source": [
    "from DCF.calculators.valuation import ValuationCalculator\n",
    "\n",
    "valuation = ValuationCalculator(\"259960.KS\") # 크래프톤\n",
    "valuation_results = valuation.calculate_per_share()"
   ]
  },
  {
   "cell_type": "code",
   "execution_count": 6,
   "metadata": {},
   "outputs": [
    {
     "name": "stdout",
     "output_type": "stream",
     "text": [
      "====================================================================================================\n",
      "2년 평균 주당 가치 계산 결과: 13058.352468734689\n",
      "\n",
      "====================================================================================================\n",
      "3년 평균 주당 가치 계산 결과: 29599.988559774167\n",
      "\n",
      "====================================================================================================\n",
      "4년 평균 주당 가치 계산 결과: 28938.11780115786\n",
      "\n",
      "====================================================================================================\n",
      "actual_price: 44100.0\n",
      "Best Result: 29599.988559774167\n",
      "====================================================================================================\n",
      "per_share: 29599.988559774167\n",
      "cost_of_equity: 0.11512\n",
      "growth_rate: 0.04322017683875994\n",
      "ratio_capex_ocf: 0.5899757241955549\n",
      "ratio_repayment_issuance: 0.6581494003578964\n"
     ]
    }
   ],
   "source": [
    "from DCF.calculators.valuation import ValuationCalculator\n",
    "\n",
    "valuation = ValuationCalculator(\"035720.KS\") # 카카오\n",
    "valuation_results = valuation.calculate_per_share()"
   ]
  },
  {
   "cell_type": "code",
   "execution_count": 7,
   "metadata": {},
   "outputs": [
    {
     "name": "stdout",
     "output_type": "stream",
     "text": [
      "====================================================================================================\n",
      "1년 평균 주당 가치 계산 결과: 40492.485665609325\n",
      "\n",
      "====================================================================================================\n",
      "2년 평균 주당 가치 계산 결과: 88584.9064867448\n",
      "\n",
      "====================================================================================================\n",
      "3년 평균 주당 가치 계산 결과: 56497.22084808542\n",
      "\n",
      "====================================================================================================\n",
      "4년 평균 주당 가치 계산 결과: 31484.24792739185\n",
      "\n",
      "====================================================================================================\n",
      "actual_price: 24550.0\n",
      "Best Result: 31484.24792739185\n",
      "====================================================================================================\n",
      "per_share: 31484.24792739185\n",
      "cost_of_equity: 0.09994\n",
      "growth_rate: 0.0585206449529399\n",
      "ratio_capex_ocf: 0.288261414250798\n",
      "ratio_repayment_issuance: 2.0388465583117\n"
     ]
    }
   ],
   "source": [
    "from DCF.calculators.valuation import ValuationCalculator\n",
    "\n",
    "valuation = ValuationCalculator(\"003490.KS\") # 대한항공\n",
    "valuation_results = valuation.calculate_per_share()"
   ]
  },
  {
   "cell_type": "code",
   "execution_count": 8,
   "metadata": {},
   "outputs": [
    {
     "name": "stdout",
     "output_type": "stream",
     "text": [
      "====================================================================================================\n",
      "1년 평균 주당 가치 계산 결과: 11679.396560132433\n",
      "\n",
      "====================================================================================================\n",
      "2년 평균 주당 가치 계산 결과: 179990.64639337178\n",
      "\n",
      "====================================================================================================\n",
      "3년 평균 주당 가치 계산 결과: 193981.75577218377\n",
      "\n",
      "====================================================================================================\n",
      "4년 평균 주당 가치 계산 결과: 221513.59970364257\n",
      "\n",
      "====================================================================================================\n",
      "actual_price: 204500.0\n",
      "Best Result: 193981.75577218377\n",
      "====================================================================================================\n",
      "per_share: 193981.75577218377\n",
      "cost_of_equity: 0.10203999999999999\n",
      "growth_rate: 0.0613198341271539\n",
      "ratio_capex_ocf: -2.6523121714908644\n",
      "ratio_repayment_issuance: 0.8400296456143841\n"
     ]
    }
   ],
   "source": [
    "from DCF.calculators.valuation import ValuationCalculator\n",
    "\n",
    "valuation = ValuationCalculator(\"005380.KS\") # 현대자동차\n",
    "valuation_results = valuation.calculate_per_share()"
   ]
  },
  {
   "cell_type": "code",
   "execution_count": null,
   "metadata": {},
   "outputs": [],
   "source": []
  }
 ],
 "metadata": {
  "kernelspec": {
   "display_name": "valuation-kO8nQuny-py3.11",
   "language": "python",
   "name": "python3"
  },
  "language_info": {
   "codemirror_mode": {
    "name": "ipython",
    "version": 3
   },
   "file_extension": ".py",
   "mimetype": "text/x-python",
   "name": "python",
   "nbconvert_exporter": "python",
   "pygments_lexer": "ipython3",
   "version": "3.11.9"
  }
 },
 "nbformat": 4,
 "nbformat_minor": 2
}
