{
 "cells": [
  {
   "cell_type": "code",
   "execution_count": 1,
   "metadata": {},
   "outputs": [
    {
     "name": "stdout",
     "output_type": "stream",
     "text": [
      "====================================================================================================\n",
      "1년 평균 주당 가치 계산 결과: -31029.955344081958\n",
      "\n",
      "====================================================================================================\n",
      "2년 평균 주당 가치 계산 결과: -25674.23657955254\n",
      "\n",
      "====================================================================================================\n",
      "3년 평균 주당 가치 계산 결과: -4558.471605555522\n",
      "\n",
      "====================================================================================================\n",
      "4년 평균 주당 가치 계산 결과: 19663.543591339665\n",
      "\n",
      "====================================================================================================\n",
      "actual_price: 53700.0\n",
      "Best Result: 19663.543591339665\n",
      "====================================================================================================\n",
      "per_share: 19663.543591339665\n",
      "cost_of_equity: 0.08512\n",
      "growth_rate: 0.0724181338675813\n",
      "ratio_capex_ocf: 0.902019502461375\n",
      "ratio_repayment_issuance: 24.335344091944386\n"
     ]
    }
   ],
   "source": [
    "from DCF.calculators.valuation import ValuationCalculator\n",
    "\n",
    "valuation = ValuationCalculator(\"005930.KS\") # 삼성전자\n",
    "valuation_results = valuation.calculate_per_share()"
   ]
  },
  {
   "cell_type": "code",
   "execution_count": 2,
   "metadata": {},
   "outputs": [
    {
     "name": "stdout",
     "output_type": "stream",
     "text": [
      "성장률 계산 중 오류 발생: ROE가 0보다 작거나 같습니다. DCF 계산이 불가능합니다.\n",
      "1년 평균 계산 중 오류 발생: 'NoneType' object is not subscriptable\n",
      "성장률 계산 중 오류 발생: ROE가 0보다 작거나 같습니다. DCF 계산이 불가능합니다.\n",
      "2년 평균 계산 중 오류 발생: 'NoneType' object is not subscriptable\n",
      "====================================================================================================\n",
      "3년 평균 주당 가치 계산 결과: 109812.65824026191\n",
      "\n",
      "====================================================================================================\n",
      "4년 평균 주당 가치 계산 결과: 112668.72627984859\n",
      "\n",
      "====================================================================================================\n",
      "actual_price: 173000.0\n",
      "Best Result: 112668.72627984859\n",
      "====================================================================================================\n",
      "per_share: 112668.72627984859\n",
      "cost_of_equity: 0.09268\n",
      "growth_rate: 0.0442229494660025\n",
      "ratio_capex_ocf: 1.221828715611264\n",
      "ratio_repayment_issuance: 0.5639822241131897\n"
     ]
    }
   ],
   "source": [
    "from DCF.calculators.valuation import ValuationCalculator\n",
    "\n",
    "valuation = ValuationCalculator(\"000660.KS\") # sk하이닉스\n",
    "valuation_results = valuation.calculate_per_share()"
   ]
  },
  {
   "cell_type": "code",
   "execution_count": 3,
   "metadata": {},
   "outputs": [
    {
     "name": "stdout",
     "output_type": "stream",
     "text": [
      "====================================================================================================\n",
      "1년 평균 주당 가치 계산 결과: 126840.11959534891\n",
      "\n",
      "====================================================================================================\n",
      "2년 평균 주당 가치 계산 결과: 82102.42487245137\n",
      "\n",
      "====================================================================================================\n",
      "3년 평균 주당 가치 계산 결과: 4410605.857124514\n",
      "\n",
      "====================================================================================================\n",
      "4년 평균 주당 가치 계산 결과: 2637853.7359926165\n",
      "\n",
      "====================================================================================================\n",
      "actual_price: 204000.0\n",
      "Best Result: 126840.11959534891\n",
      "====================================================================================================\n",
      "per_share: 126840.11959534891\n",
      "cost_of_equity: 0.10011999999999999\n",
      "growth_rate: 0.03875874344166819\n",
      "ratio_capex_ocf: 0.3457444981005819\n",
      "ratio_repayment_issuance: 0.9875515590848111\n"
     ]
    }
   ],
   "source": [
    "from DCF.calculators.valuation import ValuationCalculator\n",
    "\n",
    "valuation = ValuationCalculator(\"035420.KS\") # 네이버\n",
    "valuation_results = valuation.calculate_per_share()"
   ]
  },
  {
   "cell_type": "code",
   "execution_count": 4,
   "metadata": {},
   "outputs": [
    {
     "name": "stdout",
     "output_type": "stream",
     "text": [
      "====================================================================================================\n",
      "1년 평균 주당 가치 계산 결과: 45901.03840104481\n",
      "\n",
      "====================================================================================================\n",
      "2년 평균 주당 가치 계산 결과: 62135.21064350715\n",
      "\n",
      "====================================================================================================\n",
      "3년 평균 주당 가치 계산 결과: 64800.36047959283\n",
      "\n",
      "====================================================================================================\n",
      "4년 평균 주당 가치 계산 결과: 69734.36383035195\n",
      "\n",
      "====================================================================================================\n",
      "actual_price: 58200.0\n",
      "Best Result: 62135.21064350715\n",
      "====================================================================================================\n",
      "per_share: 62135.21064350715\n",
      "cost_of_equity: 0.07486\n",
      "growth_rate: 0.023456927376760563\n",
      "ratio_capex_ocf: 0.6065869700675371\n",
      "ratio_repayment_issuance: 1.2096084214846115\n"
     ]
    }
   ],
   "source": [
    "from DCF.calculators.valuation import ValuationCalculator\n",
    "\n",
    "valuation = ValuationCalculator(\"017670.KS\") # SK텔레콤\n",
    "valuation_results = valuation.calculate_per_share()"
   ]
  },
  {
   "cell_type": "code",
   "execution_count": 5,
   "metadata": {},
   "outputs": [
    {
     "name": "stdout",
     "output_type": "stream",
     "text": [
      "payoutRatio 데이터를 찾을 수 없습니다. 배당이 없던 것으로 간주하여, payout_ratio = 0으로 대체합니다.\n",
      "payoutRatio 데이터를 찾을 수 없습니다. 배당이 없던 것으로 간주하여, payout_ratio = 0으로 대체합니다.\n",
      "payoutRatio 데이터를 찾을 수 없습니다. 배당이 없던 것으로 간주하여, payout_ratio = 0으로 대체합니다.\n",
      "성장률 계산 중 오류 발생: ROE가 0보다 작거나 같습니다. DCF 계산이 불가능합니다.\n",
      "1년 평균 계산 중 오류 발생: 'NoneType' object is not subscriptable\n",
      "payoutRatio 데이터를 찾을 수 없습니다. 배당이 없던 것으로 간주하여, payout_ratio = 0으로 대체합니다.\n",
      "====================================================================================================\n",
      "2년 평균 주당 가치 계산 결과: -151023.70198535887\n",
      "\n",
      "payoutRatio 데이터를 찾을 수 없습니다. 배당이 없던 것으로 간주하여, payout_ratio = 0으로 대체합니다.\n",
      "====================================================================================================\n",
      "3년 평균 주당 가치 계산 결과: -176749.80043362305\n",
      "\n",
      "payoutRatio 데이터를 찾을 수 없습니다. 배당이 없던 것으로 간주하여, payout_ratio = 0으로 대체합니다.\n",
      "====================================================================================================\n",
      "4년 평균 주당 가치 계산 결과: -99038.08980665563\n",
      "\n",
      "====================================================================================================\n",
      "actual_price: 382000.0\n",
      "Best Result: -99038.08980665563\n",
      "====================================================================================================\n",
      "per_share: -99038.08980665563\n",
      "cost_of_equity: 0.10294\n",
      "growth_rate: 0.015935323337658805\n",
      "ratio_capex_ocf: -2.621341798891709\n",
      "ratio_repayment_issuance: 2.193183564152158\n"
     ]
    }
   ],
   "source": [
    "from DCF.calculators.valuation import ValuationCalculator\n",
    "\n",
    "valuation = ValuationCalculator(\"373220.KS\") # LG에너지솔루션\n",
    "valuation_results = valuation.calculate_per_share()"
   ]
  },
  {
   "cell_type": "code",
   "execution_count": 6,
   "metadata": {},
   "outputs": [
    {
     "name": "stdout",
     "output_type": "stream",
     "text": [
      "payoutRatio 데이터를 찾을 수 없습니다. 배당이 없던 것으로 간주하여, payout_ratio = 0으로 대체합니다.\n",
      "payoutRatio 데이터를 찾을 수 없습니다. 배당이 없던 것으로 간주하여, payout_ratio = 0으로 대체합니다.\n",
      "payoutRatio 데이터를 찾을 수 없습니다. 배당이 없던 것으로 간주하여, payout_ratio = 0으로 대체합니다.\n",
      "성장률 계산 중 오류 발생: ROE가 0보다 작거나 같습니다. DCF 계산이 불가능합니다.\n",
      "1년 평균 계산 중 오류 발생: 'NoneType' object is not subscriptable\n",
      "payoutRatio 데이터를 찾을 수 없습니다. 배당이 없던 것으로 간주하여, payout_ratio = 0으로 대체합니다.\n",
      "성장률 계산 중 오류 발생: ROE가 0보다 작거나 같습니다. DCF 계산이 불가능합니다.\n",
      "2년 평균 계산 중 오류 발생: 'NoneType' object is not subscriptable\n",
      "payoutRatio 데이터를 찾을 수 없습니다. 배당이 없던 것으로 간주하여, payout_ratio = 0으로 대체합니다.\n",
      "성장률 계산 중 오류 발생: ROE가 0보다 작거나 같습니다. DCF 계산이 불가능합니다.\n",
      "3년 평균 계산 중 오류 발생: 'NoneType' object is not subscriptable\n",
      "payoutRatio 데이터를 찾을 수 없습니다. 배당이 없던 것으로 간주하여, payout_ratio = 0으로 대체합니다.\n",
      "성장률 계산 중 오류 발생: ROE가 0보다 작거나 같습니다. DCF 계산이 불가능합니다.\n",
      "4년 평균 계산 중 오류 발생: 'NoneType' object is not subscriptable\n",
      "====================================================================================================\n",
      "actual_price: 55200.0\n"
     ]
    },
    {
     "ename": "TypeError",
     "evalue": "'NoneType' object is not subscriptable",
     "output_type": "error",
     "traceback": [
      "\u001b[0;31m---------------------------------------------------------------------------\u001b[0m",
      "\u001b[0;31mTypeError\u001b[0m                                 Traceback (most recent call last)",
      "Cell \u001b[0;32mIn[6], line 4\u001b[0m\n\u001b[1;32m      1\u001b[0m \u001b[38;5;28;01mfrom\u001b[39;00m \u001b[38;5;21;01mDCF\u001b[39;00m\u001b[38;5;21;01m.\u001b[39;00m\u001b[38;5;21;01mcalculators\u001b[39;00m\u001b[38;5;21;01m.\u001b[39;00m\u001b[38;5;21;01mvaluation\u001b[39;00m \u001b[38;5;28;01mimport\u001b[39;00m ValuationCalculator\n\u001b[1;32m      3\u001b[0m valuation \u001b[38;5;241m=\u001b[39m ValuationCalculator(\u001b[38;5;124m\"\u001b[39m\u001b[38;5;124m251270.KS\u001b[39m\u001b[38;5;124m\"\u001b[39m) \u001b[38;5;66;03m# Netmarble\u001b[39;00m\n\u001b[0;32m----> 4\u001b[0m valuation_results \u001b[38;5;241m=\u001b[39m \u001b[43mvaluation\u001b[49m\u001b[38;5;241;43m.\u001b[39;49m\u001b[43mcalculate_per_share\u001b[49m\u001b[43m(\u001b[49m\u001b[43m)\u001b[49m\n",
      "File \u001b[0;32m/Volumes/JH_64_USB/Valuation/DCF/calculators/valuation.py:183\u001b[0m, in \u001b[0;36mValuationCalculator.calculate_per_share\u001b[0;34m(self, period)\u001b[0m\n\u001b[1;32m    181\u001b[0m \u001b[38;5;28mprint\u001b[39m(\u001b[38;5;124m\"\u001b[39m\u001b[38;5;124m=\u001b[39m\u001b[38;5;124m\"\u001b[39m\u001b[38;5;241m*\u001b[39m\u001b[38;5;241m100\u001b[39m)\n\u001b[1;32m    182\u001b[0m \u001b[38;5;28mprint\u001b[39m(\u001b[38;5;124mf\u001b[39m\u001b[38;5;124m\"\u001b[39m\u001b[38;5;124mactual_price: \u001b[39m\u001b[38;5;132;01m{\u001b[39;00mactual_price\u001b[38;5;132;01m}\u001b[39;00m\u001b[38;5;124m\"\u001b[39m)\n\u001b[0;32m--> 183\u001b[0m \u001b[38;5;28mprint\u001b[39m(\u001b[38;5;124mf\u001b[39m\u001b[38;5;124m\"\u001b[39m\u001b[38;5;124mBest Result: \u001b[39m\u001b[38;5;132;01m{\u001b[39;00m\u001b[43mbest_result\u001b[49m\u001b[43m[\u001b[49m\u001b[38;5;124;43m'\u001b[39;49m\u001b[38;5;124;43mper_share\u001b[39;49m\u001b[38;5;124;43m'\u001b[39;49m\u001b[43m]\u001b[49m\u001b[38;5;132;01m}\u001b[39;00m\u001b[38;5;124m\"\u001b[39m)\n\u001b[1;32m    184\u001b[0m \u001b[38;5;28mprint\u001b[39m(\u001b[38;5;124m\"\u001b[39m\u001b[38;5;124m=\u001b[39m\u001b[38;5;124m\"\u001b[39m\u001b[38;5;241m*\u001b[39m\u001b[38;5;241m100\u001b[39m)\n\u001b[1;32m    185\u001b[0m \u001b[38;5;28;01mfor\u001b[39;00m key, value \u001b[38;5;129;01min\u001b[39;00m best_result\u001b[38;5;241m.\u001b[39mitems():\n",
      "\u001b[0;31mTypeError\u001b[0m: 'NoneType' object is not subscriptable"
     ]
    }
   ],
   "source": [
    "from DCF.calculators.valuation import ValuationCalculator\n",
    "\n",
    "valuation = ValuationCalculator(\"251270.KS\") # Netmarble\n",
    "valuation_results = valuation.calculate_per_share()"
   ]
  },
  {
   "cell_type": "code",
   "execution_count": 7,
   "metadata": {},
   "outputs": [
    {
     "name": "stdout",
     "output_type": "stream",
     "text": [
      "====================================================================================================\n",
      "1년 평균 주당 가치 계산 결과: -21876.24104752632\n",
      "\n",
      "====================================================================================================\n",
      "2년 평균 주당 가치 계산 결과: -27794.793349494274\n",
      "\n",
      "====================================================================================================\n",
      "3년 평균 주당 가치 계산 결과: -25313.605673334772\n",
      "\n",
      "====================================================================================================\n",
      "4년 평균 주당 가치 계산 결과: -15951.247520204448\n",
      "\n",
      "====================================================================================================\n",
      "actual_price: 163300.0\n",
      "Best Result: -15951.247520204448\n",
      "====================================================================================================\n",
      "per_share: -15951.247520204448\n",
      "cost_of_equity: 0.13552\n",
      "growth_rate: 0.021298753102714837\n",
      "ratio_capex_ocf: -0.5314008152801948\n",
      "ratio_repayment_issuance: 0.2974336759178445\n"
     ]
    }
   ],
   "source": [
    "from DCF.calculators.valuation import ValuationCalculator\n",
    "\n",
    "valuation = ValuationCalculator(\"003670.KS\") # 포스코퓨처엠\n",
    "valuation_results = valuation.calculate_per_share()"
   ]
  },
  {
   "cell_type": "code",
   "execution_count": 8,
   "metadata": {},
   "outputs": [
    {
     "name": "stdout",
     "output_type": "stream",
     "text": [
      "payoutRatio 데이터를 찾을 수 없습니다. 배당이 없던 것으로 간주하여, payout_ratio = 0으로 대체합니다.\n",
      "payoutRatio 데이터를 찾을 수 없습니다. 배당이 없던 것으로 간주하여, payout_ratio = 0으로 대체합니다.\n",
      "payoutRatio 데이터를 찾을 수 없습니다. 배당이 없던 것으로 간주하여, payout_ratio = 0으로 대체합니다.\n",
      "====================================================================================================\n",
      "1년 평균 주당 가치 계산 결과: nan\n",
      "\n",
      "payoutRatio 데이터를 찾을 수 없습니다. 배당이 없던 것으로 간주하여, payout_ratio = 0으로 대체합니다.\n",
      "====================================================================================================\n",
      "2년 평균 주당 가치 계산 결과: nan\n",
      "\n",
      "payoutRatio 데이터를 찾을 수 없습니다. 배당이 없던 것으로 간주하여, payout_ratio = 0으로 대체합니다.\n",
      "====================================================================================================\n",
      "3년 평균 주당 가치 계산 결과: nan\n",
      "\n",
      "payoutRatio 데이터를 찾을 수 없습니다. 배당이 없던 것으로 간주하여, payout_ratio = 0으로 대체합니다.\n",
      "====================================================================================================\n",
      "4년 평균 주당 가치 계산 결과: nan\n",
      "\n",
      "====================================================================================================\n",
      "actual_price: 316500.0\n"
     ]
    },
    {
     "ename": "TypeError",
     "evalue": "'NoneType' object is not subscriptable",
     "output_type": "error",
     "traceback": [
      "\u001b[0;31m---------------------------------------------------------------------------\u001b[0m",
      "\u001b[0;31mTypeError\u001b[0m                                 Traceback (most recent call last)",
      "Cell \u001b[0;32mIn[8], line 4\u001b[0m\n\u001b[1;32m      1\u001b[0m \u001b[38;5;28;01mfrom\u001b[39;00m \u001b[38;5;21;01mDCF\u001b[39;00m\u001b[38;5;21;01m.\u001b[39;00m\u001b[38;5;21;01mcalculators\u001b[39;00m\u001b[38;5;21;01m.\u001b[39;00m\u001b[38;5;21;01mvaluation\u001b[39;00m \u001b[38;5;28;01mimport\u001b[39;00m ValuationCalculator\n\u001b[1;32m      3\u001b[0m valuation \u001b[38;5;241m=\u001b[39m ValuationCalculator(\u001b[38;5;124m\"\u001b[39m\u001b[38;5;124m259960.KS\u001b[39m\u001b[38;5;124m\"\u001b[39m) \u001b[38;5;66;03m# 크래프톤\u001b[39;00m\n\u001b[0;32m----> 4\u001b[0m valuation_results \u001b[38;5;241m=\u001b[39m \u001b[43mvaluation\u001b[49m\u001b[38;5;241;43m.\u001b[39;49m\u001b[43mcalculate_per_share\u001b[49m\u001b[43m(\u001b[49m\u001b[43m)\u001b[49m\n",
      "File \u001b[0;32m/Volumes/JH_64_USB/Valuation/DCF/calculators/valuation.py:183\u001b[0m, in \u001b[0;36mValuationCalculator.calculate_per_share\u001b[0;34m(self, period)\u001b[0m\n\u001b[1;32m    181\u001b[0m \u001b[38;5;28mprint\u001b[39m(\u001b[38;5;124m\"\u001b[39m\u001b[38;5;124m=\u001b[39m\u001b[38;5;124m\"\u001b[39m\u001b[38;5;241m*\u001b[39m\u001b[38;5;241m100\u001b[39m)\n\u001b[1;32m    182\u001b[0m \u001b[38;5;28mprint\u001b[39m(\u001b[38;5;124mf\u001b[39m\u001b[38;5;124m\"\u001b[39m\u001b[38;5;124mactual_price: \u001b[39m\u001b[38;5;132;01m{\u001b[39;00mactual_price\u001b[38;5;132;01m}\u001b[39;00m\u001b[38;5;124m\"\u001b[39m)\n\u001b[0;32m--> 183\u001b[0m \u001b[38;5;28mprint\u001b[39m(\u001b[38;5;124mf\u001b[39m\u001b[38;5;124m\"\u001b[39m\u001b[38;5;124mBest Result: \u001b[39m\u001b[38;5;132;01m{\u001b[39;00m\u001b[43mbest_result\u001b[49m\u001b[43m[\u001b[49m\u001b[38;5;124;43m'\u001b[39;49m\u001b[38;5;124;43mper_share\u001b[39;49m\u001b[38;5;124;43m'\u001b[39;49m\u001b[43m]\u001b[49m\u001b[38;5;132;01m}\u001b[39;00m\u001b[38;5;124m\"\u001b[39m)\n\u001b[1;32m    184\u001b[0m \u001b[38;5;28mprint\u001b[39m(\u001b[38;5;124m\"\u001b[39m\u001b[38;5;124m=\u001b[39m\u001b[38;5;124m\"\u001b[39m\u001b[38;5;241m*\u001b[39m\u001b[38;5;241m100\u001b[39m)\n\u001b[1;32m    185\u001b[0m \u001b[38;5;28;01mfor\u001b[39;00m key, value \u001b[38;5;129;01min\u001b[39;00m best_result\u001b[38;5;241m.\u001b[39mitems():\n",
      "\u001b[0;31mTypeError\u001b[0m: 'NoneType' object is not subscriptable"
     ]
    }
   ],
   "source": [
    "from DCF.calculators.valuation import ValuationCalculator\n",
    "\n",
    "valuation = ValuationCalculator(\"259960.KS\") # 크래프톤\n",
    "valuation_results = valuation.calculate_per_share()"
   ]
  },
  {
   "cell_type": "code",
   "execution_count": 9,
   "metadata": {},
   "outputs": [
    {
     "name": "stdout",
     "output_type": "stream",
     "text": [
      "payoutRatio 데이터를 찾을 수 없습니다. 배당이 없던 것으로 간주하여, payout_ratio = 0으로 대체합니다.\n",
      "payoutRatio 데이터를 찾을 수 없습니다. 배당이 없던 것으로 간주하여, payout_ratio = 0으로 대체합니다.\n",
      "payoutRatio 데이터를 찾을 수 없습니다. 배당이 없던 것으로 간주하여, payout_ratio = 0으로 대체합니다.\n",
      "성장률 계산 중 오류 발생: ROE가 0보다 작거나 같습니다. DCF 계산이 불가능합니다.\n",
      "1년 평균 계산 중 오류 발생: 'NoneType' object is not subscriptable\n",
      "payoutRatio 데이터를 찾을 수 없습니다. 배당이 없던 것으로 간주하여, payout_ratio = 0으로 대체합니다.\n",
      "====================================================================================================\n",
      "2년 평균 주당 가치 계산 결과: 13101.926389870709\n",
      "\n",
      "payoutRatio 데이터를 찾을 수 없습니다. 배당이 없던 것으로 간주하여, payout_ratio = 0으로 대체합니다.\n",
      "====================================================================================================\n",
      "3년 평균 주당 가치 계산 결과: 34385.94802835586\n",
      "\n",
      "payoutRatio 데이터를 찾을 수 없습니다. 배당이 없던 것으로 간주하여, payout_ratio = 0으로 대체합니다.\n",
      "====================================================================================================\n",
      "4년 평균 주당 가치 계산 결과: 32662.38074019436\n",
      "\n",
      "====================================================================================================\n",
      "actual_price: 44100.0\n",
      "Best Result: 34385.94802835586\n",
      "====================================================================================================\n",
      "per_share: 34385.94802835586\n",
      "cost_of_equity: 0.11512\n",
      "growth_rate: 0.04322017683875994\n",
      "ratio_capex_ocf: 0.5899757241955549\n",
      "ratio_repayment_issuance: 0.6581494003578964\n"
     ]
    }
   ],
   "source": [
    "from DCF.calculators.valuation import ValuationCalculator\n",
    "\n",
    "valuation = ValuationCalculator(\"035720.KS\") # 카카오\n",
    "valuation_results = valuation.calculate_per_share()"
   ]
  },
  {
   "cell_type": "code",
   "execution_count": 10,
   "metadata": {},
   "outputs": [
    {
     "name": "stdout",
     "output_type": "stream",
     "text": [
      "====================================================================================================\n",
      "1년 평균 주당 가치 계산 결과: 53222.19353407247\n",
      "\n",
      "====================================================================================================\n",
      "2년 평균 주당 가치 계산 결과: 135221.99184592598\n",
      "\n",
      "====================================================================================================\n",
      "3년 평균 주당 가치 계산 결과: 79554.56740446392\n",
      "\n",
      "====================================================================================================\n",
      "4년 평균 주당 가치 계산 결과: 36997.44934067921\n",
      "\n",
      "====================================================================================================\n",
      "actual_price: 24550.0\n",
      "Best Result: 36997.44934067921\n",
      "====================================================================================================\n",
      "per_share: 36997.44934067921\n",
      "cost_of_equity: 0.09994\n",
      "growth_rate: 0.0585206449529399\n",
      "ratio_capex_ocf: 0.288261414250798\n",
      "ratio_repayment_issuance: 2.0388465583117\n"
     ]
    }
   ],
   "source": [
    "from DCF.calculators.valuation import ValuationCalculator\n",
    "\n",
    "valuation = ValuationCalculator(\"003490.KS\") # 대한항공\n",
    "valuation_results = valuation.calculate_per_share()"
   ]
  },
  {
   "cell_type": "code",
   "execution_count": 11,
   "metadata": {},
   "outputs": [
    {
     "name": "stdout",
     "output_type": "stream",
     "text": [
      "====================================================================================================\n",
      "1년 평균 주당 가치 계산 결과: 15398.464527380862\n",
      "\n",
      "====================================================================================================\n",
      "2년 평균 주당 가치 계산 결과: 222082.3502755669\n",
      "\n",
      "====================================================================================================\n",
      "3년 평균 주당 가치 계산 결과: 228277.8220778161\n",
      "\n",
      "====================================================================================================\n",
      "4년 평균 주당 가치 계산 결과: 245492.28662818883\n",
      "\n",
      "====================================================================================================\n",
      "actual_price: 204500.0\n",
      "Best Result: 222082.3502755669\n",
      "====================================================================================================\n",
      "per_share: 222082.3502755669\n",
      "cost_of_equity: 0.10203999999999999\n",
      "growth_rate: 0.07067963561839154\n",
      "ratio_capex_ocf: -1.4872886915044463\n",
      "ratio_repayment_issuance: 0.882675422114078\n"
     ]
    }
   ],
   "source": [
    "from DCF.calculators.valuation import ValuationCalculator\n",
    "\n",
    "valuation = ValuationCalculator(\"005380.KS\") # 현대자동차\n",
    "valuation_results = valuation.calculate_per_share()"
   ]
  }
 ],
 "metadata": {
  "kernelspec": {
   "display_name": "valuation-kO8nQuny-py3.11",
   "language": "python",
   "name": "python3"
  },
  "language_info": {
   "codemirror_mode": {
    "name": "ipython",
    "version": 3
   },
   "file_extension": ".py",
   "mimetype": "text/x-python",
   "name": "python",
   "nbconvert_exporter": "python",
   "pygments_lexer": "ipython3",
   "version": "3.11.9"
  }
 },
 "nbformat": 4,
 "nbformat_minor": 2
}
