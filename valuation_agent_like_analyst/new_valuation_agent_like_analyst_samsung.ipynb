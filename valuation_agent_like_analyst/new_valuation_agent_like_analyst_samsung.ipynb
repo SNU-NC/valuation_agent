{
 "cells": [
  {
   "cell_type": "code",
   "execution_count": 1,
   "metadata": {},
   "outputs": [
    {
     "data": {
      "text/plain": [
       "True"
      ]
     },
     "execution_count": 1,
     "metadata": {},
     "output_type": "execute_result"
    }
   ],
   "source": [
    "from dotenv import load_dotenv\n",
    "load_dotenv()"
   ]
  },
  {
   "cell_type": "code",
   "execution_count": 2,
   "metadata": {},
   "outputs": [],
   "source": [
    "from pydantic import BaseModel, Field\n",
    "from typing import Dict, List\n",
    "from langchain_community.tools import DuckDuckGoSearchResults"
   ]
  },
  {
   "cell_type": "code",
   "execution_count": 3,
   "metadata": {},
   "outputs": [],
   "source": [
    "# 상태 정보 정의\n",
    "\n",
    "class State(BaseModel):\n",
    "    company_name: str = Field(description=\"회사 이름\")\n",
    "    segment: Dict[str, dict] = Field(description=\"사업부 정보\", default_factory=dict)\n",
    "    PER: float = Field(description=\"기업의 현재 PER(TTM)\", default=0)\n",
    "    peer_list: List[str] = Field(description=\"경쟁사 리스트\", default_factory=list)\n",
    "    average_peer_PER: float = Field(description=\"경쟁사 PER 평균\", default=0)\n"
   ]
  },
  {
   "cell_type": "code",
   "execution_count": 4,
   "metadata": {},
   "outputs": [],
   "source": [
    "# 상태 정보 초기화\n",
    "\n",
    "state = State(company_name=\"삼성전자\")"
   ]
  },
  {
   "cell_type": "code",
   "execution_count": 5,
   "metadata": {},
   "outputs": [
    {
     "data": {
      "text/html": [
       "<div>\n",
       "<style scoped>\n",
       "    .dataframe tbody tr th:only-of-type {\n",
       "        vertical-align: middle;\n",
       "    }\n",
       "\n",
       "    .dataframe tbody tr th {\n",
       "        vertical-align: top;\n",
       "    }\n",
       "\n",
       "    .dataframe thead th {\n",
       "        text-align: right;\n",
       "    }\n",
       "</style>\n",
       "<table border=\"1\" class=\"dataframe\">\n",
       "  <thead>\n",
       "    <tr style=\"text-align: right;\">\n",
       "      <th></th>\n",
       "      <th>계정</th>\n",
       "      <th>2024-3Q</th>\n",
       "      <th>2024-2Q</th>\n",
       "      <th>2024-1Q</th>\n",
       "      <th>2023</th>\n",
       "      <th>2023-3Q</th>\n",
       "    </tr>\n",
       "  </thead>\n",
       "  <tbody>\n",
       "    <tr>\n",
       "      <th>0</th>\n",
       "      <td>DX</td>\n",
       "      <td>134357500000000</td>\n",
       "      <td>89363600000000</td>\n",
       "      <td>47292700000000</td>\n",
       "      <td>169992300000000</td>\n",
       "      <td>130444100000000</td>\n",
       "    </tr>\n",
       "    <tr>\n",
       "      <th>1</th>\n",
       "      <td>DS</td>\n",
       "      <td>80965200000000</td>\n",
       "      <td>51693800000000</td>\n",
       "      <td>23137300000000</td>\n",
       "      <td>66594500000000</td>\n",
       "      <td>44902100000000</td>\n",
       "    </tr>\n",
       "    <tr>\n",
       "      <th>2</th>\n",
       "      <td>SDC</td>\n",
       "      <td>21031700000000</td>\n",
       "      <td>13032600000000</td>\n",
       "      <td>5386400000000</td>\n",
       "      <td>30975400000000</td>\n",
       "      <td>21315800000000</td>\n",
       "    </tr>\n",
       "    <tr>\n",
       "      <th>3</th>\n",
       "      <td>Harman</td>\n",
       "      <td>10348900000000</td>\n",
       "      <td>6819300000000</td>\n",
       "      <td>3200300000000</td>\n",
       "      <td>14388500000000</td>\n",
       "      <td>10464100000000</td>\n",
       "    </tr>\n",
       "    <tr>\n",
       "      <th>4</th>\n",
       "      <td>영업수익</td>\n",
       "      <td>225082634000000</td>\n",
       "      <td>74068302000000</td>\n",
       "      <td>71915601000000</td>\n",
       "      <td>258935494000000</td>\n",
       "      <td>191155556000000</td>\n",
       "    </tr>\n",
       "    <tr>\n",
       "      <th>5</th>\n",
       "      <td>영업비용</td>\n",
       "      <td>198849376000000</td>\n",
       "      <td>63624424000000</td>\n",
       "      <td>65309592000000</td>\n",
       "      <td>252368518000000</td>\n",
       "      <td>187413297000000</td>\n",
       "    </tr>\n",
       "    <tr>\n",
       "      <th>6</th>\n",
       "      <td>영업이익</td>\n",
       "      <td>26233258000000</td>\n",
       "      <td>10443878000000</td>\n",
       "      <td>6606009000000</td>\n",
       "      <td>6566976000000</td>\n",
       "      <td>3742259000000</td>\n",
       "    </tr>\n",
       "    <tr>\n",
       "      <th>7</th>\n",
       "      <td>영업이익률</td>\n",
       "      <td>0</td>\n",
       "      <td>0</td>\n",
       "      <td>0</td>\n",
       "      <td>0</td>\n",
       "      <td>0</td>\n",
       "    </tr>\n",
       "    <tr>\n",
       "      <th>8</th>\n",
       "      <td>순이익</td>\n",
       "      <td>26696957000000</td>\n",
       "      <td>9841345000000</td>\n",
       "      <td>6754708000000</td>\n",
       "      <td>15487100000000</td>\n",
       "      <td>5844171000000</td>\n",
       "    </tr>\n",
       "    <tr>\n",
       "      <th>9</th>\n",
       "      <td>순이익률</td>\n",
       "      <td>0</td>\n",
       "      <td>0</td>\n",
       "      <td>0</td>\n",
       "      <td>0</td>\n",
       "      <td>0</td>\n",
       "    </tr>\n",
       "  </tbody>\n",
       "</table>\n",
       "</div>"
      ],
      "text/plain": [
       "       계정          2024-3Q         2024-2Q         2024-1Q             2023  \\\n",
       "0      DX  134357500000000  89363600000000  47292700000000  169992300000000   \n",
       "1      DS   80965200000000  51693800000000  23137300000000   66594500000000   \n",
       "2     SDC   21031700000000  13032600000000   5386400000000   30975400000000   \n",
       "3  Harman   10348900000000   6819300000000   3200300000000   14388500000000   \n",
       "4    영업수익  225082634000000  74068302000000  71915601000000  258935494000000   \n",
       "5    영업비용  198849376000000  63624424000000  65309592000000  252368518000000   \n",
       "6    영업이익   26233258000000  10443878000000   6606009000000    6566976000000   \n",
       "7   영업이익률                0               0               0                0   \n",
       "8     순이익   26696957000000   9841345000000   6754708000000   15487100000000   \n",
       "9    순이익률                0               0               0                0   \n",
       "\n",
       "           2023-3Q  \n",
       "0  130444100000000  \n",
       "1   44902100000000  \n",
       "2   21315800000000  \n",
       "3   10464100000000  \n",
       "4  191155556000000  \n",
       "5  187413297000000  \n",
       "6    3742259000000  \n",
       "7                0  \n",
       "8    5844171000000  \n",
       "9                0  "
      ]
     },
     "execution_count": 5,
     "metadata": {},
     "output_type": "execute_result"
    }
   ],
   "source": [
    "# 데이터 로드 TODO: 사업보고서 혹은 애널리스트 리포트 retrieve해서 데이터 로드\n",
    "import pandas as pd\n",
    "\n",
    "naver_income_stmt_cum = pd.read_csv(\"samsung_segment_sales+income_stmt_cum.csv\",header=0)\n",
    "naver_income_stmt_cum"
   ]
  },
  {
   "cell_type": "code",
   "execution_count": 6,
   "metadata": {},
   "outputs": [
    {
     "data": {
      "text/plain": [
       "['DX', 'DS', 'SDC', 'Harman']"
      ]
     },
     "execution_count": 6,
     "metadata": {},
     "output_type": "execute_result"
    }
   ],
   "source": [
    "# 사업부 추출\n",
    "segments = []\n",
    "for item in naver_income_stmt_cum.iloc[:, 0]:\n",
    "    if item == '영업수익':\n",
    "        break\n",
    "    segments.append(item)\n",
    "\n",
    "segments"
   ]
  },
  {
   "cell_type": "code",
   "execution_count": 7,
   "metadata": {},
   "outputs": [
    {
     "data": {
      "text/plain": [
       "0      3.000059\n",
       "1     80.314952\n",
       "2     -1.332814\n",
       "3     -1.100907\n",
       "4     17.748413\n",
       "5      6.102064\n",
       "6    601.000599\n",
       "7           NaN\n",
       "8    356.813413\n",
       "9           NaN\n",
       "dtype: float64"
      ]
     },
     "execution_count": 7,
     "metadata": {},
     "output_type": "execute_result"
    }
   ],
   "source": [
    "present_quarter = naver_income_stmt_cum.iloc[:,1]\n",
    "year_ago_quarter = naver_income_stmt_cum.iloc[:,1+4]\n",
    "yoy = ((present_quarter - year_ago_quarter) / year_ago_quarter) * 100\n",
    "yoy"
   ]
  },
  {
   "cell_type": "code",
   "execution_count": 8,
   "metadata": {},
   "outputs": [
    {
     "data": {
      "text/plain": [
       "{'DX': {'yoy': 3.000059029116687},\n",
       " 'DS': {'yoy': 80.31495186193965},\n",
       " 'SDC': {'yoy': -1.3328141566349845},\n",
       " 'Harman': {'yoy': -1.1009069102932885}}"
      ]
     },
     "execution_count": 8,
     "metadata": {},
     "output_type": "execute_result"
    }
   ],
   "source": [
    "# YoY 계산 ((현재 - 이전) / 이전) * 100\n",
    "present_quarter = naver_income_stmt_cum.iloc[:,1]\n",
    "year_ago_quarter = naver_income_stmt_cum.iloc[:,1+4]\n",
    "\n",
    "yoy = ((present_quarter - year_ago_quarter) / year_ago_quarter) * 100\n",
    "\n",
    "# 각 사업부별 YoY와 사업부 이름을 함께 보여주기\n",
    "for segment, growth in zip(naver_income_stmt_cum['계정'], yoy):\n",
    "    if segment in segments:  # segments 리스트에 있는 사업부만 출력\n",
    "        state.segment[segment] = {\"yoy\":growth}\n",
    "\n",
    "state.segment"
   ]
  },
  {
   "cell_type": "code",
   "execution_count": 9,
   "metadata": {},
   "outputs": [
    {
     "data": {
      "text/plain": [
       "{'DX': {'yoy': 3.000059029116687},\n",
       " 'DS': {'yoy': 80.31495186193965},\n",
       " 'SDC': {'yoy': -1.3328141566349845},\n",
       " 'Harman': {'yoy': -1.1009069102932885},\n",
       " '영업수익': {'yoy': 17.748413234716548}}"
      ]
     },
     "execution_count": 9,
     "metadata": {},
     "output_type": "execute_result"
    }
   ],
   "source": [
    "# 영업수익 yoy 계산\n",
    "for segment, growth in zip(naver_income_stmt_cum['계정'], yoy):\n",
    "    if segment == '영업수익':  # segments 리스트에 있는 사업부만 출력\n",
    "        state.segment['영업수익'] = {\"yoy\":growth}\n",
    "\n",
    "state.segment"
   ]
  },
  {
   "cell_type": "code",
   "execution_count": 10,
   "metadata": {},
   "outputs": [
    {
     "data": {
      "text/plain": [
       "{'DX': {'yoy': 3.000059029116687, 'sales': 134357500000000},\n",
       " 'DS': {'yoy': 80.31495186193965, 'sales': 80965200000000},\n",
       " 'SDC': {'yoy': -1.3328141566349845, 'sales': 21031700000000},\n",
       " 'Harman': {'yoy': -1.1009069102932885, 'sales': 10348900000000},\n",
       " '영업수익': {'yoy': 17.748413234716548}}"
      ]
     },
     "execution_count": 10,
     "metadata": {},
     "output_type": "execute_result"
    }
   ],
   "source": [
    "# 사업부별 매출액 추출\n",
    "for segment, sales in zip(naver_income_stmt_cum['계정'], present_quarter):\n",
    "    if segment in segments:\n",
    "        state.segment[segment].update({\"sales\":sales})\n",
    "\n",
    "state.segment"
   ]
  },
  {
   "cell_type": "code",
   "execution_count": 11,
   "metadata": {},
   "outputs": [
    {
     "data": {
      "text/plain": [
       "{'DX': {'yoy': 3.000059029116687, 'sales': 134357500000000},\n",
       " 'DS': {'yoy': 80.31495186193965, 'sales': 80965200000000},\n",
       " 'SDC': {'yoy': -1.3328141566349845, 'sales': 21031700000000},\n",
       " 'Harman': {'yoy': -1.1009069102932885, 'sales': 10348900000000},\n",
       " '영업수익': {'yoy': 17.748413234716548, 'sales': 225082634000000}}"
      ]
     },
     "execution_count": 11,
     "metadata": {},
     "output_type": "execute_result"
    }
   ],
   "source": [
    "# 영업수익 추출\n",
    "for segment, sales in zip(naver_income_stmt_cum['계정'], present_quarter):\n",
    "    if segment == '영업수익':  \n",
    "        state.segment['영업수익'].update({\"sales\":sales})\n",
    "\n",
    "state.segment"
   ]
  },
  {
   "cell_type": "code",
   "execution_count": 12,
   "metadata": {},
   "outputs": [],
   "source": [
    "duckduckgo_search_tool = DuckDuckGoSearchResults(max_results=1,backend=\"news\")"
   ]
  },
  {
   "cell_type": "code",
   "execution_count": 13,
   "metadata": {},
   "outputs": [
    {
     "data": {
      "text/plain": [
       "{'DX': {'yoy': 3.000059029116687,\n",
       "  'sales': 134357500000000,\n",
       "  'news_result': \"snippet: 삼성전자는 전경훈 사장을 포함해 전기·전자공학 분야에서 최고로 인정받는 5명의 IEEE 펠로우를 동시에 배출했다. IEEE 펠로우는 IEEE 회원 중 최상위 0.1% 이내로 선정되는 최고 기술자 등급이다., title: 삼성전자, 전경훈 사장 등 5명 美 IEEE 펠로우 선정, link: https://www.msn.com/ko-kr/news/other/삼성전자-전경훈-사장-등-5명-美-ieee-펠로우-선정/ar-AA1vYXR0, date: 2024-12-17T01:41:00+00:00, source: 이투데이 on MSN.com, snippet: [디지털데일리 옥송이 기자] 삼성전자가 인사 및 조직 개편을 마무리 지으면서 내년 업무 채비를 갖췄다. 모바일 및 가전 등 제품을 모두 아우르는 DX(디바이스 경험)부문은 한종희 대표이사를 ..., title: '한종희' 삼성전자 DX, 내년 키워드 '안정'…영업익 개선 숙제, link: https://www.ddaily.co.kr/page/view/2024120515115760549, date: 2024-12-05T16:26:00+00:00, source: 디지털데일리, snippet: [더팩트ㅣ이성락 기자] 위기론에 휩싸인 삼성전자가 주요 반도체 사업 수장을 교체하는 쇄신 인사를 단행했다. 삼성전자는 27일 사장 승진 2명, 위촉 업무 변경 7명 등 총 9명 규모의 2025년 정기 사장단 인사를 발표했다. 먼저 삼성전자 반도체(DS)부문 미주(DSA)총괄 한진만 부사장은 사장으로 승진, DS부문 파운드리사업부장을 맡게 됐다. 삼성전자 사, title: 삼성전자, 반도체 사업부장 교체 '쇄신 인사'…전영현 역할 확대, link: https://www.msn.com/ko-kr/money/경영진-리더십-및-관리/삼성전자-반도체-사업부장-교체-쇄신-인사-전영현-역할-확대/ar-AA1uOL5J, date: 2024-11-27T01:12:00+00:00, source: MSN, snippet: 삼성전자 가전 ... 지난 2022년부터 DX부문을 이끌고 있는 한 부회장은 내년에도 지휘봉을 잡게 됐다. DX부문 산하 MX(모바일경험)사업부, NW(네트워크 ..., title: '삼성 DX부문' 한종희 체제 유지…조직 안정에 무게, link: https://www.asiatoday.co.kr/kn/view.php?key=20241127010013744, date: 2024-11-27T10:34:00+00:00, source: 아시아투데이\"},\n",
       " 'DS': {'yoy': 80.31495186193965,\n",
       "  'sales': 80965200000000,\n",
       "  'news_result': \"snippet: 박 부사장은 1966년생으로, 삼성전자 미래전략실(미전실) 출신 인사 중 한 명이다. 그는 이외에도 네트워크 사업부 ... 삼성전자는 DS 부문의 조직도 ..., title: 삼성전자 새 CFO에 박순철 부사장…DS부문 AI센터 신설(종합), link: https://www.asiae.co.kr/article/2024120416331952111, date: 2024-12-04T08:14:00+00:00, source: 아시아경제, snippet: [디지털데일리 옥송이 기자] 삼성전자는 27일 사장 승진 2명, 위촉업무 변경 7명 등 총 9명 규모의 2025년 정기 사장단 인사를 발표했다. 전현호 사업지원 TF장 부회장, 한종희 DX부문장 부회장 ..., title: '삼성전자 사장단 인사' 정현호·한종희·전영현 유임…DS 파운드리 사업부장에 한진만, link: https://www.ddaily.co.kr/page/view/2024112709463633025, date: 2024-11-27T10:06:00+00:00, source: 디지털데일리, snippet: 삼성전자가 정기 임원인사를 통해 총 137명의 부사장 이하 인재를 승진시켰다. 경영 위기를 극복하고 신성장동력을 강화하기 위해 세대교체와 성과 중심의 인적 쇄신을 단행했고, 소프트웨어(SW)와 신기술 분야의 우수 인재를 발탁해 미래 성장 기반을 마련했다.삼성전자는 29일 부사장과 상무, title: 삼성전자, 'AI·메모리' 핵심 인재 137명 승진, link: https://www.bloter.net/news/articleView.html?idxno=627226, date: 2024-11-28T17:11:00+00:00, source: 블로터, snippet: 정책 채권 분양 주택 정책 은행 카드 보험 기업 생활 IT 헬스 문화 영상 포토 전국 피플 영화 가요 포토 정치·사회 경제·마켓 기업 인물·화제 국제일반 골프일반 생생레슨 10대골프장 사설 사내칼럼 사외칼럼 경매 작가 전시 Pick, title: 삼성전자, 3040 기술인재 집중 발탁…승진 규모는 7년새 최소, link: https://www.sedaily.com/NewsView/2DH18DTCI1/GC01, date: 2024-11-29T06:54:00+00:00, source: 서울경제\"},\n",
       " 'SDC': {'yoy': -1.3328141566349845,\n",
       "  'sales': 21031700000000,\n",
       "  'news_result': 'snippet: SDC 부문의 매출액이 전기 대비 5% 증가한 8조원을 달성했다. 31일 삼성전자는 매출 79조1000억원, 영업이익 9조1800 ..., title: [삼성전자 3Q IR] SDC 매출액 전기비 5% 증가한 8조원, link: https://www.ebn.co.kr/news/articleView.html?idxno=1641845, date: 2024-10-31T11:00:00+00:00, source: EBN 산업경제신문, snippet: 삼성전자가 올해 3분기 세계 기업용 솔리드스테이트드라이브(SSD) 시장에서 지난 분기보다 29% 증가한 32억달러(4조5868억)를 달성하며 43.4%의 점유율로 ..., title: 삼성전자, 기업용 SSD 매출 29% 증가…세계 시장 점유율 1위 수성, link: https://biz.chosun.com/it-science/ict/2024/12/11/AN2M2QLHCJESVBIF7LHU5XXVBA/, date: 2024-12-11T05:01:00+00:00, source: 조선일보, snippet: [서울=뉴스핌] 김정인 기자 = 삼성전자 모바일경험(MX ... 삼성전자에 따르면 MX와 네트워크사업부(NW)는 올 3분기 매출 30조5200억원, 영업이익 2조8200 ..., title: 삼성전자 버팀목 된 MX사업부…AI폰 플래그십 전략 먹혔다, link: https://www.msn.com/ko-kr/news/other/삼성전자-버팀목-된-mx사업부-ai폰-플래그십-전략-먹혔다/ar-AA1tfkKy, date: 2024-10-31T06:06:00+00:00, source: 뉴스핌 on MSN.com, snippet: 3나노 앞세운 TSMC 32조원 기록… 최첨단 칩 독식 영업이익률 47.5% 삼성 비메모리 적자 1조원 넘을듯… 메모리선 中 창신메모리 추격받아 정부 \"삼성 ..., title: 삼성전자, TSMC와 엎치락뒤치락… 3분기 반도체 매출 1위 내줄듯, link: https://www.msn.com/ko-kr/news/other/삼성전자-tsmc와-엎치락뒤치락-3분기-반도체-매출-1위-내줄듯/ar-AA1sBlSA, date: 2024-10-20T18:12:00+00:00, source: 동아일보 on MSN.com'},\n",
       " 'Harman': {'yoy': -1.1009069102932885,\n",
       "  'sales': 10348900000000,\n",
       "  'news_result': 'snippet: [서울=뉴스핌] 김정인 기자 = 삼성전자 모바일경험(MX ... 삼성전자에 따르면 MX와 네트워크사업부(NW)는 올 3분기 매출 30조5200억원, 영업이익 2조8200 ..., title: 삼성전자 버팀목 된 MX사업부…AI폰 플래그십 전략 먹혔다, link: https://www.msn.com/ko-kr/news/other/삼성전자-버팀목-된-mx사업부-ai폰-플래그십-전략-먹혔다/ar-AA1tfkKy, date: 2024-10-31T06:06:00+00:00, source: 뉴스핌 on MSN.com, snippet: 삼성전자가 반도체 사업을 담당하는 DS(디바이스솔루션) 부문의 부진으로 올해 3분기(7~9월) 시장 기대치를 밑도는 성적표를 받아들었다. 삼성전자는 ..., title: 삼성전자, 3Q 매출 79.1조원·영업익 9.2조원…\"4Q 실적 개선 전망\", link: https://www.ebn.co.kr/news/articleView.html?idxno=1641822, date: 2024-10-31T10:10:00+00:00, source: EBN 산업경제신문, snippet: 3나노 앞세운 TSMC 32조원 기록… 최첨단 칩 독식 영업이익률 47.5% 삼성 비메모리 적자 1조원 넘을듯… 메모리선 中 창신메모리 추격받아 정부 \"삼성 ..., title: 삼성전자, TSMC와 엎치락뒤치락… 3분기 반도체 매출 1위 내줄듯, link: https://www.msn.com/ko-kr/news/other/삼성전자-tsmc와-엎치락뒤치락-3분기-반도체-매출-1위-내줄듯/ar-AA1sBlSA, date: 2024-10-20T18:12:00+00:00, source: 동아일보 on MSN.com, snippet: 24일 삼성전자에 따르면 최근 CE 부문 산하 의료기기사업부를 별도의 전사 조직으로 분리했다. 의료기기사업부의 매출 비중도 미미한데다 TV ..., title: 삼성전자, 의료기기사업부 CE에서 분리....삼성메디슨과 합병(?), link: https://www.newspim.com/news/view/20171124000179, date: 2024-11-17T00:00:00+00:00, source: 뉴스핌'},\n",
       " '영업수익': {'yoy': 17.748413234716548, 'sales': 225082634000000}}"
      ]
     },
     "execution_count": 13,
     "metadata": {},
     "output_type": "execute_result"
    }
   ],
   "source": [
    "import time\n",
    "for segment in segments:\n",
    "    news_result = duckduckgo_search_tool.invoke(\n",
    "        {\n",
    "            \"query\": f\"{state.company_name} {segment} 사업부 매출\"\n",
    "        }\n",
    "    )\n",
    "    state.segment[segment].update({\"news_result\":news_result})\n",
    "    \n",
    "state.segment"
   ]
  },
  {
   "cell_type": "code",
   "execution_count": 14,
   "metadata": {},
   "outputs": [],
   "source": [
    "from langchain_core.prompts import ChatPromptTemplate\n",
    "from langchain_core.output_parsers import PydanticOutputParser\n",
    "from langchain_openai import ChatOpenAI\n",
    "from pydantic import BaseModel, Field\n",
    "\n",
    "class yoy_prediction(BaseModel):\n",
    "    \"\"\"yoy 예측값을 나타내는 모델\"\"\"\n",
    "    business_segment: str = Field(description=\"사업부\")\n",
    "    yoy: float = Field(description=\"사업부 yoy 예측값\")\n",
    "    reason: str = Field(description=\"사업부 yoy 예측값의 근거\")\n",
    "\n",
    "parser = PydanticOutputParser(pydantic_object=yoy_prediction)\n",
    "\n",
    "\n",
    "template = \"\"\"\n",
    "당신은 증권사 소속 애널리스트입니다.\n",
    "다음 내용을 참고하여 {company_name}의 {business_segment} 사업부의 매출 혹은 비용이 yoy로 얼마나 변할지 예측하시오.\n",
    "\n",
    "직전 분기 yoy : {yoy}\n",
    "\n",
    "{company_name}의 {business_segment} 사업부의 매출 혹은 비용에 큰 영향을 미치는 뉴스 : {news}\n",
    "\n",
    "응답 형식:\n",
    "{format_instructions}\n",
    "\"\"\"\n",
    "\n",
    "for segment in segments:\n",
    "    prompt = ChatPromptTemplate.from_template(template=template, partial_variables={\"format_instructions\": parser.get_format_instructions()})\n",
    "\n",
    "    llm = ChatOpenAI(temperature=0, model=\"gpt-4o\")\n",
    "\n",
    "    chain = prompt | llm | parser\n",
    "\n",
    "    result = chain.invoke({\"company_name\": state.company_name, \"news\": state.segment[segment]['news_result'], \"business_segment\": segment, \"yoy\": state.segment[segment]['yoy']})\n",
    "\n",
    "    # 예측값 및 예측 이유업데이트\n",
    "    state.segment[segment].update({\"yoy_prediction\":result.yoy})\n",
    "    state.segment[segment].update({\"yoy_prediction_reason\":result.reason})"
   ]
  },
  {
   "cell_type": "code",
   "execution_count": 15,
   "metadata": {},
   "outputs": [
    {
     "data": {
      "text/plain": [
       "{'DX': {'yoy': 3.000059029116687,\n",
       "  'sales': 134357500000000,\n",
       "  'news_result': \"snippet: 삼성전자는 전경훈 사장을 포함해 전기·전자공학 분야에서 최고로 인정받는 5명의 IEEE 펠로우를 동시에 배출했다. IEEE 펠로우는 IEEE 회원 중 최상위 0.1% 이내로 선정되는 최고 기술자 등급이다., title: 삼성전자, 전경훈 사장 등 5명 美 IEEE 펠로우 선정, link: https://www.msn.com/ko-kr/news/other/삼성전자-전경훈-사장-등-5명-美-ieee-펠로우-선정/ar-AA1vYXR0, date: 2024-12-17T01:41:00+00:00, source: 이투데이 on MSN.com, snippet: [디지털데일리 옥송이 기자] 삼성전자가 인사 및 조직 개편을 마무리 지으면서 내년 업무 채비를 갖췄다. 모바일 및 가전 등 제품을 모두 아우르는 DX(디바이스 경험)부문은 한종희 대표이사를 ..., title: '한종희' 삼성전자 DX, 내년 키워드 '안정'…영업익 개선 숙제, link: https://www.ddaily.co.kr/page/view/2024120515115760549, date: 2024-12-05T16:26:00+00:00, source: 디지털데일리, snippet: [더팩트ㅣ이성락 기자] 위기론에 휩싸인 삼성전자가 주요 반도체 사업 수장을 교체하는 쇄신 인사를 단행했다. 삼성전자는 27일 사장 승진 2명, 위촉 업무 변경 7명 등 총 9명 규모의 2025년 정기 사장단 인사를 발표했다. 먼저 삼성전자 반도체(DS)부문 미주(DSA)총괄 한진만 부사장은 사장으로 승진, DS부문 파운드리사업부장을 맡게 됐다. 삼성전자 사, title: 삼성전자, 반도체 사업부장 교체 '쇄신 인사'…전영현 역할 확대, link: https://www.msn.com/ko-kr/money/경영진-리더십-및-관리/삼성전자-반도체-사업부장-교체-쇄신-인사-전영현-역할-확대/ar-AA1uOL5J, date: 2024-11-27T01:12:00+00:00, source: MSN, snippet: 삼성전자 가전 ... 지난 2022년부터 DX부문을 이끌고 있는 한 부회장은 내년에도 지휘봉을 잡게 됐다. DX부문 산하 MX(모바일경험)사업부, NW(네트워크 ..., title: '삼성 DX부문' 한종희 체제 유지…조직 안정에 무게, link: https://www.asiatoday.co.kr/kn/view.php?key=20241127010013744, date: 2024-11-27T10:34:00+00:00, source: 아시아투데이\",\n",
       "  'yoy_prediction': 3.05,\n",
       "  'yoy_prediction_reason': \"The recent news indicates a focus on stability and leadership continuity in the DX division, with key figures like Han Jong-hee maintaining their roles. Additionally, the recognition of Samsung's technical leadership through IEEE Fellow appointments suggests a strong emphasis on innovation and expertise. These factors, combined with the previous quarter's YoY growth, suggest a slight positive impact on the DX division's performance.\"},\n",
       " 'DS': {'yoy': 80.31495186193965,\n",
       "  'sales': 80965200000000,\n",
       "  'news_result': \"snippet: 박 부사장은 1966년생으로, 삼성전자 미래전략실(미전실) 출신 인사 중 한 명이다. 그는 이외에도 네트워크 사업부 ... 삼성전자는 DS 부문의 조직도 ..., title: 삼성전자 새 CFO에 박순철 부사장…DS부문 AI센터 신설(종합), link: https://www.asiae.co.kr/article/2024120416331952111, date: 2024-12-04T08:14:00+00:00, source: 아시아경제, snippet: [디지털데일리 옥송이 기자] 삼성전자는 27일 사장 승진 2명, 위촉업무 변경 7명 등 총 9명 규모의 2025년 정기 사장단 인사를 발표했다. 전현호 사업지원 TF장 부회장, 한종희 DX부문장 부회장 ..., title: '삼성전자 사장단 인사' 정현호·한종희·전영현 유임…DS 파운드리 사업부장에 한진만, link: https://www.ddaily.co.kr/page/view/2024112709463633025, date: 2024-11-27T10:06:00+00:00, source: 디지털데일리, snippet: 삼성전자가 정기 임원인사를 통해 총 137명의 부사장 이하 인재를 승진시켰다. 경영 위기를 극복하고 신성장동력을 강화하기 위해 세대교체와 성과 중심의 인적 쇄신을 단행했고, 소프트웨어(SW)와 신기술 분야의 우수 인재를 발탁해 미래 성장 기반을 마련했다.삼성전자는 29일 부사장과 상무, title: 삼성전자, 'AI·메모리' 핵심 인재 137명 승진, link: https://www.bloter.net/news/articleView.html?idxno=627226, date: 2024-11-28T17:11:00+00:00, source: 블로터, snippet: 정책 채권 분양 주택 정책 은행 카드 보험 기업 생활 IT 헬스 문화 영상 포토 전국 피플 영화 가요 포토 정치·사회 경제·마켓 기업 인물·화제 국제일반 골프일반 생생레슨 10대골프장 사설 사내칼럼 사외칼럼 경매 작가 전시 Pick, title: 삼성전자, 3040 기술인재 집중 발탁…승진 규모는 7년새 최소, link: https://www.sedaily.com/NewsView/2DH18DTCI1/GC01, date: 2024-11-29T06:54:00+00:00, source: 서울경제\",\n",
       "  'yoy_prediction': 85.0,\n",
       "  'yoy_prediction_reason': \"The recent organizational changes in Samsung's DS division, including the appointment of a new CFO and the establishment of an AI center, suggest a strategic focus on innovation and efficiency. Additionally, the promotion of key talent in AI and memory sectors indicates a commitment to strengthening core competencies. These factors are likely to positively impact the DS division's performance, leading to an expected increase in yoy growth compared to the previous quarter.\"},\n",
       " 'SDC': {'yoy': -1.3328141566349845,\n",
       "  'sales': 21031700000000,\n",
       "  'news_result': 'snippet: SDC 부문의 매출액이 전기 대비 5% 증가한 8조원을 달성했다. 31일 삼성전자는 매출 79조1000억원, 영업이익 9조1800 ..., title: [삼성전자 3Q IR] SDC 매출액 전기비 5% 증가한 8조원, link: https://www.ebn.co.kr/news/articleView.html?idxno=1641845, date: 2024-10-31T11:00:00+00:00, source: EBN 산업경제신문, snippet: 삼성전자가 올해 3분기 세계 기업용 솔리드스테이트드라이브(SSD) 시장에서 지난 분기보다 29% 증가한 32억달러(4조5868억)를 달성하며 43.4%의 점유율로 ..., title: 삼성전자, 기업용 SSD 매출 29% 증가…세계 시장 점유율 1위 수성, link: https://biz.chosun.com/it-science/ict/2024/12/11/AN2M2QLHCJESVBIF7LHU5XXVBA/, date: 2024-12-11T05:01:00+00:00, source: 조선일보, snippet: [서울=뉴스핌] 김정인 기자 = 삼성전자 모바일경험(MX ... 삼성전자에 따르면 MX와 네트워크사업부(NW)는 올 3분기 매출 30조5200억원, 영업이익 2조8200 ..., title: 삼성전자 버팀목 된 MX사업부…AI폰 플래그십 전략 먹혔다, link: https://www.msn.com/ko-kr/news/other/삼성전자-버팀목-된-mx사업부-ai폰-플래그십-전략-먹혔다/ar-AA1tfkKy, date: 2024-10-31T06:06:00+00:00, source: 뉴스핌 on MSN.com, snippet: 3나노 앞세운 TSMC 32조원 기록… 최첨단 칩 독식 영업이익률 47.5% 삼성 비메모리 적자 1조원 넘을듯… 메모리선 中 창신메모리 추격받아 정부 \"삼성 ..., title: 삼성전자, TSMC와 엎치락뒤치락… 3분기 반도체 매출 1위 내줄듯, link: https://www.msn.com/ko-kr/news/other/삼성전자-tsmc와-엎치락뒤치락-3분기-반도체-매출-1위-내줄듯/ar-AA1sBlSA, date: 2024-10-20T18:12:00+00:00, source: 동아일보 on MSN.com',\n",
       "  'yoy_prediction': 0.05,\n",
       "  'yoy_prediction_reason': \"The SDC business segment's revenue increased by 5% quarter-over-quarter, reaching 8 trillion KRW. This positive growth suggests a potential year-over-year improvement, especially considering the previous quarter's negative yoy of -1.33%. The increase in revenue indicates a recovery or growth trend, which is likely to reflect positively in the yoy comparison.\"},\n",
       " 'Harman': {'yoy': -1.1009069102932885,\n",
       "  'sales': 10348900000000,\n",
       "  'news_result': 'snippet: [서울=뉴스핌] 김정인 기자 = 삼성전자 모바일경험(MX ... 삼성전자에 따르면 MX와 네트워크사업부(NW)는 올 3분기 매출 30조5200억원, 영업이익 2조8200 ..., title: 삼성전자 버팀목 된 MX사업부…AI폰 플래그십 전략 먹혔다, link: https://www.msn.com/ko-kr/news/other/삼성전자-버팀목-된-mx사업부-ai폰-플래그십-전략-먹혔다/ar-AA1tfkKy, date: 2024-10-31T06:06:00+00:00, source: 뉴스핌 on MSN.com, snippet: 삼성전자가 반도체 사업을 담당하는 DS(디바이스솔루션) 부문의 부진으로 올해 3분기(7~9월) 시장 기대치를 밑도는 성적표를 받아들었다. 삼성전자는 ..., title: 삼성전자, 3Q 매출 79.1조원·영업익 9.2조원…\"4Q 실적 개선 전망\", link: https://www.ebn.co.kr/news/articleView.html?idxno=1641822, date: 2024-10-31T10:10:00+00:00, source: EBN 산업경제신문, snippet: 3나노 앞세운 TSMC 32조원 기록… 최첨단 칩 독식 영업이익률 47.5% 삼성 비메모리 적자 1조원 넘을듯… 메모리선 中 창신메모리 추격받아 정부 \"삼성 ..., title: 삼성전자, TSMC와 엎치락뒤치락… 3분기 반도체 매출 1위 내줄듯, link: https://www.msn.com/ko-kr/news/other/삼성전자-tsmc와-엎치락뒤치락-3분기-반도체-매출-1위-내줄듯/ar-AA1sBlSA, date: 2024-10-20T18:12:00+00:00, source: 동아일보 on MSN.com, snippet: 24일 삼성전자에 따르면 최근 CE 부문 산하 의료기기사업부를 별도의 전사 조직으로 분리했다. 의료기기사업부의 매출 비중도 미미한데다 TV ..., title: 삼성전자, 의료기기사업부 CE에서 분리....삼성메디슨과 합병(?), link: https://www.newspim.com/news/view/20171124000179, date: 2024-11-17T00:00:00+00:00, source: 뉴스핌',\n",
       "  'yoy_prediction': -1.05,\n",
       "  'yoy_prediction_reason': \"The news articles indicate that Samsung's semiconductor division underperformed, which could indirectly affect Harman's performance due to potential resource allocation shifts within Samsung. However, the strong performance of the MX division might provide some offsetting positive impact. Considering these factors, a slight improvement from the previous quarter's yoy of -1.10 to -1.05 is anticipated.\"},\n",
       " '영업수익': {'yoy': 17.748413234716548, 'sales': 225082634000000}}"
      ]
     },
     "execution_count": 15,
     "metadata": {},
     "output_type": "execute_result"
    }
   ],
   "source": [
    "state.segment"
   ]
  },
  {
   "cell_type": "code",
   "execution_count": 16,
   "metadata": {},
   "outputs": [
    {
     "data": {
      "text/html": [
       "<div>\n",
       "<style scoped>\n",
       "    .dataframe tbody tr th:only-of-type {\n",
       "        vertical-align: middle;\n",
       "    }\n",
       "\n",
       "    .dataframe tbody tr th {\n",
       "        vertical-align: top;\n",
       "    }\n",
       "\n",
       "    .dataframe thead th {\n",
       "        text-align: right;\n",
       "    }\n",
       "</style>\n",
       "<table border=\"1\" class=\"dataframe\">\n",
       "  <thead>\n",
       "    <tr style=\"text-align: right;\">\n",
       "      <th></th>\n",
       "      <th>계정</th>\n",
       "      <th>2024-3Q</th>\n",
       "      <th>2024-2Q</th>\n",
       "      <th>2024-1Q</th>\n",
       "      <th>2023</th>\n",
       "      <th>2023-3Q</th>\n",
       "    </tr>\n",
       "  </thead>\n",
       "  <tbody>\n",
       "    <tr>\n",
       "      <th>0</th>\n",
       "      <td>DX</td>\n",
       "      <td>134357500000000</td>\n",
       "      <td>89363600000000</td>\n",
       "      <td>47292700000000</td>\n",
       "      <td>169992300000000</td>\n",
       "      <td>130444100000000</td>\n",
       "    </tr>\n",
       "    <tr>\n",
       "      <th>1</th>\n",
       "      <td>DS</td>\n",
       "      <td>80965200000000</td>\n",
       "      <td>51693800000000</td>\n",
       "      <td>23137300000000</td>\n",
       "      <td>66594500000000</td>\n",
       "      <td>44902100000000</td>\n",
       "    </tr>\n",
       "    <tr>\n",
       "      <th>2</th>\n",
       "      <td>SDC</td>\n",
       "      <td>21031700000000</td>\n",
       "      <td>13032600000000</td>\n",
       "      <td>5386400000000</td>\n",
       "      <td>30975400000000</td>\n",
       "      <td>21315800000000</td>\n",
       "    </tr>\n",
       "    <tr>\n",
       "      <th>3</th>\n",
       "      <td>Harman</td>\n",
       "      <td>10348900000000</td>\n",
       "      <td>6819300000000</td>\n",
       "      <td>3200300000000</td>\n",
       "      <td>14388500000000</td>\n",
       "      <td>10464100000000</td>\n",
       "    </tr>\n",
       "    <tr>\n",
       "      <th>4</th>\n",
       "      <td>영업수익</td>\n",
       "      <td>225082634000000</td>\n",
       "      <td>74068302000000</td>\n",
       "      <td>71915601000000</td>\n",
       "      <td>258935494000000</td>\n",
       "      <td>191155556000000</td>\n",
       "    </tr>\n",
       "    <tr>\n",
       "      <th>5</th>\n",
       "      <td>영업비용</td>\n",
       "      <td>198849376000000</td>\n",
       "      <td>63624424000000</td>\n",
       "      <td>65309592000000</td>\n",
       "      <td>252368518000000</td>\n",
       "      <td>187413297000000</td>\n",
       "    </tr>\n",
       "    <tr>\n",
       "      <th>6</th>\n",
       "      <td>영업이익</td>\n",
       "      <td>26233258000000</td>\n",
       "      <td>10443878000000</td>\n",
       "      <td>6606009000000</td>\n",
       "      <td>6566976000000</td>\n",
       "      <td>3742259000000</td>\n",
       "    </tr>\n",
       "    <tr>\n",
       "      <th>7</th>\n",
       "      <td>영업이익률</td>\n",
       "      <td>0</td>\n",
       "      <td>0</td>\n",
       "      <td>0</td>\n",
       "      <td>0</td>\n",
       "      <td>0</td>\n",
       "    </tr>\n",
       "    <tr>\n",
       "      <th>8</th>\n",
       "      <td>순이익</td>\n",
       "      <td>26696957000000</td>\n",
       "      <td>9841345000000</td>\n",
       "      <td>6754708000000</td>\n",
       "      <td>15487100000000</td>\n",
       "      <td>5844171000000</td>\n",
       "    </tr>\n",
       "    <tr>\n",
       "      <th>9</th>\n",
       "      <td>순이익률</td>\n",
       "      <td>0</td>\n",
       "      <td>0</td>\n",
       "      <td>0</td>\n",
       "      <td>0</td>\n",
       "      <td>0</td>\n",
       "    </tr>\n",
       "  </tbody>\n",
       "</table>\n",
       "</div>"
      ],
      "text/plain": [
       "       계정          2024-3Q         2024-2Q         2024-1Q             2023  \\\n",
       "0      DX  134357500000000  89363600000000  47292700000000  169992300000000   \n",
       "1      DS   80965200000000  51693800000000  23137300000000   66594500000000   \n",
       "2     SDC   21031700000000  13032600000000   5386400000000   30975400000000   \n",
       "3  Harman   10348900000000   6819300000000   3200300000000   14388500000000   \n",
       "4    영업수익  225082634000000  74068302000000  71915601000000  258935494000000   \n",
       "5    영업비용  198849376000000  63624424000000  65309592000000  252368518000000   \n",
       "6    영업이익   26233258000000  10443878000000   6606009000000    6566976000000   \n",
       "7   영업이익률                0               0               0                0   \n",
       "8     순이익   26696957000000   9841345000000   6754708000000   15487100000000   \n",
       "9    순이익률                0               0               0                0   \n",
       "\n",
       "           2023-3Q  \n",
       "0  130444100000000  \n",
       "1   44902100000000  \n",
       "2   21315800000000  \n",
       "3   10464100000000  \n",
       "4  191155556000000  \n",
       "5  187413297000000  \n",
       "6    3742259000000  \n",
       "7                0  \n",
       "8    5844171000000  \n",
       "9                0  "
      ]
     },
     "execution_count": 16,
     "metadata": {},
     "output_type": "execute_result"
    }
   ],
   "source": [
    "naver_income_stmt_cum"
   ]
  },
  {
   "cell_type": "code",
   "execution_count": 17,
   "metadata": {},
   "outputs": [
    {
     "data": {
      "text/html": [
       "<div>\n",
       "<style scoped>\n",
       "    .dataframe tbody tr th:only-of-type {\n",
       "        vertical-align: middle;\n",
       "    }\n",
       "\n",
       "    .dataframe tbody tr th {\n",
       "        vertical-align: top;\n",
       "    }\n",
       "\n",
       "    .dataframe thead th {\n",
       "        text-align: right;\n",
       "    }\n",
       "</style>\n",
       "<table border=\"1\" class=\"dataframe\">\n",
       "  <thead>\n",
       "    <tr style=\"text-align: right;\">\n",
       "      <th></th>\n",
       "      <th>계정</th>\n",
       "      <th>2024-3Q</th>\n",
       "      <th>2024-2Q</th>\n",
       "      <th>2024-1Q</th>\n",
       "      <th>2023</th>\n",
       "      <th>2023-3Q</th>\n",
       "      <th>next_quarter</th>\n",
       "    </tr>\n",
       "  </thead>\n",
       "  <tbody>\n",
       "    <tr>\n",
       "      <th>0</th>\n",
       "      <td>DX</td>\n",
       "      <td>134357500000000</td>\n",
       "      <td>89363600000000</td>\n",
       "      <td>47292700000000</td>\n",
       "      <td>169992300000000</td>\n",
       "      <td>130444100000000</td>\n",
       "      <td>175177065150000</td>\n",
       "    </tr>\n",
       "    <tr>\n",
       "      <th>1</th>\n",
       "      <td>DS</td>\n",
       "      <td>80965200000000</td>\n",
       "      <td>51693800000000</td>\n",
       "      <td>23137300000000</td>\n",
       "      <td>66594500000000</td>\n",
       "      <td>44902100000000</td>\n",
       "      <td>123199825000000</td>\n",
       "    </tr>\n",
       "    <tr>\n",
       "      <th>2</th>\n",
       "      <td>SDC</td>\n",
       "      <td>21031700000000</td>\n",
       "      <td>13032600000000</td>\n",
       "      <td>5386400000000</td>\n",
       "      <td>30975400000000</td>\n",
       "      <td>21315800000000</td>\n",
       "      <td>30990887700000</td>\n",
       "    </tr>\n",
       "    <tr>\n",
       "      <th>3</th>\n",
       "      <td>Harman</td>\n",
       "      <td>10348900000000</td>\n",
       "      <td>6819300000000</td>\n",
       "      <td>3200300000000</td>\n",
       "      <td>14388500000000</td>\n",
       "      <td>10464100000000</td>\n",
       "      <td>14237420750000</td>\n",
       "    </tr>\n",
       "    <tr>\n",
       "      <th>4</th>\n",
       "      <td>영업수익</td>\n",
       "      <td>225082634000000</td>\n",
       "      <td>74068302000000</td>\n",
       "      <td>71915601000000</td>\n",
       "      <td>258935494000000</td>\n",
       "      <td>191155556000000</td>\n",
       "      <td>0</td>\n",
       "    </tr>\n",
       "    <tr>\n",
       "      <th>5</th>\n",
       "      <td>영업비용</td>\n",
       "      <td>198849376000000</td>\n",
       "      <td>63624424000000</td>\n",
       "      <td>65309592000000</td>\n",
       "      <td>252368518000000</td>\n",
       "      <td>187413297000000</td>\n",
       "      <td>0</td>\n",
       "    </tr>\n",
       "    <tr>\n",
       "      <th>6</th>\n",
       "      <td>영업이익</td>\n",
       "      <td>26233258000000</td>\n",
       "      <td>10443878000000</td>\n",
       "      <td>6606009000000</td>\n",
       "      <td>6566976000000</td>\n",
       "      <td>3742259000000</td>\n",
       "      <td>0</td>\n",
       "    </tr>\n",
       "    <tr>\n",
       "      <th>7</th>\n",
       "      <td>영업이익률</td>\n",
       "      <td>0</td>\n",
       "      <td>0</td>\n",
       "      <td>0</td>\n",
       "      <td>0</td>\n",
       "      <td>0</td>\n",
       "      <td>0</td>\n",
       "    </tr>\n",
       "    <tr>\n",
       "      <th>8</th>\n",
       "      <td>순이익</td>\n",
       "      <td>26696957000000</td>\n",
       "      <td>9841345000000</td>\n",
       "      <td>6754708000000</td>\n",
       "      <td>15487100000000</td>\n",
       "      <td>5844171000000</td>\n",
       "      <td>0</td>\n",
       "    </tr>\n",
       "    <tr>\n",
       "      <th>9</th>\n",
       "      <td>순이익률</td>\n",
       "      <td>0</td>\n",
       "      <td>0</td>\n",
       "      <td>0</td>\n",
       "      <td>0</td>\n",
       "      <td>0</td>\n",
       "      <td>0</td>\n",
       "    </tr>\n",
       "  </tbody>\n",
       "</table>\n",
       "</div>"
      ],
      "text/plain": [
       "       계정          2024-3Q         2024-2Q         2024-1Q             2023  \\\n",
       "0      DX  134357500000000  89363600000000  47292700000000  169992300000000   \n",
       "1      DS   80965200000000  51693800000000  23137300000000   66594500000000   \n",
       "2     SDC   21031700000000  13032600000000   5386400000000   30975400000000   \n",
       "3  Harman   10348900000000   6819300000000   3200300000000   14388500000000   \n",
       "4    영업수익  225082634000000  74068302000000  71915601000000  258935494000000   \n",
       "5    영업비용  198849376000000  63624424000000  65309592000000  252368518000000   \n",
       "6    영업이익   26233258000000  10443878000000   6606009000000    6566976000000   \n",
       "7   영업이익률                0               0               0                0   \n",
       "8     순이익   26696957000000   9841345000000   6754708000000   15487100000000   \n",
       "9    순이익률                0               0               0                0   \n",
       "\n",
       "           2023-3Q     next_quarter  \n",
       "0  130444100000000  175177065150000  \n",
       "1   44902100000000  123199825000000  \n",
       "2   21315800000000   30990887700000  \n",
       "3   10464100000000   14237420750000  \n",
       "4  191155556000000                0  \n",
       "5  187413297000000                0  \n",
       "6    3742259000000                0  \n",
       "7                0                0  \n",
       "8    5844171000000                0  \n",
       "9                0                0  "
      ]
     },
     "execution_count": 17,
     "metadata": {},
     "output_type": "execute_result"
    }
   ],
   "source": [
    "# 다음 분기(예측) 열 추가 (모든 행 0으로 초기화)\n",
    "naver_income_stmt_cum['next_quarter'] = 0\n",
    "\n",
    "# segments에 있는 계정에 대해서만 yoy_prediction을 적용하여 업데이트\n",
    "for segment in segments:\n",
    "    yoy_prediction = state.segment[segment]['yoy_prediction']\n",
    "    growth_rate = 1 + (yoy_prediction / 100)  # yoy_prediction을 성장률로 변환\n",
    "    \n",
    "    # 해당 segment 행의 next_quarter 값을 업데이트(next_quarter의 1년 전 분기 값 * 성장률)\n",
    "    naver_income_stmt_cum.loc[naver_income_stmt_cum['계정'] == segment, 'next_quarter'] = naver_income_stmt_cum.loc[naver_income_stmt_cum['계정'] == segment].iloc[:,4] * growth_rate\n",
    "\n",
    "naver_income_stmt_cum"
   ]
  },
  {
   "cell_type": "code",
   "execution_count": null,
   "metadata": {},
   "outputs": [],
   "source": [
    "# next_quarter의 segments 행들의 합계 계산\n",
    "revenue_sum = naver_income_stmt_cum.loc[naver_income_stmt_cum['계정'].isin(segments), 'next_quarter'].sum()\n",
    "\n",
    "# segments의 합계를 영업수익 값으로 업데이트\n",
    "naver_income_stmt_cum.loc[naver_income_stmt_cum['계정'] == '영업수익', 'next_quarter'] = revenue_sum\n",
    "naver_income_stmt_cum"
   ]
  },
  {
   "cell_type": "code",
   "execution_count": null,
   "metadata": {},
   "outputs": [],
   "source": [
    "# 직전분기의 영업수익 대비 영업비용 비율 계산\n",
    "revenue_current_quarter = naver_income_stmt_cum.loc[naver_income_stmt_cum['계정'] == '영업수익'].iloc[:,1].values[0]\n",
    "cost_current_quarter = naver_income_stmt_cum.loc[naver_income_stmt_cum['계정'] == '영업비용'].iloc[:,1].values[0]\n",
    "cost_ratio = cost_current_quarter / revenue_current_quarter\n",
    "\n",
    "# 동기간 전분기의 영업비용비율을 다음 분기의 영업비용 예측에 사용(영업이익률을 그대로 사용)\n",
    "revenue_next_quarter = naver_income_stmt_cum.loc[naver_income_stmt_cum['계정'] == '영업수익', 'next_quarter'].values[0]\n",
    "cost_next_quarter = revenue_next_quarter * cost_ratio\n",
    "\n",
    "# 영업비용 행의 next_quarter 값을 업데이트\n",
    "naver_income_stmt_cum.loc[naver_income_stmt_cum['계정'] == '영업비용', 'next_quarter'] = cost_next_quarter\n",
    "\n",
    "naver_income_stmt_cum"
   ]
  },
  {
   "cell_type": "code",
   "execution_count": null,
   "metadata": {},
   "outputs": [],
   "source": [
    "# next_quarter의 영업이익 계산 (영업수익 - 영업비용)\n",
    "operating_profit_next_quarter = revenue_next_quarter - cost_next_quarter\n",
    "\n",
    "# 영업이익 행의 next_quarter 값을 업데이트\n",
    "naver_income_stmt_cum.loc[naver_income_stmt_cum['계정'] == '영업이익', 'next_quarter'] = operating_profit_next_quarter\n",
    "\n",
    "naver_income_stmt_cum"
   ]
  },
  {
   "cell_type": "code",
   "execution_count": null,
   "metadata": {},
   "outputs": [],
   "source": [
    "# 다음분기의 영업이익률 계산 (영업이익/영업수익 * 100)\n",
    "operating_margin_next_quarter = (operating_profit_next_quarter / revenue_next_quarter)\n",
    "\n",
    "# 영업이익률 행의 next_quarter 값을 업데이트\n",
    "naver_income_stmt_cum.loc[naver_income_stmt_cum['계정'] == '영업이익률', 'next_quarter'] = operating_margin_next_quarter\n",
    "\n",
    "naver_income_stmt_cum"
   ]
  },
  {
   "cell_type": "code",
   "execution_count": null,
   "metadata": {},
   "outputs": [],
   "source": [
    "# 직전분기의 순이익률 계산\n",
    "net_income_current_quarter = naver_income_stmt_cum.loc[naver_income_stmt_cum['계정'] == '순이익'].iloc[:,1].values[0]\n",
    "net_margin_current_quarter = net_income_current_quarter / revenue_current_quarter\n",
    "\n",
    "# 다음분기의 순이익 계산(직전분기의 순이익률 * 다음분기의 추정 영업수익)\n",
    "net_income_next_quarter = revenue_next_quarter * net_margin_current_quarter\n",
    "\n",
    "# 순이익과 순이익률 행 업데이트\n",
    "naver_income_stmt_cum.loc[naver_income_stmt_cum['계정'] == '순이익', 'next_quarter'] = net_income_next_quarter\n",
    "naver_income_stmt_cum.loc[naver_income_stmt_cum['계정'] == '순이익률', 'next_quarter'] = net_margin_current_quarter\n",
    "\n",
    "naver_income_stmt_cum"
   ]
  },
  {
   "cell_type": "code",
   "execution_count": 23,
   "metadata": {},
   "outputs": [],
   "source": [
    "def naver_sales_earning_surprise() -> float:\n",
    "    \"\"\"네이버 증권 -> 종목분석 -> 컨센서스 -> 어닝서프라이즈(매출액) -> 분기\n",
    "        return :\n",
    "        직전 분기 매출액에 대한 발표직전 컨센서스 (단위: 억원) + 직전 분기의 전분기까지의 실제 매출액 = 직전 분기까지 누적 매출액 컨센서스\n",
    "    \"\"\"\n",
    "    current_quarter_sales_consensus = 26620.4 * (10 ** 8) # 크롤링 추가 필요\n",
    "    before_current_quarter_sales_cum = naver_income_stmt_cum.loc[naver_income_stmt_cum['계정'] == '영업수익'].iloc[:,2].values[0]\n",
    "\n",
    "    return current_quarter_sales_consensus + before_current_quarter_sales_cum\n"
   ]
  },
  {
   "cell_type": "code",
   "execution_count": null,
   "metadata": {},
   "outputs": [],
   "source": [
    "current_quarter_sales_cum_consensus = naver_sales_earning_surprise()\n",
    "current_quarter_sales_cum_consensus"
   ]
  },
  {
   "cell_type": "code",
   "execution_count": null,
   "metadata": {},
   "outputs": [],
   "source": [
    "current_quarter_sales_cum = state.segment['영업수익']['sales']\n",
    "current_quarter_sales_cum"
   ]
  },
  {
   "cell_type": "code",
   "execution_count": null,
   "metadata": {},
   "outputs": [],
   "source": [
    "year_ago_quarter_sales_cum = naver_income_stmt_cum.loc[naver_income_stmt_cum['계정'] == '영업수익'].iloc[:,5].values[0]\n",
    "yoy_consensus = ((current_quarter_sales_cum_consensus - year_ago_quarter_sales_cum) / year_ago_quarter_sales_cum) * 100\n",
    "yoy_consensus"
   ]
  },
  {
   "cell_type": "code",
   "execution_count": 27,
   "metadata": {},
   "outputs": [],
   "source": [
    "state.segment['영업수익'].update({\"yoy_consensus\":yoy_consensus})\n",
    "state.segment['영업수익'].update({\"sales_consensus\":current_quarter_sales_cum_consensus})"
   ]
  },
  {
   "cell_type": "code",
   "execution_count": null,
   "metadata": {},
   "outputs": [],
   "source": [
    "state.segment['영업수익']"
   ]
  },
  {
   "cell_type": "code",
   "execution_count": 29,
   "metadata": {},
   "outputs": [],
   "source": [
    "def current_quarter_review(state:State) -> None:\n",
    "    \"\"\"직전 분기 실적 리뷰를 작성\"\"\"\n",
    "\n",
    "    result_of_business_segment = \"\"\n",
    "    for segment in segments:\n",
    "        result_of_business_segment += f\"{segment} 사업부의 직전 분기 매출액은 {state.segment[segment]['sales']} 입니다. yoy로 {state.segment[segment]['yoy']}% 변했습니다.\\n\"\n",
    "\n",
    "    result_of_total_business = f\"총 매출액은 {state.segment['영업수익']['sales']} 입니다. yoy로 {state.segment['영업수익']['yoy']}% 변했습니다.\"\n",
    "\n",
    "    consensus_of_total_business = f\"총 매출액에 대한 컨센서스는 {state.segment['영업수익']['sales_consensus']} 였습니다. yoy로 {state.segment['영업수익']['yoy_consensus']}% 변화하는 것이 컨센서스였습니다.\"\n",
    "\n",
    "    template = \"\"\"\n",
    "    당신은 증권사 소속 애널리스트입니다.\n",
    "    다음 내용을 참고하여 직전 분기 실적에 대한 리뷰를 작성하시오.\n",
    "\n",
    "    직전 분기 사업부별 매출 실적 : {result_of_business_segment}\n",
    "    직전 분기 총 매출 실적 : {result_of_total_business}\n",
    "    직전 분기 총 매출 실적에 대한 컨센서스 : {consensus_of_total_business}\n",
    "\n",
    "    \"\"\"\n",
    "    prompt = ChatPromptTemplate.from_template(template=template)\n",
    "    llm = ChatOpenAI(temperature=0, model=\"gpt-4o\")\n",
    "    chain = prompt | llm \n",
    "    review = chain.invoke({\"result_of_business_segment\":result_of_business_segment, \"result_of_total_business\":result_of_total_business, \"consensus_of_total_business\":consensus_of_total_business})\n",
    "    state.segment['영업수익'].update({\"review\":review.content})\n",
    "\n",
    "    return None\n",
    "\n",
    "current_quarter_review(state)"
   ]
  },
  {
   "cell_type": "code",
   "execution_count": null,
   "metadata": {},
   "outputs": [],
   "source": [
    "print(state.segment['영업수익']['review'])"
   ]
  },
  {
   "cell_type": "code",
   "execution_count": 32,
   "metadata": {},
   "outputs": [],
   "source": [
    "from yahooquery import search\n",
    "from deep_translator import GoogleTranslator\n",
    "\n",
    "# 한글 문자 범위를 이용해 한글 포함 여부 확인\n",
    "def contains_korean(text):\n",
    "    for char in text:\n",
    "        if '\\uac00' <= char <= '\\ud7a3' or '\\u3131' <= char <= '\\u318e':\n",
    "            return True\n",
    "    return False\n",
    "\n",
    "def get_ticker(company_name):\n",
    "    try:            \n",
    "        # 한글 포함 여부 확인\n",
    "        is_korean = contains_korean(company_name)\n",
    "        if is_korean:\n",
    "            # 회사명을 영어로 번역\n",
    "            translated = GoogleTranslator(source='auto', target='en').translate(company_name)\n",
    "            \n",
    "            # 번역된 이름으로 검색\n",
    "            results = search(translated)\n",
    "        else:\n",
    "            results = search(company_name)\n",
    "            \n",
    "        # KSC, NYSE, NASDAQ, AMEX, JPX, HKG 순서로 찾기\n",
    "        for quote in results['quotes']:\n",
    "            if quote['exchange'] == 'KSC': # 한국\n",
    "                return quote['symbol']\n",
    "            elif quote['exchange'] == 'NYQ': # NYSE\n",
    "                return quote['symbol']\n",
    "            elif quote['exchange'] == 'NMS': # NASDAQ\n",
    "                return quote['symbol']\n",
    "            elif quote['exchange'] == 'JPX': # 일본\n",
    "                return quote['symbol']\n",
    "            elif quote['exchange'] == 'HKG': # 홍콩\n",
    "                return quote['symbol']\n",
    "            else:\n",
    "                continue\n",
    "        \n",
    "        # KSC, NYSE, NASDAQ, AMEX에 없으면 None 반환\n",
    "        return None\n",
    "    except Exception as e:\n",
    "        print(f\"Error translating or searching for {company_name}: {e}\")\n",
    "        return None"
   ]
  },
  {
   "cell_type": "code",
   "execution_count": 33,
   "metadata": {},
   "outputs": [],
   "source": [
    "from langchain.output_parsers import ResponseSchema, StructuredOutputParser\n",
    "from langchain_core.prompts import PromptTemplate\n",
    "\n",
    "response_schemas = [\n",
    "    ResponseSchema(name=\"answer\", description=\"사용자의 질문에 대한 답변, 파이썬 리스트 형식이어야 함.\"),\n",
    "    ]\n",
    "\n",
    "output_parser = StructuredOutputParser.from_response_schemas(response_schemas)\n",
    "# 출력 형식 지시사항을 파싱합니다.\n",
    "format_instructions = output_parser.get_format_instructions()\n",
    "prompt = PromptTemplate(\n",
    "    # 사용자의 질문에 최대한 답변하도록 템플릿을 설정합니다.\n",
    "    template=\"answer the users question as best as possible.\\n{format_instructions}\\n{question}\",\n",
    "    # 입력 변수로 'question'을 사용합니다.\n",
    "    input_variables=[\"question\"],\n",
    "    # 부분 변수로 'format_instructions'을 사용합니다.\n",
    "    partial_variables={\"format_instructions\": format_instructions},\n",
    ")"
   ]
  },
  {
   "cell_type": "code",
   "execution_count": 34,
   "metadata": {},
   "outputs": [],
   "source": [
    "import yfinance as yf\n",
    "import numpy as np\n",
    "\n",
    "def find_peer(company: str) -> list[str]:\n",
    "    prompt = PromptTemplate(\n",
    "    # 사용자의 질문에 최대한 답변하도록 템플릿을 설정합니다.\n",
    "    template=\"answer the users question as best as possible.\\n{format_instructions}\\n{question}\",\n",
    "    # 입력 변수로 'question'을 사용합니다.\n",
    "    input_variables=[\"question\"],\n",
    "    # 부분 변수로 'format_instructions'을 사용합니다.\n",
    "    partial_variables={\"format_instructions\": format_instructions},\n",
    "    )\n",
    "    chain = prompt | llm | output_parser  # 프롬프트, 모델, 출력 파서를 연결\n",
    "    peer_list = chain.invoke({\"question\": f\"{company}와 사업구조가 비슷하고, 같은 산업 혹은 섹터에 속한 경쟁사는?\"\n",
    "                              \"(코스피, 뉴욕거래소 등 상장된 회사만 찾으세요. 반드시 회사명만 출력해주세요.)\"})\n",
    "    return peer_list\n",
    "\n",
    "def find_peer_PERs_tool(company: str) -> None:\n",
    "    \"\"\"기업과 동종 업계의 Peer Group PER 평균을 찾습니다.\"\"\"\n",
    "    ticker = get_ticker(company)\n",
    "    peer_list = find_peer(company)['answer']\n",
    "    if ticker is None:\n",
    "        return None\n",
    "    \n",
    "    peer_pers = {}\n",
    "    for peer in peer_list:\n",
    "        ticker = get_ticker(peer)\n",
    "        if ticker is None:\n",
    "            continue\n",
    "        elif \".KS\" in ticker:\n",
    "            ticker = yf.Ticker(ticker)\n",
    "            earning_ttm = 0\n",
    "            for i in range(4):\n",
    "                earning_ttm += ticker.quarterly_income_stmt.loc['Net Income Common Stockholders'][i]\n",
    "            trailingPERttm = ticker.info.get(\"marketCap\")/earning_ttm\n",
    "            if trailingPERttm <0 :\n",
    "                continue\n",
    "            peer_pers[peer] = trailingPERttm\n",
    "        else:\n",
    "            ticker = yf.Ticker(ticker)\n",
    "            earning_ttm = 0\n",
    "            for i in range(4):\n",
    "                earning_ttm += ticker.quarterly_income_stmt.loc['Net Income Common Stockholders'][i]\n",
    "            trailingPERttm = ticker.info.get(\"marketCap\")/earning_ttm*0.7 # 외국 주식의 경우 PER을 30% 할인\n",
    "            if trailingPERttm <0 :\n",
    "                continue\n",
    "            if np.isnan(trailingPERttm):\n",
    "                continue\n",
    "            peer_pers[peer] = trailingPERttm\n",
    "\n",
    "    print(peer_pers)\n",
    "\n",
    "    valid_peer_pers = {key: value for key, value in peer_pers.items() \n",
    "                 if 0.5 * state.PER <= value <= 2 * state.PER}\n",
    "    \n",
    "    print(valid_peer_pers)\n",
    "    \n",
    "    average_peer_per = sum(valid_peer_pers.values()) / len(valid_peer_pers)\n",
    "\n",
    "    state.peer_list = peer_list\n",
    "    state.average_peer_PER = average_peer_per\n",
    "\n",
    "    return None"
   ]
  },
  {
   "cell_type": "code",
   "execution_count": 35,
   "metadata": {},
   "outputs": [],
   "source": [
    "def find_PER_tool(company: str) -> None:\n",
    "    \"\"\"기업의 현재 PER(TTM)를 찾습니다.\"\"\"\n",
    "    ticker = get_ticker(company)\n",
    "    if ticker is None:\n",
    "        return None\n",
    "    else:\n",
    "        ticker = yf.Ticker(ticker)\n",
    "        earning_ttm = 0\n",
    "        for i in range(4):\n",
    "            earning_ttm += ticker.quarterly_income_stmt.loc['Net Income Common Stockholders'][i]\n",
    "        trailingPERttm = ticker.info[\"marketCap\"]/earning_ttm\n",
    "        state.PER = trailingPERttm\n",
    "        return None\n"
   ]
  },
  {
   "cell_type": "code",
   "execution_count": null,
   "metadata": {},
   "outputs": [],
   "source": [
    "find_PER_tool(state.company_name)\n",
    "find_peer_PERs_tool(state.company_name)"
   ]
  },
  {
   "cell_type": "code",
   "execution_count": null,
   "metadata": {},
   "outputs": [],
   "source": [
    "state.PER"
   ]
  },
  {
   "cell_type": "code",
   "execution_count": null,
   "metadata": {},
   "outputs": [],
   "source": [
    "state.peer_list"
   ]
  },
  {
   "cell_type": "code",
   "execution_count": null,
   "metadata": {},
   "outputs": [],
   "source": [
    "state.average_peer_PER"
   ]
  },
  {
   "cell_type": "code",
   "execution_count": 45,
   "metadata": {},
   "outputs": [],
   "source": [
    "previous_quarter_review_result = state.segment['영업수익']['review']\n",
    "segment_yoy_prediction_result = \"\"\n",
    "for segment in segments:\n",
    "    segment_yoy_prediction_result += f\"다음 분기 {segment} 사업부의 매출액은 yoy로 {state.segment[segment]['yoy_prediction']}% 변화할 것으로 예측됩니다.\\n 직전 분기 {segment} 사업부의 매출액은 {state.segment[segment]['yoy']}% 변화했습니다.\\n\"\n",
    "    segment_yoy_prediction_result += f\"그 이유는 다음과 같습니다. {state.segment[segment]['yoy_prediction_reason']}\\n\"\n",
    "    segment_yoy_prediction_result += f\"이 예측은 다음과 같은 뉴스를 기반으로 이루어졌습니다. {state.segment[segment]['news_result']}\\n\"\n",
    "\n",
    "template = \"\"\"\n",
    "당신은 증권사 소속 애널리스트입니다.\n",
    "다음 내용을 참고하여 각 사업부별 매출액 예측결과와 근거를 사업부별로 정리하여 작성하세요.\n",
    "근거를 서술할 때에는 근거가 된 뉴스를 반드시 언급하세요.\n",
    "다음 분기 매출액 yoy 증가율 예측결과와 직전분기 매출액 yoy 증가율을 비교하여 예측결과가 더 정확할 것으로 예상되는 이유를 서술하세요.\n",
    "\n",
    "사업부별 매출 예측 결과와 근거 : {segment_yoy_prediction_result}\n",
    "\"\"\"\n",
    "prompt = ChatPromptTemplate.from_template(template=template)\n",
    "llm = ChatOpenAI(temperature=0, model=\"gpt-4o\")\n",
    "chain = prompt | llm\n",
    "segment_yoy_prediction_result = chain.invoke({\"segment_yoy_prediction_result\": segment_yoy_prediction_result}).content"
   ]
  },
  {
   "cell_type": "code",
   "execution_count": null,
   "metadata": {},
   "outputs": [],
   "source": [
    "print(segment_yoy_prediction_result)"
   ]
  },
  {
   "cell_type": "code",
   "execution_count": 47,
   "metadata": {},
   "outputs": [],
   "source": [
    "ticker = get_ticker(state.company_name)\n",
    "ticker = yf.Ticker(ticker)\n",
    "estEarnings = naver_income_stmt_cum.loc[naver_income_stmt_cum['계정'] == '순이익','next_quarter'].values[0]\n",
    "shares = ticker.info.get(\"sharesOutstanding\")\n",
    "EPS = estEarnings/shares"
   ]
  },
  {
   "cell_type": "code",
   "execution_count": null,
   "metadata": {},
   "outputs": [],
   "source": [
    "estEarnings"
   ]
  },
  {
   "cell_type": "code",
   "execution_count": null,
   "metadata": {},
   "outputs": [],
   "source": [
    "EPS"
   ]
  },
  {
   "cell_type": "code",
   "execution_count": 50,
   "metadata": {},
   "outputs": [],
   "source": [
    "price_consensus = ticker.analyst_price_targets"
   ]
  },
  {
   "cell_type": "code",
   "execution_count": null,
   "metadata": {},
   "outputs": [],
   "source": [
    "price_consensus['mean']"
   ]
  },
  {
   "cell_type": "code",
   "execution_count": 52,
   "metadata": {},
   "outputs": [],
   "source": [
    "price_consensus = ticker.analyst_price_targets\n",
    "\n",
    "template = \"\"\"\n",
    "당신은 증권사 소속 애널리스트입니다.\n",
    "다음 내용을 참고하여 {company_name}의 목표 주가를 설정하고 그 이유를 반드시 서술하세요.\n",
    "직전분기 매출 실적 리뷰 내용과 사업부별 매출 예측 결과와 근거는 반드시 서술하세요.\n",
    "목표 주가를 설정할 때에는 먼저, 현재 기업 PER과 경쟁사들의 평균 PER을 반드시 고려하여 기업의 목표 PER을 설정하세요.\n",
    "목표 PER과 추정 EPS를 곱하여 목표 주가를 설정하세요.\n",
    "\n",
    "직전 분기 매출 실적 리뷰: {previous_quarter_review_result}\n",
    "\n",
    "사업부별 매출 예측 결과와 근거 : {segment_yoy_prediction_result}\n",
    "\n",
    "현재 기업 PER : {PER}\n",
    "\n",
    "기업 경쟁사 리스트 : {peer_list}\n",
    "\n",
    "현재 경쟁사들의 평균 PER : {average_peer_PER}\n",
    "\n",
    "추정 EPS : {EPS} (추정 매출액을 기반으로 계산된 결과입니다.)\n",
    "\n",
    "목표 주가를 제안한 이후, 목표 주가 컨센서스를 아래 내용을 참고하여 작성하세요.\n",
    "\n",
    "평균 목표 주가 : {avg_price_consensus}\n",
    "최소 목표 주가 : {low_price_consensus}\n",
    "최대 목표 주가 : {high_price_consensus}\n",
    "현재 주가 : {current_price}\n",
    "\"\"\"\n",
    "\n",
    "\n",
    "prompt = ChatPromptTemplate.from_template(template=template)\n",
    "llm = ChatOpenAI(temperature=0, model=\"gpt-4o\")\n",
    "chain = prompt | llm\n",
    "valuation_result = chain.invoke({\"company_name\": \"네이버\", \n",
    "              \"previous_quarter_review_result\": previous_quarter_review_result, \n",
    "              \"segment_yoy_prediction_result\": segment_yoy_prediction_result, \n",
    "              \"PER\": state.PER, \n",
    "              \"average_peer_PER\": state.average_peer_PER,\n",
    "              \"peer_list\": state.peer_list,\n",
    "              \"EPS\": EPS,\n",
    "              \"avg_price_consensus\": price_consensus['mean'],\n",
    "              \"low_price_consensus\": price_consensus['low'],\n",
    "              \"high_price_consensus\": price_consensus['high'],\n",
    "              \"current_price\": ticker.info.get(\"regularMarketPrice\")})"
   ]
  },
  {
   "cell_type": "code",
   "execution_count": null,
   "metadata": {},
   "outputs": [],
   "source": [
    "print(valuation_result.content)"
   ]
  },
  {
   "cell_type": "code",
   "execution_count": null,
   "metadata": {},
   "outputs": [],
   "source": []
  }
 ],
 "metadata": {
  "kernelspec": {
   "display_name": "valuation-kO8nQuny-py3.11",
   "language": "python",
   "name": "python3"
  },
  "language_info": {
   "codemirror_mode": {
    "name": "ipython",
    "version": 3
   },
   "file_extension": ".py",
   "mimetype": "text/x-python",
   "name": "python",
   "nbconvert_exporter": "python",
   "pygments_lexer": "ipython3",
   "version": "3.11.9"
  }
 },
 "nbformat": 4,
 "nbformat_minor": 2
}
