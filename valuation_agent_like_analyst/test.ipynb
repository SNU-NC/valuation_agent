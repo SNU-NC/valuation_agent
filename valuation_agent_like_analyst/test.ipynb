{
 "cells": [
  {
   "cell_type": "code",
   "execution_count": 3,
   "metadata": {},
   "outputs": [],
   "source": [
    "import yfinance as yf\n",
    "\n",
    "ticker=yf.Ticker(\"005930.KS\")"
   ]
  },
  {
   "cell_type": "code",
   "execution_count": 9,
   "metadata": {},
   "outputs": [],
   "source": [
    "balance_sheet=ticker.quarterly_balance_sheet"
   ]
  },
  {
   "cell_type": "code",
   "execution_count": 16,
   "metadata": {},
   "outputs": [
    {
     "name": "stderr",
     "output_type": "stream",
     "text": [
      "/var/folders/f7/84_7pkk50r10snsc2qr066600000gn/T/ipykernel_54788/407141380.py:1: FutureWarning: Series.__getitem__ treating keys as positions is deprecated. In a future version, integer keys will always be treated as labels (consistent with DataFrame behavior). To access a value by position, use `ser.iloc[pos]`\n",
      "  equity = balance_sheet.loc['Stockholders Equity'][0]\n"
     ]
    }
   ],
   "source": [
    "equity = balance_sheet.loc['Stockholders Equity'][0]"
   ]
  },
  {
   "cell_type": "code",
   "execution_count": 17,
   "metadata": {},
   "outputs": [],
   "source": [
    "market_cap=ticker.info[\"marketCap\"]"
   ]
  },
  {
   "cell_type": "code",
   "execution_count": 20,
   "metadata": {},
   "outputs": [
    {
     "data": {
      "text/plain": [
       "361808481222656"
      ]
     },
     "execution_count": 20,
     "metadata": {},
     "output_type": "execute_result"
    }
   ],
   "source": [
    "market_cap"
   ]
  },
  {
   "cell_type": "code",
   "execution_count": 18,
   "metadata": {},
   "outputs": [],
   "source": [
    "PBR = market_cap/equity"
   ]
  },
  {
   "cell_type": "code",
   "execution_count": 19,
   "metadata": {},
   "outputs": [
    {
     "data": {
      "text/plain": [
       "0.9618672525280737"
      ]
     },
     "execution_count": 19,
     "metadata": {},
     "output_type": "execute_result"
    }
   ],
   "source": [
    "PBR"
   ]
  },
  {
   "cell_type": "code",
   "execution_count": 28,
   "metadata": {},
   "outputs": [
    {
     "data": {
      "text/plain": [
       "{'explains': [],\n",
       " 'count': 8,\n",
       " 'quotes': [],\n",
       " 'news': [{'uuid': '025e1162-f751-36e2-8667-e018987cbc2a',\n",
       "   'title': 'Watch These Tesla Stock Price Levels After First Record High in Three Years',\n",
       "   'publisher': 'Investopedia',\n",
       "   'link': 'https://finance.yahoo.com/m/025e1162-f751-36e2-8667-e018987cbc2a/watch-these-tesla-stock-price.html',\n",
       "   'providerPublishTime': 1733973642,\n",
       "   'type': 'STORY',\n",
       "   'thumbnail': {'resolutions': [{'url': 'https://s.yimg.com/uu/api/res/1.2/ane0XwdMbDFV.AnkSLzy2A--~B/aD03MDU7dz0xNzczO2FwcGlkPXl0YWNoeW9u/https://media.zenfs.com/en/investopedia_245/5cfb7e140895dec72b00ff597a5cae3b',\n",
       "      'width': 1773,\n",
       "      'height': 705,\n",
       "      'tag': 'original'},\n",
       "     {'url': 'https://s.yimg.com/uu/api/res/1.2/2FJeCtZkeXXDoooVOH1acQ--~B/Zmk9ZmlsbDtoPTE0MDtweW9mZj0wO3c9MTQwO2FwcGlkPXl0YWNoeW9u/https://media.zenfs.com/en/investopedia_245/5cfb7e140895dec72b00ff597a5cae3b',\n",
       "      'width': 140,\n",
       "      'height': 140,\n",
       "      'tag': '140x140'}]},\n",
       "   'relatedTickers': ['TSLA']},\n",
       "  {'uuid': '0b9445f1-c4ff-33e5-88b9-9ce1ede2c8d1',\n",
       "   'title': 'Dow Jones Futures: Nasdaq Tops 20,000 As Tesla, Titans Soar; What To Do Now',\n",
       "   'publisher': \"Investor's Business Daily\",\n",
       "   'link': 'https://finance.yahoo.com/m/0b9445f1-c4ff-33e5-88b9-9ce1ede2c8d1/dow-jones-futures%3A-nasdaq.html',\n",
       "   'providerPublishTime': 1733973546,\n",
       "   'type': 'STORY',\n",
       "   'thumbnail': {'resolutions': [{'url': 'https://s.yimg.com/uu/api/res/1.2/7jFSL1tFDo04lQa5qPmWIQ--~B/aD01MTE7dz0xMDAwO2FwcGlkPXl0YWNoeW9u/https://media.zenfs.com/en/ibd.com/ebf7cce70283467111bfef6ddcd5f9ff',\n",
       "      'width': 1000,\n",
       "      'height': 511,\n",
       "      'tag': 'original'},\n",
       "     {'url': 'https://s.yimg.com/uu/api/res/1.2/KGK6AjGdySRqMRqcQbdCPw--~B/Zmk9ZmlsbDtoPTE0MDtweW9mZj0wO3c9MTQwO2FwcGlkPXl0YWNoeW9u/https://media.zenfs.com/en/ibd.com/ebf7cce70283467111bfef6ddcd5f9ff',\n",
       "      'width': 140,\n",
       "      'height': 140,\n",
       "      'tag': '140x140'}]}},\n",
       "  {'uuid': 'b8f92bb2-6dfd-3470-b63b-44e059983156',\n",
       "   'title': '76% of Australian Energy Companies Struggle with Data Accessibility',\n",
       "   'publisher': 'PR Newswire',\n",
       "   'link': 'https://finance.yahoo.com/news/76-australian-energy-companies-struggle-031600183.html',\n",
       "   'providerPublishTime': 1733973360,\n",
       "   'type': 'STORY',\n",
       "   'thumbnail': {'resolutions': [{'url': 'https://s.yimg.com/uu/api/res/1.2/WCKuCps0ZrWL9w2kif7Qjw--~B/aD0yMjQ7dz00MDA7YXBwaWQ9eXRhY2h5b24-/https://media.zenfs.com/en/prnewswire.com/76059e8a648d2ba88be3ca15a4fef1db',\n",
       "      'width': 400,\n",
       "      'height': 224,\n",
       "      'tag': 'original'},\n",
       "     {'url': 'https://s.yimg.com/uu/api/res/1.2/pVmezxGfGKGWf_aUj.56Kw--~B/Zmk9ZmlsbDtoPTE0MDtweW9mZj0wO3c9MTQwO2FwcGlkPXl0YWNoeW9u/https://media.zenfs.com/en/prnewswire.com/76059e8a648d2ba88be3ca15a4fef1db',\n",
       "      'width': 140,\n",
       "      'height': 140,\n",
       "      'tag': '140x140'}]},\n",
       "   'relatedTickers': ['APPN']},\n",
       "  {'uuid': 'd9b7085e-1128-37d8-b03e-a4bcd96e7507',\n",
       "   'title': 'Hawks rally to beat Knicks, reach NBA Cup semi-finals',\n",
       "   'publisher': 'AFP',\n",
       "   'link': 'https://finance.yahoo.com/m/d9b7085e-1128-37d8-b03e-a4bcd96e7507/hawks-rally-to-beat-knicks%2C.html',\n",
       "   'providerPublishTime': 1733972891,\n",
       "   'type': 'STORY',\n",
       "   'thumbnail': {'resolutions': [{'url': 'https://s.yimg.com/uu/api/res/1.2/tIJiJbV_2f0vu0O2kfRX8Q--~B/aD00ODI7dz03Njg7YXBwaWQ9eXRhY2h5b24-/https://media.zenfs.com/en/afp.com/4d37d56e9f64f55298d7f0965a40f93f',\n",
       "      'width': 768,\n",
       "      'height': 482,\n",
       "      'tag': 'original'},\n",
       "     {'url': 'https://s.yimg.com/uu/api/res/1.2/lJ_Hi..f5svAasSdczN.bA--~B/Zmk9ZmlsbDtoPTE0MDtweW9mZj0wO3c9MTQwO2FwcGlkPXl0YWNoeW9u/https://media.zenfs.com/en/afp.com/4d37d56e9f64f55298d7f0965a40f93f',\n",
       "      'width': 140,\n",
       "      'height': 140,\n",
       "      'tag': '140x140'}]}},\n",
       "  {'uuid': '41b539b7-0972-3fb8-9a0f-92095b152894',\n",
       "   'title': 'Three Undiscovered Gems with Promising Potential',\n",
       "   'publisher': 'Simply Wall St.',\n",
       "   'link': 'https://finance.yahoo.com/news/three-undiscovered-gems-promising-potential-030410510.html',\n",
       "   'providerPublishTime': 1733972650,\n",
       "   'type': 'STORY',\n",
       "   'thumbnail': {'resolutions': [{'url': 'https://s.yimg.com/uu/api/res/1.2/jtwePbKEAZvFHrncXoq7iQ--~B/aD00MzI7dz0xMTk0O2FwcGlkPXl0YWNoeW9u/https://media.zenfs.com/en/simply_wall_st__316/ee047812921f935c11e8b8a18a28c857',\n",
       "      'width': 1194,\n",
       "      'height': 432,\n",
       "      'tag': 'original'},\n",
       "     {'url': 'https://s.yimg.com/uu/api/res/1.2/RlYdKaJBeF30jq7O1LOrnQ--~B/Zmk9ZmlsbDtoPTE0MDtweW9mZj0wO3c9MTQwO2FwcGlkPXl0YWNoeW9u/https://media.zenfs.com/en/simply_wall_st__316/ee047812921f935c11e8b8a18a28c857',\n",
       "      'width': 140,\n",
       "      'height': 140,\n",
       "      'tag': '140x140'}]}},\n",
       "  {'uuid': '5640bee1-486e-3ea7-a6b7-e201cde0a02e',\n",
       "   'title': 'Exploring Three High Growth Tech Stocks With Exciting Potential',\n",
       "   'publisher': 'Simply Wall St.',\n",
       "   'link': 'https://finance.yahoo.com/news/exploring-three-high-growth-tech-030304056.html',\n",
       "   'providerPublishTime': 1733972584,\n",
       "   'type': 'STORY',\n",
       "   'thumbnail': {'resolutions': [{'url': 'https://s.yimg.com/uu/api/res/1.2/4O.XA3nMujQmIJ6FpeDGgw--~B/aD00MzI7dz0xMTk0O2FwcGlkPXl0YWNoeW9u/https://media.zenfs.com/en/simply_wall_st__316/652d766724cd85c58695a2099131a0ff',\n",
       "      'width': 1194,\n",
       "      'height': 432,\n",
       "      'tag': 'original'},\n",
       "     {'url': 'https://s.yimg.com/uu/api/res/1.2/7lboNd71GLYzLvt3hMDOHg--~B/Zmk9ZmlsbDtoPTE0MDtweW9mZj0wO3c9MTQwO2FwcGlkPXl0YWNoeW9u/https://media.zenfs.com/en/simply_wall_st__316/652d766724cd85c58695a2099131a0ff',\n",
       "      'width': 140,\n",
       "      'height': 140,\n",
       "      'tag': '140x140'}]},\n",
       "   'relatedTickers': ['CCET-F.BK', 'CCET-R.BK', 'CCET.BK']},\n",
       "  {'uuid': '26140ff0-6e88-357e-a12b-e1b1eddcbe45',\n",
       "   'title': 'Man sentenced to prison for stealing $350,000 in cryptocurrency scheme',\n",
       "   'publisher': 'The Spokesman-Review, Spokane, Wash.',\n",
       "   'link': 'https://finance.yahoo.com/m/26140ff0-6e88-357e-a12b-e1b1eddcbe45/man-sentenced-to-prison-for.html',\n",
       "   'providerPublishTime': 1733972520,\n",
       "   'type': 'STORY'},\n",
       "  {'uuid': '018ba59c-001e-3b9e-b84f-531d08342317',\n",
       "   'title': \"Best Basketball Shoes (2024): Under Armour's Unisex Basketball Shoes Awarded by Expert Consumers\",\n",
       "   'publisher': 'GlobeNewswire',\n",
       "   'link': 'https://finance.yahoo.com/news/best-basketball-shoes-2024-under-030000657.html',\n",
       "   'providerPublishTime': 1733972400,\n",
       "   'type': 'STORY',\n",
       "   'thumbnail': {'resolutions': [{'url': 'https://s.yimg.com/uu/api/res/1.2/afsAN8US41dII.6yDRUz0w--~B/aD0xNDc7dz05NDY7YXBwaWQ9eXRhY2h5b24-/https://media.zenfs.com/en/globenewswire.com/ec75b6f21785440752a25dc2c50c2e87',\n",
       "      'width': 946,\n",
       "      'height': 147,\n",
       "      'tag': 'original'},\n",
       "     {'url': 'https://s.yimg.com/uu/api/res/1.2/oYpUh.YIAgw7u1if12BR3g--~B/Zmk9ZmlsbDtoPTE0MDtweW9mZj0wO3c9MTQwO2FwcGlkPXl0YWNoeW9u/https://media.zenfs.com/en/globenewswire.com/ec75b6f21785440752a25dc2c50c2e87',\n",
       "      'width': 140,\n",
       "      'height': 140,\n",
       "      'tag': '140x140'}]}}],\n",
       " 'nav': [],\n",
       " 'lists': [],\n",
       " 'researchReports': [],\n",
       " 'screenerFieldResults': [],\n",
       " 'totalTime': 30,\n",
       " 'timeTakenForQuotes': 423,\n",
       " 'timeTakenForNews': 900,\n",
       " 'timeTakenForAlgowatchlist': 400,\n",
       " 'timeTakenForPredefinedScreener': 400,\n",
       " 'timeTakenForCrunchbase': 0,\n",
       " 'timeTakenForNav': 400,\n",
       " 'timeTakenForResearchReports': 0,\n",
       " 'timeTakenForScreenerField': 0,\n",
       " 'timeTakenForCulturalAssets': 0,\n",
       " 'timeTakenForSearchLists': 0}"
      ]
     },
     "execution_count": 28,
     "metadata": {},
     "output_type": "execute_result"
    }
   ],
   "source": [
    "from yahooquery import search\n",
    "search(\"Northvolt\")"
   ]
  },
  {
   "cell_type": "code",
   "execution_count": null,
   "metadata": {},
   "outputs": [],
   "source": []
  }
 ],
 "metadata": {
  "language_info": {
   "name": "python"
  }
 },
 "nbformat": 4,
 "nbformat_minor": 2
}
