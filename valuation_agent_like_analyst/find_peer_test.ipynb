{
 "cells": [
  {
   "cell_type": "code",
   "execution_count": 1,
   "metadata": {},
   "outputs": [],
   "source": [
    "from langchain_core.tools import tool\n",
    "import yfinance as yf\n",
    "from yahooquery import search\n",
    "from deep_translator import GoogleTranslator\n",
    "\n",
    "# 한글 문자 범위를 이용해 한글 포함 여부 확인\n",
    "def contains_korean(text):\n",
    "    for char in text:\n",
    "        if '\\uac00' <= char <= '\\ud7a3' or '\\u3131' <= char <= '\\u318e':\n",
    "            return True\n",
    "    return False\n",
    "\n",
    "def get_ticker(company_name):\n",
    "    try:            \n",
    "        # 한글 포함 여부 확인\n",
    "        is_korean = contains_korean(company_name)\n",
    "        if is_korean:\n",
    "            # 회사명을 영어로 번역\n",
    "            translated = GoogleTranslator(source='auto', target='en').translate(company_name)\n",
    "            \n",
    "            # 번역된 이름으로 검색\n",
    "            results = search(translated)\n",
    "        else:\n",
    "            results = search(company_name)\n",
    "            \n",
    "        # KSC, NYSE, NASDAQ, AMEX, JPX, HKG 순서로 찾기\n",
    "        for quote in results['quotes']:\n",
    "            if quote['exchange'] == 'KSC': # 한국\n",
    "                return quote['symbol']\n",
    "            elif quote['exchange'] == 'NYQ': # NYSE\n",
    "                return quote['symbol']\n",
    "            elif quote['exchange'] == 'NMS': # NASDAQ\n",
    "                return quote['symbol']\n",
    "            elif quote['exchange'] == 'JPX': # 일본\n",
    "                return quote['symbol']\n",
    "            elif quote['exchange'] == 'HKG': # 홍콩\n",
    "                return quote['symbol']\n",
    "            else:\n",
    "                continue\n",
    "        \n",
    "        # KSC, NYSE, NASDAQ, AMEX에 없으면 None 반환\n",
    "        return None\n",
    "    except Exception as e:\n",
    "        print(f\"Error translating or searching for {company_name}: {e}\")\n",
    "        return None"
   ]
  },
  {
   "cell_type": "code",
   "execution_count": 2,
   "metadata": {},
   "outputs": [],
   "source": [
    "from langchain_openai import ChatOpenAI\n",
    "from langchain_anthropic import ChatAnthropic\n",
    "llm_openai = ChatOpenAI(model=\"gpt-4o-mini\", temperature=0)\n",
    "llm_claude = ChatAnthropic(model=\"claude-3-5-haiku-20241022\", temperature=0)\n",
    "llm = llm_openai"
   ]
  },
  {
   "cell_type": "code",
   "execution_count": 3,
   "metadata": {},
   "outputs": [],
   "source": [
    "from langchain.output_parsers import ResponseSchema, StructuredOutputParser\n",
    "from langchain_core.prompts import PromptTemplate\n",
    "\n",
    "response_schemas = [\n",
    "    ResponseSchema(name=\"answer\", description=\"사용자의 질문에 대한 답변, 파이썬 리스트 형식이어야 함.\"),\n",
    "    ]\n",
    "\n",
    "output_parser = StructuredOutputParser.from_response_schemas(response_schemas)\n",
    "# 출력 형식 지시사항을 파싱합니다.\n",
    "format_instructions = output_parser.get_format_instructions()\n",
    "prompt = PromptTemplate(\n",
    "    # 사용자의 질문에 최대한 답변하도록 템플릿을 설정합니다.\n",
    "    template=\"answer the users question as best as possible.\\n{format_instructions}\\n{question}\",\n",
    "    # 입력 변수로 'question'을 사용합니다.\n",
    "    input_variables=[\"question\"],\n",
    "    # 부분 변수로 'format_instructions'을 사용합니다.\n",
    "    partial_variables={\"format_instructions\": format_instructions},\n",
    ")"
   ]
  },
  {
   "cell_type": "code",
   "execution_count": 4,
   "metadata": {},
   "outputs": [],
   "source": [
    "def find_peer(company: str) -> list[str]:\n",
    "    prompt = PromptTemplate(\n",
    "    # 사용자의 질문에 최대한 답변하도록 템플릿을 설정합니다.\n",
    "    template=\"answer the users question as best as possible.\\n{format_instructions}\\n{question}\",\n",
    "    # 입력 변수로 'question'을 사용합니다.\n",
    "    input_variables=[\"question\"],\n",
    "    # 부분 변수로 'format_instructions'을 사용합니다.\n",
    "    partial_variables={\"format_instructions\": format_instructions},\n",
    "    )\n",
    "    chain = prompt | llm | output_parser  # 프롬프트, 모델, 출력 파서를 연결\n",
    "    peer_list = chain.invoke({\"question\": f\"{company}와 사업구조가 비슷하고, 같은 산업 혹은 섹터에 속한 경쟁사는?\"\n",
    "                              \"(코스피, 뉴욕거래소 등 상장된 회사만 찾으세요. 반드시 회사명만 출력해주세요.)\"})\n",
    "    return peer_list"
   ]
  },
  {
   "cell_type": "code",
   "execution_count": 5,
   "metadata": {},
   "outputs": [],
   "source": [
    "def find_peer_PERs_tool(company: str):\n",
    "    \"\"\"기업과 동종 업계의 Peer Group PER 평균을 찾습니다.\"\"\"\n",
    "    ticker = get_ticker(company)\n",
    "    peer_list = find_peer(company)['answer']\n",
    "    if ticker is None:\n",
    "        return None\n",
    "    \n",
    "    peer_pers = {}\n",
    "    for peer in peer_list:\n",
    "        ticker = get_ticker(peer)\n",
    "        if ticker is None:\n",
    "            continue\n",
    "        elif \".KS\" in ticker:\n",
    "            ticker = yf.Ticker(ticker)\n",
    "            earning_ttm = 0\n",
    "            for i in range(4):\n",
    "                earning_ttm += ticker.quarterly_income_stmt.loc['Net Income Common Stockholders'][i]\n",
    "            trailingPERttm = ticker.info.get(\"marketCap\")/earning_ttm\n",
    "            if trailingPERttm <0 :\n",
    "                continue\n",
    "            peer_pers[peer] = trailingPERttm\n",
    "        else:\n",
    "            ticker = yf.Ticker(ticker)\n",
    "            earning_ttm = 0\n",
    "            for i in range(4):\n",
    "                earning_ttm += ticker.quarterly_income_stmt.loc['Net Income Common Stockholders'][i]\n",
    "            trailingPERttm = ticker.info.get(\"marketCap\")/earning_ttm*0.7 # 외국 주식의 경우 PER을 30% 할인\n",
    "            if trailingPERttm <0 :\n",
    "                continue\n",
    "            peer_pers[peer] = trailingPERttm\n",
    "    \n",
    "    average_peer_per = sum(peer_pers.values()) / len(peer_pers)\n",
    "\n",
    "    return {\n",
    "        \"Peer PERs\": peer_pers,\n",
    "        \"Peer list\": peer_list,\n",
    "        \"Average Peer PER\": average_peer_per\n",
    "    }"
   ]
  },
  {
   "cell_type": "code",
   "execution_count": 6,
   "metadata": {},
   "outputs": [],
   "source": [
    "@tool\n",
    "def find_peer_PBRs_tool(company: str):\n",
    "    \"\"\"기업과 동종 업계의 Peer Group PBR 평균을 찾습니다.\"\"\"\n",
    "    ticker = get_ticker(company)\n",
    "    peer_list = find_peer(company)['answer']\n",
    "    if ticker is None:\n",
    "        return None\n",
    "    \n",
    "    peer_pbrs = {}\n",
    "    for peer in peer_list:\n",
    "        ticker = get_ticker(peer)\n",
    "        if ticker is None:\n",
    "            continue\n",
    "        elif \".KS\" in ticker:\n",
    "            ticker = yf.Ticker(ticker)\n",
    "            print(ticker)\n",
    "            equity = ticker.quarterly_balance_sheet.loc['Stockholders Equity'][0]\n",
    "            market_cap=ticker.info[\"marketCap\"]\n",
    "            PBR = market_cap/equity\n",
    "            if PBR <0 :\n",
    "                continue\n",
    "            peer_pbrs[peer] = PBR\n",
    "        else:\n",
    "            ticker = yf.Ticker(ticker)\n",
    "            print(ticker)\n",
    "            equity = ticker.quarterly_balance_sheet.loc['Stockholders Equity'][0]\n",
    "            market_cap=ticker.info[\"marketCap\"]\n",
    "            PBR = market_cap/equity*0.7 # 외국 주식의 경우 PBR을 30% 할인\n",
    "            if PBR <0 :\n",
    "                continue\n",
    "            peer_pbrs[peer] = PBR\n",
    "    \n",
    "    average_peer_pbr = sum(peer_pbrs.values()) / len(peer_pbrs)\n",
    "\n",
    "    return {\n",
    "        \"Peer PBRs\": peer_pbrs,\n",
    "        \"Peer list\": peer_list,\n",
    "        \"Average Peer PBR\": average_peer_pbr\n",
    "    }"
   ]
  },
  {
   "cell_type": "code",
   "execution_count": 7,
   "metadata": {},
   "outputs": [
    {
     "data": {
      "text/plain": [
       "{'answer': ['삼성SDI',\n",
       "  'CATL',\n",
       "  'Panasonic',\n",
       "  'SK On',\n",
       "  'BYD',\n",
       "  'Tesla',\n",
       "  'Northvolt']}"
      ]
     },
     "execution_count": 7,
     "metadata": {},
     "output_type": "execute_result"
    }
   ],
   "source": [
    "find_peer(\"LG에너지솔루션\")"
   ]
  },
  {
   "cell_type": "code",
   "execution_count": 8,
   "metadata": {},
   "outputs": [
    {
     "name": "stderr",
     "output_type": "stream",
     "text": [
      "/var/folders/f7/84_7pkk50r10snsc2qr066600000gn/T/ipykernel_56518/2970809802.py:1: LangChainDeprecationWarning: The method `BaseTool.__call__` was deprecated in langchain-core 0.1.47 and will be removed in 1.0. Use :meth:`~invoke` instead.\n",
      "  find_peer_PBRs_tool(\"LG에너지솔루션\")\n"
     ]
    },
    {
     "name": "stdout",
     "output_type": "stream",
     "text": [
      "yfinance.Ticker object <006400.KS>\n"
     ]
    },
    {
     "name": "stderr",
     "output_type": "stream",
     "text": [
      "/var/folders/f7/84_7pkk50r10snsc2qr066600000gn/T/ipykernel_56518/3039342426.py:17: FutureWarning: Series.__getitem__ treating keys as positions is deprecated. In a future version, integer keys will always be treated as labels (consistent with DataFrame behavior). To access a value by position, use `ser.iloc[pos]`\n",
      "  equity = ticker.quarterly_balance_sheet.loc['Stockholders Equity'][0]\n"
     ]
    },
    {
     "data": {
      "text/plain": [
       "{'Peer PBRs': {'삼성SDI': 0.8463371228030395},\n",
       " 'Peer list': ['삼성SDI',\n",
       "  'CATL',\n",
       "  'Panasonic',\n",
       "  'SK On',\n",
       "  'BYD',\n",
       "  'Tesla',\n",
       "  'Northvolt'],\n",
       " 'Average Peer PBR': 0.8463371228030395}"
      ]
     },
     "execution_count": 8,
     "metadata": {},
     "output_type": "execute_result"
    }
   ],
   "source": [
    "find_peer_PBRs_tool(\"LG에너지솔루션\")"
   ]
  },
  {
   "cell_type": "code",
   "execution_count": null,
   "metadata": {},
   "outputs": [],
   "source": []
  }
 ],
 "metadata": {
  "kernelspec": {
   "display_name": "valuation-kO8nQuny-py3.11",
   "language": "python",
   "name": "python3"
  },
  "language_info": {
   "codemirror_mode": {
    "name": "ipython",
    "version": 3
   },
   "file_extension": ".py",
   "mimetype": "text/x-python",
   "name": "python",
   "nbconvert_exporter": "python",
   "pygments_lexer": "ipython3",
   "version": "3.11.9"
  }
 },
 "nbformat": 4,
 "nbformat_minor": 2
}
