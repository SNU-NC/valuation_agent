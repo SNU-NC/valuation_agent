{
 "cells": [
  {
   "cell_type": "code",
   "execution_count": 1,
   "metadata": {},
   "outputs": [
    {
     "data": {
      "text/plain": [
       "True"
      ]
     },
     "execution_count": 1,
     "metadata": {},
     "output_type": "execute_result"
    }
   ],
   "source": [
    "from dotenv import load_dotenv\n",
    "\n",
    "load_dotenv()"
   ]
  },
  {
   "cell_type": "code",
   "execution_count": 2,
   "metadata": {},
   "outputs": [
    {
     "name": "stdout",
     "output_type": "stream",
     "text": [
      "LangSmith 추적을 시작합니다.\n",
      "[프로젝트명]\n",
      "Valuation_test\n"
     ]
    }
   ],
   "source": [
    "from langchain_teddynote import logging\n",
    "\n",
    "# 프로젝트 이름을 입력합니다.\n",
    "logging.langsmith(\"Valuation_test\")"
   ]
  },
  {
   "cell_type": "code",
   "execution_count": 3,
   "metadata": {},
   "outputs": [],
   "source": [
    "from typing import Annotated, TypedDict, Dict\n",
    "from langgraph.graph.message import add_messages\n",
    "\n",
    "class GraphState(TypedDict):\n",
    "    question: Annotated[list, add_messages]\n",
    "    context: Annotated[str, \"Context\"]\n",
    "    answer: Annotated[str, \"Answer\"]\n",
    "    messages: Annotated[list, add_messages]\n",
    "    company: Annotated[str, \"기업명\"]\n",
    "    sector: Annotated[str, \"섹터명\"]\n",
    "    fcfe: Annotated[float, \"FCFE 계산 결과\"]\n",
    "    wacc: Annotated[float, \"WACC 계산 결과\"]\n",
    "    growth_rate_tv: Annotated[float, \"Terminal Value에 사용한 성장률 계산 결과\"]\n",
    "    growth_rate_fcfe: Annotated[float, \"5년간 FCFE에 사용한 성장률 계산 결과\"]\n",
    "    valuation_result: Annotated[Dict[str, float], \"회사 가치 계산 결과\"]"
   ]
  },
  {
   "cell_type": "code",
   "execution_count": 4,
   "metadata": {},
   "outputs": [],
   "source": [
    "from typing import Literal\n",
    "\n",
    "from langchain_core.prompts import ChatPromptTemplate\n",
    "from pydantic import BaseModel, Field\n",
    "from langchain_openai import ChatOpenAI\n",
    "from langchain_teddynote.models import get_model_name, LLMs\n",
    "\n",
    "# 최신 LLM 모델 이름 가져오기\n",
    "MODEL_NAME = \"gpt-4o-mini\"\n",
    "\n",
    "\n",
    "# 사용자 쿼리를 가장 관련성 높은 데이터 소스로 라우팅하는 데이터 모델\n",
    "class RouteQuery(BaseModel):\n",
    "    \"\"\"Route a user query to the most relevant datasource.\"\"\"\n",
    "\n",
    "    # 데이터 소스 선택을 위한 리터럴 타입 필드\n",
    "    datasource: Literal[\"valuation_calculator\", \"llm\"] = Field(\n",
    "        ...,\n",
    "        description=(\n",
    "            \"Given a user question, choose to route it to either the Valuation Calculator \"\n",
    "            \"or to the Large Language Model (LLM).\"\n",
    "        ),\n",
    "    )\n",
    "\n",
    "\n",
    "# LLM 초기화 및 함수 호출을 통한 구조화된 출력 생성\n",
    "llm = ChatOpenAI(model=MODEL_NAME, temperature=0)\n",
    "structured_llm_router = llm.with_structured_output(RouteQuery)\n",
    "\n",
    "# 시스템 메시지와 사용자 질문을 포함한 프롬프트 템플릿 생성\n",
    "system = \"\"\"\n",
    "당신은 사용자 질문을 적절한 데이터 소스로 라우팅하는 역할을 맡은 라우터입니다. 다음 지침을 따라 사용자 질문을 처리하세요:\n",
    "\n",
    "1. **주가 예측 관련 질문:**\n",
    "   - 사용자가 \"주가 예측\", \"주가가 어떻게 될 것 같은지\", \"주식 가격 전망\" 등과 같은 주가 예측과 관련된 질문을 할 경우, 해당 질문을 **Valuation Calculator**으로 라우팅하세요.\n",
    "\n",
    "2. **기타 질문:**\n",
    "   - 사용자가 주가 예측과 관련되지 않은 다른 주제에 대한 질문을 할 경우, 해당 질문을 **Large Language Model (LLM)**으로 라우팅하세요.\n",
    "\n",
    "**예시:**\n",
    "- **사용자 질문:** \"다음 달 애플의 주가는 어떻게 될 것 같아?\"\n",
    "  - **라우팅 대상:** Valuation Calculator\n",
    "\n",
    "- **사용자 질문:** \"오늘 날씨가 어때?\"\n",
    "  - **라우팅 대상:** Large Language Model (LLM)\n",
    "\n",
    "- **사용자 질문:** \"비트코인 가격 예측해줘.\"\n",
    "  - **라우팅 대상:** Valuation Calculator\n",
    "\n",
    "- **사용자 질문:** \"좋은 레스토랑 추천해줘.\"\n",
    "  - **라우팅 대상:** Large Language Model (LLM)\n",
    "\n",
    "**주가 예측 관련 키워드:**\n",
    "- 주가 예측\n",
    "- 주가 전망\n",
    "- 주식 가격 예측\n",
    "- 주가 상승/하락 예측\n",
    "\"\"\"\n",
    "\n",
    "# Routing 을 위한 프롬프트 템플릿 생성\n",
    "route_prompt = ChatPromptTemplate.from_messages(\n",
    "    [\n",
    "        (\"system\", system),\n",
    "        (\"human\", \"{question}\"),\n",
    "    ]\n",
    ")\n",
    "\n",
    "# 프롬프트 템플릿과 구조화된 LLM 라우터를 결합하여 질문 라우터 생성\n",
    "question_router = route_prompt | structured_llm_router"
   ]
  },
  {
   "cell_type": "code",
   "execution_count": 5,
   "metadata": {},
   "outputs": [],
   "source": [
    "def route_question(state : GraphState) -> str:\n",
    "    print(\"==== [ROUTE QUESTION] ====\")\n",
    "    # 질문 가져오기\n",
    "    question = state[\"question\"]\n",
    "    # 질문 라우팅\n",
    "    source = question_router.invoke({\"question\": question})\n",
    "    # 질문 라우팅 결과에 따른 노드 라우팅\n",
    "    if source.datasource == \"valuation_calculator\":\n",
    "        print(\"==== [ROUTE QUESTION TO VALUATION CALCULATOR] ====\")\n",
    "        return \"valuation_calculator\"\n",
    "    elif source.datasource == \"llm\":\n",
    "        print(\"==== [ROUTE QUESTION TO LLM] ====\")\n",
    "        return \"llm\""
   ]
  },
  {
   "cell_type": "code",
   "execution_count": 6,
   "metadata": {},
   "outputs": [],
   "source": [
    "from langchain_core.prompts import PromptTemplate\n",
    "from langchain_core.output_parsers import StrOutputParser\n",
    "from langchain_openai import ChatOpenAI\n",
    "\n",
    "find_sector_and_company_prompt = PromptTemplate(\n",
    "    template = \"\"\"\n",
    "역할:\n",
    "당신은 베테랑 프롬프트 엔지니어로, 대형 언어 모델(LLM)이 최상의 성능을 발휘할 수 있도록 프롬프트를 최적화하는 데 능숙합니다.\n",
    "\n",
    "작업:\n",
    "주어진 질문에서 언급된 회사명과 섹터를 각각 추출하여 다음 형식으로 출력하십시오.\n",
    "\n",
    "출력 형식:\n",
    "\t•\t회사명,섹터 형태로 응답하십시오.\n",
    "\t•\t회사명과 섹터 이외의 정보는 포함하지 마십시오.\n",
    "\t•\t따옴표(””)는 반드시 포함하지 말고 출력하십시오.\n",
    "\n",
    "예시:\n",
    "\n",
    "입력:\n",
    "\n",
    "\"1. DB하이텍의 공정 PER을 계산하기 위해 반도체 산업 내 유사 기업들의 성장률과 PER을 분석하라.\"\n",
    "\n",
    "출력:\n",
    "\n",
    "DB하이텍,반도체\n",
    "\n",
    "입력:\n",
    "\n",
    "\"1. 삼성전자의 PER을 계산하기 위해 반도체 산업 내 다른 기업들의 성장률과 PER을 분석하라.\"\n",
    "\n",
    "출력:\n",
    "\n",
    "삼성전자,반도체\n",
    "\n",
    "추가 예시:\n",
    "\n",
    "입력:\n",
    "\n",
    "\"1. 현대자동차의 시장 점유율을 평가하기 위해 자동차 산업 내 경쟁사의 판매 데이터를 분석하라.\"\n",
    "\n",
    "출력:\n",
    "\n",
    "현대자동차,자동차\n",
    "\n",
    "입력:\n",
    "\n",
    "\"1. 네이버의 사용자 증가율을 측정하기 위해 IT 섹터 내 다른 플랫폼의 성장률과 사용자 수를 비교하라.\"\n",
    "\n",
    "출력:\n",
    "\n",
    "네이버,IT\n",
    "\n",
    "\n",
    "# 다음 질문에 대해서 회사명과 섹터를 각각 추출하시오.\n",
    "{question}\n",
    "\"\"\",\n",
    "input_variables=[\"question\"],\n",
    ")\n",
    "\n",
    "finder_sector_and_company=(\n",
    "    find_sector_and_company_prompt | ChatOpenAI(model=\"gpt-4o-mini\", temperature=0) | StrOutputParser()    \n",
    ")"
   ]
  },
  {
   "cell_type": "code",
   "execution_count": 7,
   "metadata": {},
   "outputs": [],
   "source": [
    "def find_sector_and_company(state:GraphState)->GraphState:\n",
    "    question=state[\"question\"][0].content\n",
    "    sector_and_company = finder_sector_and_company.invoke({\"question\":question})\n",
    "    company, sector = sector_and_company.split(\",\")\n",
    "    return GraphState(company=company, sector=sector)"
   ]
  },
  {
   "cell_type": "code",
   "execution_count": 8,
   "metadata": {},
   "outputs": [],
   "source": [
    "from yahooquery import search\n",
    "from deep_translator import GoogleTranslator\n",
    "import pandas as pd\n",
    "\n",
    "def get_ticker(company_name):\n",
    "    try:\n",
    "        # 사전 매핑 확인\n",
    "        # if company_name in manual_mapping:\n",
    "        #     return manual_mapping[company_name]\n",
    "        \n",
    "        # 회사명을 영어로 번역\n",
    "        translated = GoogleTranslator(source='auto', target='en').translate(company_name)\n",
    "        print(f\"Translated company name: {translated}\")\n",
    "        \n",
    "        # 번역된 이름으로 검색\n",
    "        results = search(translated)\n",
    "        if results is not None and 'quotes' in results and len(results['quotes']) > 0:\n",
    "            # 첫 번째 결과의 티커 반환\n",
    "            return results['quotes'][0]['symbol']\n",
    "        else:\n",
    "            print(f\"No ticker found for {company_name} after translation.\")\n",
    "            return None\n",
    "    except Exception as e:\n",
    "        print(f\"Error translating or searching for {company_name}: {e}\")\n",
    "        return None"
   ]
  },
  {
   "cell_type": "code",
   "execution_count": 9,
   "metadata": {},
   "outputs": [],
   "source": [
    "from DCF.calculators.valuation import ValuationCalculator\n",
    "\n",
    "def valuation_calculator(state:GraphState)->GraphState:\n",
    "    ticker=get_ticker(state[\"company\"])\n",
    "    valuation_calculator=ValuationCalculator(ticker_symbol=ticker)\n",
    "    dcf, fcfe, wacc, growth_rate_fcfe, growth_rate_tv = valuation_calculator.calculate_per_share()\n",
    "    dcf = int(dcf)\n",
    "    fcfe = int(fcfe)\n",
    "    wacc = round(wacc * 100, 2)\n",
    "    growth_rate_fcfe = round(growth_rate_fcfe * 100, 2)\n",
    "    growth_rate_tv = round(growth_rate_tv * 100, 2)\n",
    "    return GraphState(\n",
    "        valuation_result={\"dcf\":dcf}, \n",
    "        fcfe=fcfe, \n",
    "        wacc=wacc, \n",
    "        growth_rate_fcfe=growth_rate_fcfe, \n",
    "        growth_rate_tv=growth_rate_tv\n",
    "    )"
   ]
  },
  {
   "cell_type": "code",
   "execution_count": 10,
   "metadata": {},
   "outputs": [],
   "source": [
    "def valuation_llm(state: GraphState) -> GraphState:\n",
    "    prompt = PromptTemplate.from_template( \"\"\"\n",
    "        너는 금융 전문가야 아래 내용을 보고 질문에 대해 적절한 대답을 해.\n",
    "        DCF 계산 결과를 언급하고 나서, DCF를 어떻게 구할 수 있었는지 과정과 그 이유를 단계별로 설명해.\n",
    "        설명은 최대한 상세하게하고 Valuation 과정에 사용한 변수들과 숫자도 언급해.\n",
    "\n",
    "        -- Valuation에 사용한 변수 --\n",
    "        FCFE\n",
    "        WACC: {wacc}%\n",
    "        5년간 FCFE에 사용한 Growth Rate: {growth_rate_fcfe}% - 연간 성장률 사용\n",
    "        Terminal Value에 사용한 Growth Rate: {growth_rate_tv}% - 성장률(1%)가정\n",
    "\n",
    "        -- Valuation Result --\n",
    "        DCF 계산 결과 주당 가치: {dcf_valuation_result}원\n",
    "\n",
    "        -- Question --\n",
    "        {question}\n",
    "\n",
    "        \"\"\"\n",
    "    )\n",
    "    chain = prompt | ChatOpenAI() | StrOutputParser()\n",
    "    return GraphState(answer=chain.invoke({\n",
    "        \"question\":state['question'][0].content, \n",
    "        \"fcfe\":state[\"fcfe\"], \n",
    "        \"wacc\":state[\"wacc\"], \n",
    "        \"growth_rate_tv\":state[\"growth_rate_tv\"],\n",
    "        \"growth_rate_fcfe\":state[\"growth_rate_fcfe\"],\n",
    "        \"dcf_valuation_result\":state[\"valuation_result\"][\"dcf\"]\n",
    "        })\n",
    "    )"
   ]
  },
  {
   "cell_type": "code",
   "execution_count": 11,
   "metadata": {},
   "outputs": [],
   "source": [
    "from langgraph.graph import START, END, StateGraph\n",
    "from langgraph.checkpoint.memory import MemorySaver"
   ]
  },
  {
   "cell_type": "code",
   "execution_count": 12,
   "metadata": {},
   "outputs": [],
   "source": [
    "workflow = StateGraph(GraphState)"
   ]
  },
  {
   "cell_type": "code",
   "execution_count": 13,
   "metadata": {},
   "outputs": [
    {
     "data": {
      "text/plain": [
       "<langgraph.graph.state.StateGraph at 0x154b3e610>"
      ]
     },
     "execution_count": 13,
     "metadata": {},
     "output_type": "execute_result"
    }
   ],
   "source": [
    "workflow.add_node(\"find_sector_and_company\", find_sector_and_company)\n",
    "workflow.add_node(\"valuation_calculator\", valuation_calculator)\n",
    "workflow.add_node(\"valuation_llm\", valuation_llm)"
   ]
  },
  {
   "cell_type": "code",
   "execution_count": 14,
   "metadata": {},
   "outputs": [
    {
     "data": {
      "text/plain": [
       "<langgraph.graph.state.StateGraph at 0x154b3e610>"
      ]
     },
     "execution_count": 14,
     "metadata": {},
     "output_type": "execute_result"
    }
   ],
   "source": [
    "\n",
    "workflow.add_edge(\"find_sector_and_company\", \"valuation_calculator\")\n",
    "workflow.add_edge(\"valuation_calculator\", \"valuation_llm\")\n",
    "workflow.add_edge(\"valuation_llm\", END)"
   ]
  },
  {
   "cell_type": "code",
   "execution_count": 15,
   "metadata": {},
   "outputs": [
    {
     "data": {
      "text/plain": [
       "<langgraph.graph.state.StateGraph at 0x154b3e610>"
      ]
     },
     "execution_count": 15,
     "metadata": {},
     "output_type": "execute_result"
    }
   ],
   "source": [
    "workflow.add_conditional_edges(\n",
    "    START,\n",
    "    route_question,\n",
    "    {\n",
    "        \"valuation_calculator\": \"find_sector_and_company\",\n",
    "        \"llm\": \"valuation_llm\",\n",
    "    }\n",
    ")"
   ]
  },
  {
   "cell_type": "code",
   "execution_count": 16,
   "metadata": {},
   "outputs": [],
   "source": [
    "memory = MemorySaver()\n",
    "# 그래프 컴파일\n",
    "app = workflow.compile(checkpointer=memory)"
   ]
  },
  {
   "cell_type": "code",
   "execution_count": 17,
   "metadata": {},
   "outputs": [
    {
     "data": {
      "image/png": "[encoded data removed]",
      "text/plain": [
       "<IPython.core.display.Image object>"
      ]
     },
     "metadata": {},
     "output_type": "display_data"
    }
   ],
   "source": [
    "from langchain_teddynote.graphs import visualize_graph\n",
    "\n",
    "visualize_graph(app)"
   ]
  },
  {
   "cell_type": "code",
   "execution_count": 18,
   "metadata": {},
   "outputs": [
    {
     "name": "stdout",
     "output_type": "stream",
     "text": [
      "==== [ROUTE QUESTION] ====\n",
      "\n",
      "==================================================\n",
      "🔄 Node: \u001b[1;36m__start__\u001b[0m 🔄\n",
      "- - - - - - - - - - - - - - - - - - - - - - - - - \n",
      "==== [ROUTE QUESTION TO VALUATION CALCULATOR] ====\n",
      "Translated company name: SK Hynix\n",
      "\n",
      "FCFE:\n",
      "FCFE: 4,497,652,000,000\n",
      "Operating Cash Flow: 3,591,547,000,000\n",
      "Capital Expenditure: 7,142,229,000,000\n",
      "Repayment of Debt: -9,015,663,000,000\n",
      "Issuance of Debt: 17,063,997,000,000\n"
     ]
    },
    {
     "name": "stderr",
     "output_type": "stream",
     "text": [
      "[*********************100%***********************]  1 of 1 completed\n",
      "[*********************100%***********************]  1 of 1 completed\n"
     ]
    },
    {
     "name": "stdout",
     "output_type": "stream",
     "text": [
      "WACC: 7.83%\n",
      "Cost of Equity: 10.87%\n",
      "Cost of Debt: 4.50%\n",
      "Equity Weight: 58.65%\n",
      "Debt Weight: 41.35%\n",
      "Risk-free Rate: 4.23%\n",
      "Market Risk Premium: 7.70%\n",
      "Beta: 0.86\n",
      "Effective Tax Rate: 22.00%\n",
      "retention_ratio: 0.918800004\n",
      "net_income: -4836170000000.0\n",
      "total_equity: 54518322000000.0\n",
      "\n",
      "성장률 계산 결과:\n",
      "성장률: -8.15%\n",
      "\n",
      "구성 요소:\n",
      "Retention Ratio: 0.92\n",
      "ROE: -0.09\n",
      "_1year_fcfe: 4497652000000.0\n",
      "_2year_fcfe: 4131074406243.3354\n",
      "_3year_fcfe: 3794374431351.898\n",
      "_4year_fcfe: 3485116923466.2744\n",
      "_5year_fcfe: 3201065205866.759\n",
      "\n",
      "FCFE:\n",
      "FCFE: 4,497,652,000,000\n",
      "Operating Cash Flow: 3,591,547,000,000\n",
      "Capital Expenditure: 7,142,229,000,000\n",
      "Repayment of Debt: -9,015,663,000,000\n",
      "Issuance of Debt: 17,063,997,000,000\n"
     ]
    },
    {
     "name": "stderr",
     "output_type": "stream",
     "text": [
      "[*********************100%***********************]  1 of 1 completed\n",
      "[*********************100%***********************]  1 of 1 completed\n"
     ]
    },
    {
     "name": "stdout",
     "output_type": "stream",
     "text": [
      "WACC: 7.83%\n",
      "Cost of Equity: 10.87%\n",
      "Cost of Debt: 4.50%\n",
      "Equity Weight: 58.65%\n",
      "Debt Weight: 41.35%\n",
      "Risk-free Rate: 4.23%\n",
      "Market Risk Premium: 7.70%\n",
      "Beta: 0.86\n",
      "Effective Tax Rate: 22.00%\n",
      "retention_ratio: 0.918800004\n",
      "net_income: -4836170000000.0\n",
      "total_equity: 54518322000000.0\n",
      "\n",
      "성장률 계산 결과:\n",
      "성장률: -8.15%\n",
      "\n",
      "구성 요소:\n",
      "Retention Ratio: 0.92\n",
      "ROE: -0.09\n",
      "_6year_fcfe: 3233075857925.4263\n",
      "terminal_value: 46186797970363.23\n",
      "Total Value: 62926469310736.734\n",
      "Per Share: 91380.81022109457\n",
      "\n",
      "==================================================\n",
      "🔄 Node: \u001b[1;36mvaluation_llm\u001b[0m 🔄\n",
      "- - - - - - - - - - - - - - - - - - - - - - - - - \n",
      "DCF 계산 결과에 따르면 SK하이닉스의 주당 가치는 91380원이 나왔습니다. 따라서 현재 주가와 비교해보았을 때 SK하이닉스의 주가가 이 가치에 미치지 못하거나 초과할 수 있습니다. \n",
      "\n",
      "DCF를 구하는 과정은 다음과 같습니다:\n",
      "\n",
      "1. 먼저, 미래의 현금흐름을 추정하기 위해 Free Cash Flow to Equity(FCFE)를 계산합니다. FCFE는 기업이 영업활동으로 얻는 현금흐름에서 투자와 재무활동으로 인한 변화를 고려한 값입니다.\n",
      "\n",
      "2. 다음으로, Weighted Average Cost of Capital(WACC)을 계산합니다. WACC는 기업의 자본 구조와 비용을 고려한 평균 자본 비용을 나타내는 지표입니다. 이를 통해 기업의 자본의 비용을 알 수 있습니다.\n",
      "\n",
      "3. 5년간의 FCFE에 사용할 Growth Rate와 Terminal Value에 사용할 Growth Rate를 정합니다. 이러한 성장률을 통해 미래의 현금흐름을 추정합니다.\n",
      "\n",
      "4. 이후, 현금흐름의 현재가치를 계산하여 DCF를 구합니다. 현재가치는 미래의 현금흐름을 할인하여 현재 가치로 환산한 것을 말합니다.\n",
      "\n",
      "이와 같은 방식으로 SK하이닉스의 주가를 예측할 수 있습니다. 하지만 시장의 여러 요인들을 고려해야 하기 때문에 DCF 결과만으로 주가를 정확히 예측하기는 어렵습니다. 따라서 시장 상황과 기업의 성과를 지속적으로 모니터링하며 주가의 변동을 예측하는 것이 중요합니다."
     ]
    }
   ],
   "source": [
    "from langchain_core.runnables import RunnableConfig\n",
    "from langchain_teddynote.messages import stream_graph, random_uuid\n",
    "\n",
    "# config 설정(재귀 최대 횟수, thread_id)\n",
    "config = RunnableConfig(recursion_limit=10, configurable={\"thread_id\": random_uuid()})\n",
    "\n",
    "# 질문 입력\n",
    "inputs = GraphState(question=\"SK하이닉스의 주가가 어떻게 될것 같아?\")\n",
    "\n",
    "# 그래프 실행\n",
    "stream_graph(app, inputs, config, [START,\"route_question\", \"valuation_calculator\", \"valuation_llm\",END])"
   ]
  },
  {
   "cell_type": "code",
   "execution_count": 19,
   "metadata": {},
   "outputs": [
    {
     "name": "stdout",
     "output_type": "stream",
     "text": [
      "==== [ROUTE QUESTION] ====\n",
      "\n",
      "==================================================\n",
      "🔄 Node: \u001b[1;36m__start__\u001b[0m 🔄\n",
      "- - - - - - - - - - - - - - - - - - - - - - - - - \n",
      "==== [ROUTE QUESTION TO VALUATION CALCULATOR] ====\n",
      "Translated company name: Samsung Electronics\n",
      "\n",
      "FCFE:\n",
      "FCFE: -15,116,207,000,000\n",
      "Operating Cash Flow: 44,137,427,000,000\n",
      "Capital Expenditure: 60,534,167,000,000\n",
      "Repayment of Debt: -1,219,579,000,000\n",
      "Issuance of Debt: 2,500,112,000,000\n"
     ]
    },
    {
     "name": "stderr",
     "output_type": "stream",
     "text": [
      "[*********************100%***********************]  1 of 1 completed\n",
      "[*********************100%***********************]  1 of 1 completed\n"
     ]
    },
    {
     "name": "stdout",
     "output_type": "stream",
     "text": [
      "WACC: 8.61%\n",
      "Cost of Equity: 9.90%\n",
      "Cost of Debt: 4.50%\n",
      "Equity Weight: 79.77%\n",
      "Debt Weight: 20.23%\n",
      "Risk-free Rate: 4.23%\n",
      "Market Risk Premium: 7.70%\n",
      "Beta: 0.74\n",
      "Effective Tax Rate: 22.00%\n",
      "retention_ratio: 0.6940999999999999\n",
      "net_income: 14473401000000.0\n",
      "total_equity: 363677865000000.0\n",
      "\n",
      "성장률 계산 결과:\n",
      "성장률: 2.76%\n",
      "\n",
      "구성 요소:\n",
      "Retention Ratio: 0.69\n",
      "ROE: 0.04\n",
      "_1year_fcfe: -15116207000000.0\n",
      "_2year_fcfe: -14698647276928.88\n",
      "_3year_fcfe: -14292621936942.832\n",
      "_4year_fcfe: -13897812362163.256\n",
      "_5year_fcfe: -13513908735993.062\n",
      "\n",
      "FCFE:\n",
      "FCFE: -15,116,207,000,000\n",
      "Operating Cash Flow: 44,137,427,000,000\n",
      "Capital Expenditure: 60,534,167,000,000\n",
      "Repayment of Debt: -1,219,579,000,000\n",
      "Issuance of Debt: 2,500,112,000,000\n"
     ]
    },
    {
     "name": "stderr",
     "output_type": "stream",
     "text": [
      "[*********************100%***********************]  1 of 1 completed\n",
      "[*********************100%***********************]  1 of 1 completed\n"
     ]
    },
    {
     "name": "stdout",
     "output_type": "stream",
     "text": [
      "WACC: 8.61%\n",
      "Cost of Equity: 9.90%\n",
      "Cost of Debt: 4.50%\n",
      "Equity Weight: 79.77%\n",
      "Debt Weight: 20.23%\n",
      "Risk-free Rate: 4.23%\n",
      "Market Risk Premium: 7.70%\n",
      "Beta: 0.74\n",
      "Effective Tax Rate: 22.00%\n",
      "retention_ratio: 0.6940999999999999\n",
      "net_income: 14473401000000.0\n",
      "total_equity: 363677865000000.0\n",
      "\n",
      "성장률 계산 결과:\n",
      "성장률: 2.76%\n",
      "\n",
      "구성 요소:\n",
      "Retention Ratio: 0.69\n",
      "ROE: 0.04\n",
      "_6year_fcfe: -13378769648633.13\n",
      "terminal_value: 167234620607914.12\n",
      "Total Value: 105909847518344.12\n",
      "Per Share: 17740.996074287665\n",
      "\n",
      "==================================================\n",
      "🔄 Node: \u001b[1;36mvaluation_llm\u001b[0m 🔄\n",
      "- - - - - - - - - - - - - - - - - - - - - - - - - \n",
      "DCF (Discounted Cash Flow) 방법은 기업의 미래 현금흐름을 현재 가치로 환산하여 기업가치를 산정하는 방법론입니다. \n",
      "\n",
      "1. 먼저, Free Cash Flow to Equity (FCFE)를 계산합니다. FCFE는 기업이 영업활동을 통해 발생한 현금흐름 중 자본주주에게 배당될 수 있는 현금흐름을 말합니다. FCFE는 일반적으로 다음과 같이 계산됩니다:\n",
      "\n",
      "FCFE = Operating Cash Flow - Capital Expenditures + Net Borrowing\n",
      "\n",
      "2. 다음으로, Weighted Average Cost of Capital (WACC)를 계산합니다. WACC는 기업의 자본과 부채의 비용을 고려하여 가중평균한 것으로, 기업의 자본조달 비용을 나타냅니다. WACC는 일반적으로 다음과 같이 계산됩니다:\n",
      "\n",
      "WACC = (E/V) * Re + (D/V) * Rd * (1 - Tax Rate)\n",
      "\n",
      "여기서, E는 기업의 자본가치, V는 기업의 총가치, Re는 자본의 비용, D는 기업의 부채가치, Rd는 부채의 비용, Tax Rate는 세율을 나타냅니다.\n",
      "\n",
      "3. 5년간 FCFE의 성장률과 Terminal Value의 성장률을 고려하여 DCF 모델을 구성합니다. 5년간 FCFE의 성장률은 2.76%로, Terminal Value의 성장률은 1%로 가정하였습니다.\n",
      "\n",
      "4. 마지막으로, DCF 모델을 사용하여 삼성전자의 주당 가치를 계산합니다. 주당 가치는 17740원으로 나왔습니다.\n",
      "\n",
      "따라서, 삼성전자의 현재 주가와 DCF 모델을 통해 계산된 주당 가치를 비교하여 삼성전자의 주가가 현재 고평가되었는지 혹은 저평가되었는지를 판단할 수 있습니다."
     ]
    }
   ],
   "source": [
    "from langchain_core.runnables import RunnableConfig\n",
    "from langchain_teddynote.messages import stream_graph, random_uuid\n",
    "\n",
    "# config 설정(재귀 최대 횟수, thread_id)\n",
    "config = RunnableConfig(recursion_limit=10, configurable={\"thread_id\": random_uuid()})\n",
    "\n",
    "# 질문 입력\n",
    "inputs = GraphState(question=\"삼성전자의 주가가 어떻게 될것 같아?\")\n",
    "\n",
    "# 그래프 실행\n",
    "stream_graph(app, inputs, config, [START,\"route_question\", \"valuation_calculator\", \"valuation_llm\",END])"
   ]
  }
 ],
 "metadata": {
  "kernelspec": {
   "display_name": "valuation-kO8nQuny-py3.11",
   "language": "python",
   "name": "python3"
  },
  "language_info": {
   "codemirror_mode": {
    "name": "ipython",
    "version": 3
   },
   "file_extension": ".py",
   "mimetype": "text/x-python",
   "name": "python",
   "nbconvert_exporter": "python",
   "pygments_lexer": "ipython3",
   "version": "3.11.9"
  }
 },
 "nbformat": 4,
 "nbformat_minor": 2
}
