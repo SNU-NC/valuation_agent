{
 "cells": [
  {
   "cell_type": "code",
   "execution_count": 1,
   "metadata": {},
   "outputs": [
    {
     "data": {
      "text/plain": [
       "True"
      ]
     },
     "execution_count": 1,
     "metadata": {},
     "output_type": "execute_result"
    }
   ],
   "source": [
    "from segment_sales_crawling.financial_report_analyzer_soomin import FinancialAnalyzer\n",
    "from dotenv import load_dotenv\n",
    "load_dotenv()"
   ]
  },
  {
   "cell_type": "code",
   "execution_count": 7,
   "metadata": {},
   "outputs": [
    {
     "name": "stdout",
     "output_type": "stream",
     "text": [
      "보고서: 분기보고서 (2023.09)\n",
      "URL: http://dart.fss.or.kr/report/viewer.do?rcpNo=20231114001064&dcmNo=9495461&eleId=13&offset=58163&length=14449&dtd=dart3.xsd\n",
      "\n",
      "보고서: 사업보고서 (2023.12)\n",
      "URL: http://dart.fss.or.kr/report/viewer.do?rcpNo=20240318000570&dcmNo=9725722&eleId=13&offset=205191&length=12854&dtd=dart4.xsd\n",
      "\n",
      "보고서: 분기보고서 (2024.03)\n",
      "URL: http://dart.fss.or.kr/report/viewer.do?rcpNo=20240516000420&dcmNo=9947241&eleId=13&offset=60694&length=14388&dtd=dart4.xsd\n",
      "\n",
      "보고서: 반기보고서 (2024.06)\n",
      "URL: http://dart.fss.or.kr/report/viewer.do?rcpNo=20240814002241&dcmNo=10067583&eleId=13&offset=204722&length=13104&dtd=dart4.xsd\n",
      "\n",
      "보고서: 분기보고서 (2024.09)\n",
      "URL: http://dart.fss.or.kr/report/viewer.do?rcpNo=20241114002758&dcmNo=10186462&eleId=13&offset=55873&length=13099&dtd=dart4.xsd\n",
      "\n",
      "경고: 7개의 추가 값이 무시되었습니다.\n",
      "경고: 7개의 추가 값이 무시되었습니다.\n"
     ]
    },
    {
     "data": {
      "text/html": [
       "<div>\n",
       "<style scoped>\n",
       "    .dataframe tbody tr th:only-of-type {\n",
       "        vertical-align: middle;\n",
       "    }\n",
       "\n",
       "    .dataframe tbody tr th {\n",
       "        vertical-align: top;\n",
       "    }\n",
       "\n",
       "    .dataframe thead th {\n",
       "        text-align: right;\n",
       "    }\n",
       "</style>\n",
       "<table border=\"1\" class=\"dataframe\">\n",
       "  <thead>\n",
       "    <tr style=\"text-align: right;\">\n",
       "      <th></th>\n",
       "      <th>계정</th>\n",
       "      <th>분기보고서 2023.09</th>\n",
       "      <th>사업보고서 2023.12</th>\n",
       "      <th>분기보고서 2024.03</th>\n",
       "      <th>반기보고서 2024.06</th>\n",
       "      <th>분기보고서 2024.09</th>\n",
       "      <th>단위</th>\n",
       "    </tr>\n",
       "  </thead>\n",
       "  <tbody>\n",
       "    <tr>\n",
       "      <th>0</th>\n",
       "      <td>사업부문</td>\n",
       "      <td>9986679</td>\n",
       "      <td>6614124</td>\n",
       "      <td>3338838</td>\n",
       "      <td>13123166</td>\n",
       "      <td>9733333</td>\n",
       "      <td>백만원</td>\n",
       "    </tr>\n",
       "    <tr>\n",
       "      <th>1</th>\n",
       "      <td>무선통신 사업</td>\n",
       "      <td>13123166</td>\n",
       "      <td>2018087</td>\n",
       "      <td>1003694</td>\n",
       "      <td>3928020</td>\n",
       "      <td>12942316</td>\n",
       "      <td>백만원</td>\n",
       "    </tr>\n",
       "    <tr>\n",
       "      <th>2</th>\n",
       "      <td>유선통신 사업</td>\n",
       "      <td>12942316</td>\n",
       "      <td>264759</td>\n",
       "      <td>132079</td>\n",
       "      <td>557325</td>\n",
       "      <td>12718473</td>\n",
       "      <td>백만원</td>\n",
       "    </tr>\n",
       "    <tr>\n",
       "      <th>3</th>\n",
       "      <td>기타사업</td>\n",
       "      <td>3041080</td>\n",
       "      <td>8896970</td>\n",
       "      <td>4474611</td>\n",
       "      <td>17608511</td>\n",
       "      <td>2930678</td>\n",
       "      <td>백만원</td>\n",
       "    </tr>\n",
       "    <tr>\n",
       "      <th>4</th>\n",
       "      <td>합 계</td>\n",
       "      <td>3928020</td>\n",
       "      <td>0</td>\n",
       "      <td>0</td>\n",
       "      <td>0</td>\n",
       "      <td>3812989</td>\n",
       "      <td>백만원</td>\n",
       "    </tr>\n",
       "  </tbody>\n",
       "</table>\n",
       "</div>"
      ],
      "text/plain": [
       "        계정  분기보고서 2023.09  사업보고서 2023.12  분기보고서 2024.03  반기보고서 2024.06  \\\n",
       "0     사업부문        9986679        6614124        3338838       13123166   \n",
       "1  무선통신 사업       13123166        2018087        1003694        3928020   \n",
       "2  유선통신 사업       12942316         264759         132079         557325   \n",
       "3     기타사업        3041080        8896970        4474611       17608511   \n",
       "4      합 계        3928020              0              0              0   \n",
       "\n",
       "   분기보고서 2024.09     단위  \n",
       "0        9733333    백만원  \n",
       "1       12942316    백만원  \n",
       "2       12718473    백만원  \n",
       "3        2930678    백만원  \n",
       "4        3812989    백만원  "
      ]
     },
     "execution_count": 7,
     "metadata": {},
     "output_type": "execute_result"
    }
   ],
   "source": [
    "company_name = \"SK텔레콤\"\n",
    "\n",
    "analyzer = FinancialAnalyzer(\"4925a6e6e69d8f9138f4d9814f56f371b2b2079a\")\n",
    "segment_sales_df = analyzer.analyze_company(company_name)\n",
    "segment_sales_df"
   ]
  },
  {
   "cell_type": "code",
   "execution_count": 3,
   "metadata": {},
   "outputs": [],
   "source": [
    "# 숫자형 열만 선택하여 10**8 곱하기\n",
    "numeric_columns = segment_sales_df.select_dtypes(include=['float64', 'int64']).columns\n",
    "segment_sales_df[numeric_columns] = segment_sales_df[numeric_columns] * (10**8)"
   ]
  },
  {
   "cell_type": "code",
   "execution_count": null,
   "metadata": {},
   "outputs": [],
   "source": [
    "segment_sales_df.drop(columns=['단위'], inplace=True)"
   ]
  },
  {
   "cell_type": "code",
   "execution_count": null,
   "metadata": {},
   "outputs": [],
   "source": []
  },
  {
   "cell_type": "code",
   "execution_count": 5,
   "metadata": {},
   "outputs": [],
   "source": [
    "import OpenDartReader\n",
    "\n",
    "dart = OpenDartReader(\"4925a6e6e69d8f9138f4d9814f56f371b2b2079a\")"
   ]
  },
  {
   "cell_type": "code",
   "execution_count": null,
   "metadata": {},
   "outputs": [],
   "source": [
    "sorted_df = dart.list('삼성전자', start='2023-01-01', kind='A').sort_values('rcept_dt', ascending=True)"
   ]
  },
  {
   "cell_type": "code",
   "execution_count": 7,
   "metadata": {},
   "outputs": [],
   "source": [
    "from segment_sales_crawling.financial_report_analyzer_soomin import ReportFilter\n",
    "\n",
    "filtered_df = ReportFilter.filter_annual_reports(sorted_df)"
   ]
  },
  {
   "cell_type": "code",
   "execution_count": 8,
   "metadata": {},
   "outputs": [],
   "source": [
    "import re\n",
    "\n",
    "oldest_report = filtered_df.iloc[0]['report_nm']\n",
    "oldest_year = int(re.search(r'\\((\\d{4})', oldest_report).group(1))\n",
    "oldest_month = int(re.search(r'\\.(\\d{2})', oldest_report).group(1))"
   ]
  },
  {
   "cell_type": "code",
   "execution_count": 9,
   "metadata": {},
   "outputs": [],
   "source": [
    "latest_report = filtered_df.iloc[-1]['report_nm']\n",
    "latest_year = int(re.search(r'\\((\\d{4})', latest_report).group(1))\n",
    "latest_month = int(re.search(r'\\.(\\d{2})', latest_report).group(1))"
   ]
  },
  {
   "cell_type": "code",
   "execution_count": 10,
   "metadata": {},
   "outputs": [],
   "source": [
    "report_code_dict = {\n",
    "    3: [11013,11012,11014,11011,11013], # 3월일 경우 : 1분기, 반기, 3분기, 사업, 1분기\n",
    "    6: [11012,11014,11011,11013,11012], # 6월일 경우 : 반기, 3분기, 사업, 1분기, 반기\n",
    "    9: [11014,11011,11013,11012,11014], # 9월일 경우 : 3분기, 사업, 1분기, 반기, 3분기\n",
    "    12: [11011,11013,11012,11014,11011], # 12월일 경우 : 사업, 1분기, 반기, 3분기, 사업\n",
    "    }"
   ]
  },
  {
   "cell_type": "code",
   "execution_count": 11,
   "metadata": {},
   "outputs": [],
   "source": [
    "def str_to_int(value):\n",
    "    if isinstance(value, str):\n",
    "        return int(value.replace(',', ''))\n",
    "    return value"
   ]
  },
  {
   "cell_type": "code",
   "execution_count": 12,
   "metadata": {},
   "outputs": [],
   "source": [
    "company_name = \"NAVER\"\n",
    "\n",
    "n = 5-latest_month//3 \n",
    "# 9월 = 3분기 -> 5-3 = 2 -> 3분기,4분기 = 이전 년도 2개 분기값 필요\n",
    "# 6월 = 2분기 -> 5-2 = 3 -> 2분기,3분기,4분기 = 이전 년도 3개 분기값 필요\n",
    "# 3월 = 1분기 -> 5-1 = 4 -> 1분기,2분기,3분기,4분기 = 이전 년도 4개 분기값 필요\n",
    "# 12월 = 4분기 -> 5-4 = 1 -> 4분기 = 이전 년도 1개 분기값 필요\n",
    "\n",
    "save_values_dict = {}\n",
    "\n",
    "for i in report_code_dict[latest_month][:n]:\n",
    "    df = dart.finstate(company_name,oldest_year,reprt_code=str(i))\n",
    "    if str(i) == '11011':\n",
    "        sales = str_to_int(df.loc[(df['account_nm'] == '매출액') & (df['fs_nm'] == '연결재무제표')]['thstrm_amount'].iloc[0])               \n",
    "        operating_profit = str_to_int(df.loc[(df['account_nm'] == '영업이익') & (df['fs_nm'] == '연결재무제표')]['thstrm_amount'].iloc[0])\n",
    "        net_profit = str_to_int(df.loc[(df['account_nm'] == '당기순이익') & (df['fs_nm'] == '연결재무제표')]['thstrm_amount'].iloc[0])\n",
    "        save_values_dict[str(oldest_year)+\"-\"+str(i)] = [sales, operating_profit, net_profit]\n",
    "    else:\n",
    "        sales = str_to_int(df.loc[(df['account_nm'] == '매출액') & (df['fs_nm'] == '연결재무제표')]['thstrm_add_amount'].iloc[0])\n",
    "        operating_profit = str_to_int(df.loc[(df['account_nm'] == '영업이익') & (df['fs_nm'] == '연결재무제표')]['thstrm_add_amount'].iloc[0])\n",
    "        net_profit = str_to_int(df.loc[(df['account_nm'] == '당기순이익') & (df['fs_nm'] == '연결재무제표')]['thstrm_add_amount'].iloc[0])\n",
    "        save_values_dict[str(oldest_year)+\"-\"+str(i)] = [sales, operating_profit, net_profit]"
   ]
  },
  {
   "cell_type": "code",
   "execution_count": 13,
   "metadata": {},
   "outputs": [],
   "source": [
    "for i in report_code_dict[latest_month][n:5]:\n",
    "    df = dart.finstate(company_name,latest_year,reprt_code=str(i))\n",
    "    if str(i) == '11011':\n",
    "        sales = str_to_int(df.loc[(df['account_nm'] == '매출액') & (df['fs_nm'] == '연결재무제표')]['thstrm_amount'].iloc[0])\n",
    "        operating_profit = str_to_int(df.loc[(df['account_nm'] == '영업이익') & (df['fs_nm'] == '연결재무제표')]['thstrm_amount'].iloc[0])\n",
    "        net_profit = str_to_int(df.loc[(df['account_nm'] == '당기순이익') & (df['fs_nm'] == '연결재무제표')]['thstrm_amount'].iloc[0])\n",
    "        save_values_dict[str(latest_year)+\"-\"+str(i)] = [sales, operating_profit, net_profit]\n",
    "    else:\n",
    "        sales = str_to_int(df.loc[(df['account_nm'] == '매출액') & (df['fs_nm'] == '연결재무제표')]['thstrm_add_amount'].iloc[0])\n",
    "        operating_profit = str_to_int(df.loc[(df['account_nm'] == '영업이익') & (df['fs_nm'] == '연결재무제표')]['thstrm_add_amount'].iloc[0])\n",
    "        net_profit = str_to_int(df.loc[(df['account_nm'] == '당기순이익') & (df['fs_nm'] == '연결재무제표')]['thstrm_add_amount'].iloc[0])\n",
    "        save_values_dict[str(latest_year)+\"-\"+str(i)] = [sales, operating_profit, net_profit]\n"
   ]
  },
  {
   "cell_type": "code",
   "execution_count": null,
   "metadata": {},
   "outputs": [],
   "source": [
    "save_values_dict"
   ]
  },
  {
   "cell_type": "code",
   "execution_count": null,
   "metadata": {},
   "outputs": [],
   "source": [
    "import pandas as pd\n",
    "\n",
    "df = pd.DataFrame(save_values_dict).T.transpose()\n",
    "new_column_name = \"사업부문\"\n",
    "df.insert(0, new_column_name, ['영업수익', '영업이익', '순이익'])\n",
    "df\n"
   ]
  },
  {
   "cell_type": "code",
   "execution_count": null,
   "metadata": {},
   "outputs": [],
   "source": [
    "df.columns = result_df.columns\n",
    "final_df = pd.concat([result_df, df], axis=0, ignore_index=True)\n",
    "final_df\n"
   ]
  }
 ],
 "metadata": {
  "kernelspec": {
   "display_name": "valuation-UdwnI30N-py3.11",
   "language": "python",
   "name": "python3"
  },
  "language_info": {
   "codemirror_mode": {
    "name": "ipython",
    "version": 3
   },
   "file_extension": ".py",
   "mimetype": "text/x-python",
   "name": "python",
   "nbconvert_exporter": "python",
   "pygments_lexer": "ipython3",
   "version": "3.11.9"
  }
 },
 "nbformat": 4,
 "nbformat_minor": 2
}
