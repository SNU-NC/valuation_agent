{
 "cells": [
  {
   "cell_type": "code",
   "execution_count": 1,
   "metadata": {},
   "outputs": [],
   "source": [
    "from segment_sales_crawling.quarterly_financial_data import QuarterlyFinancialData\n",
    "import pandas as pd\n",
    "\n",
    "target_ticker_df = pd.read_excel(\"/Users/jaahyun/valuation_agent/report_agent/data/target_quarterly_financial_data.xlsx\",dtype={'종목코드': str})"
   ]
  },
  {
   "cell_type": "code",
   "execution_count": 2,
   "metadata": {},
   "outputs": [
    {
     "data": {
      "text/html": [
       "<div>\n",
       "<style scoped>\n",
       "    .dataframe tbody tr th:only-of-type {\n",
       "        vertical-align: middle;\n",
       "    }\n",
       "\n",
       "    .dataframe tbody tr th {\n",
       "        vertical-align: top;\n",
       "    }\n",
       "\n",
       "    .dataframe thead th {\n",
       "        text-align: right;\n",
       "    }\n",
       "</style>\n",
       "<table border=\"1\" class=\"dataframe\">\n",
       "  <thead>\n",
       "    <tr style=\"text-align: right;\">\n",
       "      <th></th>\n",
       "      <th>종목코드</th>\n",
       "      <th>종목명</th>\n",
       "    </tr>\n",
       "  </thead>\n",
       "  <tbody>\n",
       "    <tr>\n",
       "      <th>0</th>\n",
       "      <td>373220</td>\n",
       "      <td>LG에너지솔루션</td>\n",
       "    </tr>\n",
       "    <tr>\n",
       "      <th>1</th>\n",
       "      <td>017670</td>\n",
       "      <td>SK텔레콤</td>\n",
       "    </tr>\n",
       "    <tr>\n",
       "      <th>2</th>\n",
       "      <td>251270</td>\n",
       "      <td>넷마블</td>\n",
       "    </tr>\n",
       "    <tr>\n",
       "      <th>3</th>\n",
       "      <td>003490</td>\n",
       "      <td>대한항공</td>\n",
       "    </tr>\n",
       "    <tr>\n",
       "      <th>4</th>\n",
       "      <td>034020</td>\n",
       "      <td>두산에너빌리티</td>\n",
       "    </tr>\n",
       "    <tr>\n",
       "      <th>5</th>\n",
       "      <td>005930</td>\n",
       "      <td>삼성전자</td>\n",
       "    </tr>\n",
       "    <tr>\n",
       "      <th>6</th>\n",
       "      <td>035720</td>\n",
       "      <td>카카오</td>\n",
       "    </tr>\n",
       "    <tr>\n",
       "      <th>7</th>\n",
       "      <td>003670</td>\n",
       "      <td>포스코퓨처엠</td>\n",
       "    </tr>\n",
       "    <tr>\n",
       "      <th>8</th>\n",
       "      <td>000880</td>\n",
       "      <td>한화</td>\n",
       "    </tr>\n",
       "    <tr>\n",
       "      <th>9</th>\n",
       "      <td>000370</td>\n",
       "      <td>한화손해보험</td>\n",
       "    </tr>\n",
       "    <tr>\n",
       "      <th>10</th>\n",
       "      <td>005380</td>\n",
       "      <td>현대차</td>\n",
       "    </tr>\n",
       "    <tr>\n",
       "      <th>11</th>\n",
       "      <td>000660</td>\n",
       "      <td>SK하이닉스</td>\n",
       "    </tr>\n",
       "    <tr>\n",
       "      <th>12</th>\n",
       "      <td>035420</td>\n",
       "      <td>NAVER</td>\n",
       "    </tr>\n",
       "  </tbody>\n",
       "</table>\n",
       "</div>"
      ],
      "text/plain": [
       "      종목코드       종목명\n",
       "0   373220  LG에너지솔루션\n",
       "1   017670     SK텔레콤\n",
       "2   251270       넷마블\n",
       "3   003490      대한항공\n",
       "4   034020   두산에너빌리티\n",
       "5   005930      삼성전자\n",
       "6   035720       카카오\n",
       "7   003670    포스코퓨처엠\n",
       "8   000880        한화\n",
       "9   000370    한화손해보험\n",
       "10  005380       현대차\n",
       "11  000660    SK하이닉스\n",
       "12  035420     NAVER"
      ]
     },
     "execution_count": 2,
     "metadata": {},
     "output_type": "execute_result"
    }
   ],
   "source": [
    "target_ticker_df"
   ]
  },
  {
   "cell_type": "code",
   "execution_count": 3,
   "metadata": {},
   "outputs": [],
   "source": [
    "target_tickers = target_ticker_df['종목코드'].tolist()"
   ]
  },
  {
   "cell_type": "code",
   "execution_count": 4,
   "metadata": {},
   "outputs": [],
   "source": [
    "for ticker in target_tickers:\n",
    "    qfd = QuarterlyFinancialData(ticker=ticker, api_key='4925a6e6e69d8f9138f4d9814f56f371b2b2079a')\n",
    "    df = qfd.make_quarterly_financial_data_df()\n",
    "    df.to_excel(f\"/Users/jaahyun/valuation_agent/report_agent/data/quarterly_financial_data/{ticker}_quarterly_financial_data.xlsx\", index=False)"
   ]
  }
 ],
 "metadata": {
  "kernelspec": {
   "display_name": "valuation-UdwnI30N-py3.11",
   "language": "python",
   "name": "python3"
  },
  "language_info": {
   "codemirror_mode": {
    "name": "ipython",
    "version": 3
   },
   "file_extension": ".py",
   "mimetype": "text/x-python",
   "name": "python",
   "nbconvert_exporter": "python",
   "pygments_lexer": "ipython3",
   "version": "3.11.9"
  }
 },
 "nbformat": 4,
 "nbformat_minor": 2
}
